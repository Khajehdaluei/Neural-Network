{
  "cells": [
    {
      "cell_type": "code",
      "execution_count": 3,
      "id": "ddf791ea",
      "metadata": {
        "id": "ddf791ea"
      },
      "outputs": [],
      "source": [
        "## Milan\n",
        "\n",
        "import numpy as np\n",
        "import pandas as pd\n",
        "import tensorflow as tf\n",
        "from tensorflow import keras\n",
        "from tensorflow.keras.models import Sequential ,Model\n",
        "from tensorflow.keras.layers import Dense, Dropout, LSTM, LSTM, BatchNormalization,Embedding,TimeDistributed ,Input ,Flatten,SimpleRNN\n",
        "from tensorflow.keras.callbacks import CSVLogger , EarlyStopping , ModelCheckpoint\n",
        "from sklearn.metrics import accuracy_score ,classification_report ,confusion_matrix,ConfusionMatrixDisplay\n",
        "from collections import deque\n",
        "import random\n",
        "import matplotlib.pyplot as plt\n",
        "from matplotlib.pyplot import figure\n",
        "%matplotlib inline "
      ]
    },
    {
      "cell_type": "code",
      "execution_count": 4,
      "id": "01e838c4",
      "metadata": {
        "colab": {
          "base_uri": "https://localhost:8080/"
        },
        "id": "01e838c4",
        "outputId": "60574f15-5224-4233-d287-f8b7331c8335"
      },
      "outputs": [
        {
          "output_type": "stream",
          "name": "stdout",
          "text": [
            "Drive already mounted at /content/drive; to attempt to forcibly remount, call drive.mount(\"/content/drive\", force_remount=True).\n"
          ]
        }
      ],
      "source": [
        "# #-----sistem\n",
        "# path_to_file = \"data_onehot.csv\"\n",
        "\n",
        "#Google\n",
        "from google.colab import drive\n",
        "drive.mount('/content/drive')\n",
        "path_to_file = \"./drive/MyDrive/deep/Milan/data_onehot.csv\""
      ]
    },
    {
      "cell_type": "code",
      "execution_count": 5,
      "id": "ea8a026b",
      "metadata": {
        "id": "ea8a026b"
      },
      "outputs": [],
      "source": [
        "data= pd.read_csv(path_to_file ,header='infer',sep=',') #,names=['Data','time','senssor','value_senssor','activety','value_activety'])\n",
        "\n",
        "# lable= data.activety\n",
        "# #----------------- set and len\n",
        "# # label\n",
        "# vocab_lable = sorted(set(lable))                # sort unique data\n",
        "# n_activety=len(vocab_lable)\n",
        "# print ('{} unique characters'.format(n_activety))\n",
        "\n"
      ]
    },
    {
      "cell_type": "code",
      "execution_count": 6,
      "id": "4e572f46",
      "metadata": {
        "id": "4e572f46"
      },
      "outputs": [],
      "source": [
        "df=data\n",
        "sequential_data = [] \n",
        "\n",
        "# #------RNN\n",
        "# SEQ_LEN=5\n",
        "# prev_days = deque(maxlen=SEQ_LEN)  # These will be our actual sequences. They are made with deque, which keeps the maximum length by popping out older values as new ones come in\n",
        "# for i in df.values:  # iterate over the values\n",
        "#     prev_days.append([n for n in i[:-1]])  # store all but the target\n",
        "#     if len(prev_days) == SEQ_LEN:  # make sure we have 60 sequences!\n",
        "#         sequential_data.append([np.array(prev_days), i[-1]])  # append those bad boys!\n",
        "\n",
        "#------MLP\n",
        "for i in df.values:  # iterate over the values\n",
        "    sequential_data.append([np.array([n for n in i[:-1]]), i[-1]])  # append those bad boys!\n",
        "\n",
        "random.shuffle(sequential_data)  # shuffle for good measure.\n"
      ]
    },
    {
      "cell_type": "code",
      "execution_count": 7,
      "id": "eec89858",
      "metadata": {
        "colab": {
          "base_uri": "https://localhost:8080/"
        },
        "id": "eec89858",
        "outputId": "aa481996-471a-42b0-c69d-de731fe46516"
      },
      "outputs": [
        {
          "output_type": "stream",
          "name": "stdout",
          "text": [
            " \n"
          ]
        }
      ],
      "source": [
        "\n",
        "t0,t1,t2,t3,t4,t5,t6,t7,t8,t9,t10,t11,t12,t13,t14 = [],[],[],[],[],[],[],[],[],[],[],[],[],[],[]\n",
        "\n",
        "for seq, target in sequential_data: \n",
        "    if target == 0:  \n",
        "        t0.append([seq, target])  \n",
        "    elif target == 1: \n",
        "        t1.append([seq, target])  \n",
        "    elif target == 2: \n",
        "        t2.append([seq, target])   \n",
        "    elif target == 3: \n",
        "        t3.append([seq, target])   \n",
        "    elif target == 4: \n",
        "        t4.append([seq, target])   \n",
        "    elif target == 5: \n",
        "        t5.append([seq, target])   \n",
        "    elif target == 6: \n",
        "        t6.append([seq, target])   \n",
        "    elif target == 7: \n",
        "        t7.append([seq, target])   \n",
        "    elif target == 8: \n",
        "        t8.append([seq, target])   \n",
        "    elif target == 9: \n",
        "        t9.append([seq, target])   \n",
        "    elif target == 10: \n",
        "        t10.append([seq, target])   \n",
        "    elif target == 11: \n",
        "        t11.append([seq, target])   \n",
        "    elif target == 12: \n",
        "        t12.append([seq, target])   \n",
        "    elif target == 13: \n",
        "        t13.append([seq, target])   \n",
        "    elif target == 14: \n",
        "        t14.append([seq, target]) \n",
        "\n",
        "random.shuffle(t0),random.shuffle(t1),random.shuffle(t2),random.shuffle(t3),random.shuffle(t4),random.shuffle(t5),random.shuffle(t6),random.shuffle(t7),random.shuffle(t8),random.shuffle(t9),random.shuffle(t10),random.shuffle(t11),random.shuffle(t12),random.shuffle(t13),random.shuffle(t14)\n",
        "print(' ')"
      ]
    },
    {
      "cell_type": "code",
      "execution_count": 8,
      "id": "374e630a",
      "metadata": {
        "id": "374e630a"
      },
      "outputs": [],
      "source": [
        "t0_l,t1_l,t2_l,t3_l,t4_l,t5_l,t6_l,t7_l,t8_l,t9_l,t10_l,t11_l,t12_l,t13_l,t14_l = len(t0),len(t1),len(t2),len(t3),len(t4),len(t5),len(t6),len(t7),len(t8),len(t9),len(t10),len(t11),len(t12),len(t13),len(t14)\n",
        "\n",
        "train_size= 0.7\n",
        "test_size= 0.25\n",
        "\n",
        "t0_l_train , t0_l_test = int(t0_l*train_size) ,int(t0_l*test_size)  \n",
        "t1_l_train , t1_l_test = int(t1_l*train_size) ,int(t1_l*test_size) \n",
        "t2_l_train , t2_l_test = int(t2_l*train_size) ,int(t2_l*test_size) \n",
        "t3_l_train , t3_l_test = int(t3_l*train_size) ,int(t3_l*test_size) \n",
        "t4_l_train , t4_l_test = int(t4_l*train_size) ,int(t4_l*test_size) \n",
        "t5_l_train , t5_l_test = int(t5_l*train_size) ,int(t5_l*test_size) \n",
        "t6_l_train , t6_l_test = int(t6_l*train_size) ,int(t6_l*test_size) \n",
        "t7_l_train , t7_l_test = int(t7_l*train_size) ,int(t7_l*test_size) \n",
        "t8_l_train , t8_l_test = int(t8_l*train_size) ,int(t8_l*test_size) \n",
        "t9_l_train , t9_l_test = int(t9_l*train_size) ,int(t9_l*test_size) \n",
        "t10_l_train , t10_l_test = int(t10_l*train_size) ,int(t10_l*test_size) \n",
        "t11_l_train , t11_l_test = int(t11_l*train_size) ,int(t11_l*test_size) \n",
        "t12_l_train , t12_l_test = int(t12_l*train_size) ,int(t12_l*test_size) \n",
        "t13_l_train , t13_l_test = int(t13_l*train_size) ,int(t13_l*test_size) \n",
        "t14_l_train , t14_l_test = int(t14_l*train_size) ,int(t14_l*test_size) \n",
        "\n",
        "train_t0,train_t1,train_t2,train_t3,train_t4,train_t5,train_t6,train_t7,train_t8,train_t9,train_t10 = t0[:t0_l_train],t1[:t1_l_train],t2[:t2_l_train],t3[:t3_l_train],t4[:t4_l_train],t5[:t5_l_train],t6[:t6_l_train],t7[:t7_l_train],t8[:t8_l_train],t9[:t9_l_train],t10[:t10_l_train]\n",
        "test_t0,test_t1,test_t2,test_t3,test_t4,test_t5,test_t6,test_t7,test_t8,test_t9,test_t10 = t0[t0_l_train:t0_l_train+t0_l_test] ,t1[t1_l_train:t1_l_train+t1_l_test],t2[t2_l_train:t2_l_train+t2_l_test],t3[t3_l_train:t3_l_train+t3_l_test],t4[t4_l_train:t4_l_train+t4_l_test],t5[t5_l_train:t5_l_train+t5_l_test],t6[t6_l_train:t6_l_train+t6_l_test],t7[t7_l_train:t7_l_train+t7_l_test],t8[t8_l_train:t8_l_train+t8_l_test],t9[t9_l_train:t9_l_train+t9_l_test],t10[t10_l_train:t10_l_train+t10_l_test]\n",
        "val_t0,val_t1,val_t2,val_t3,val_t4,val_t5,val_t6,val_t7,val_t8,val_t9,val_t10 = t0[t0_l_train+t0_l_test:] ,t1[t1_l_train+t1_l_test:],t2[t2_l_train+t2_l_test:],t3[t3_l_train+t3_l_test:],t4[t4_l_train+t4_l_test:],t5[t5_l_train+t5_l_test:],t6[t6_l_train+t6_l_test:],t7[t7_l_train+t7_l_test:],t8[t8_l_train+t8_l_test:],t9[t9_l_train+t9_l_test:],t10[t10_l_train+t10_l_test:]\n",
        "\n",
        "train_t11, train_t12, train_t13, train_t14 = t11[:t11_l_train] , t12[:t12_l_train] , t13[:t13_l_train] , t14[:t14_l_train]\n",
        "test_t11, test_t12, test_t13, test_t14 = t11[t11_l_train:t11_l_train+t11_l_test] , t12[t12_l_train:t12_l_train+t12_l_test] , t13[t13_l_train:t13_l_train+t13_l_test] , t14[t14_l_train:t14_l_train+t14_l_test]\n",
        "val_t11, val_t12, val_t13, val_t14 = t11[t11_l_train+t11_l_test:] , t12[t12_l_train+t12_l_test:] , t13[t13_l_train+t13_l_test:] , t14[t14_l_train+t14_l_test:] \n",
        "\n",
        "sequential_train = train_t0 + train_t1 + train_t2 + train_t3 +train_t4 + train_t5 + train_t6 + train_t7 + train_t8 + train_t9 + train_t10 + train_t11 + train_t12 + train_t13 + train_t14\n",
        "sequential_test = test_t0+ test_t1+ test_t2+ test_t3+ test_t4+ test_t5+ test_t6+ test_t7+ test_t8+ test_t9+ test_t10+ test_t11+ test_t12+ test_t13+ test_t14\n",
        "sequential_val = val_t0+ val_t1+ val_t2+ val_t3+ val_t4+ val_t5+ val_t6+ val_t7+ val_t8+ val_t9+ val_t10+ val_t11+ val_t12+ val_t13+ val_t14\n"
      ]
    },
    {
      "cell_type": "code",
      "execution_count": 9,
      "id": "fcfd7472",
      "metadata": {
        "colab": {
          "base_uri": "https://localhost:8080/"
        },
        "id": "fcfd7472",
        "outputId": "783e4634-2d52-4422-dc47-bf41ed9a1ff4"
      },
      "outputs": [
        {
          "output_type": "stream",
          "name": "stdout",
          "text": [
            "(164627, 37)\n",
            "(164627,)\n",
            "(58795, 37)\n",
            "(58795,)\n",
            "(11770, 37)\n",
            "(11770,)\n"
          ]
        }
      ],
      "source": [
        "x_train , y_train , x_test , y_test , x_val , y_val = [] ,[] ,[] ,[] ,[] ,[] \n",
        "\n",
        "for seq, target in sequential_train:  \n",
        "        x_train.append(seq)  \n",
        "        y_train.append(target)  \n",
        "x_train=np.array(x_train)\n",
        "y_train=np.array(y_train)\n",
        "\n",
        "for seq, target in sequential_test:  \n",
        "        x_test.append(seq)  \n",
        "        y_test.append(target)  \n",
        "x_test=np.array(x_test)\n",
        "y_test=np.array(y_test)\n",
        "\n",
        "for seq, target in sequential_val:  \n",
        "        x_val.append(seq)  \n",
        "        y_val.append(target)  \n",
        "x_val=np.array(x_val)\n",
        "y_val=np.array(y_val)\n",
        "\n",
        "print(x_train.shape)\n",
        "print(y_train.shape)\n",
        "print(x_test.shape)\n",
        "print(y_test.shape)\n",
        "print(x_val.shape)\n",
        "print(y_val.shape)"
      ]
    },
    {
      "cell_type": "code",
      "execution_count": 96,
      "id": "75aa2cf2",
      "metadata": {
        "id": "75aa2cf2"
      },
      "outputs": [],
      "source": [
        "model = Sequential()\n",
        "\n",
        "model.add(keras.Input(shape=(x_train.shape[1:]),name=\"Input_layer\"))\n",
        "model.add(BatchNormalization(name=\"BatchNormalization_layer_1\"))\n",
        "\n",
        "# model.add(LSTM(128,return_sequences=True,name=\"LSTM_layer_1\"))\n",
        "# model.add(Dropout(0.2,name=\"Dropout_layer_1\"))\n",
        "# model.add(BatchNormalization(name=\"BatchNormalization_layer_2\"))\n",
        "\n",
        "# model.add(LSTM(128,name=\"LSTM_layer_2\"))\n",
        "# model.add(Dropout(0.2,name=\"Dropout_layer_2\"))\n",
        "# model.add(BatchNormalization(name=\"BatchNormalization_layer_3\"))\n",
        "\n",
        "model.add(Dense(64, activation='relu',name=\"Dense_layer_1\"))\n",
        "model.add(Dropout(0.2,name=\"Dropout_layer_3\"))\n",
        "\n",
        "model.add(Dense(64, activation='relu',name=\"Dense_layer_2\"))\n",
        "model.add(Dropout(0.2,name=\"Dropout_layer_4\"))\n",
        "\n",
        "model.add(Dense(15, activation='softmax',name=\"Output_layer\"))"
      ]
    },
    {
      "cell_type": "code",
      "execution_count": 97,
      "id": "ec976ffc",
      "metadata": {
        "colab": {
          "base_uri": "https://localhost:8080/"
        },
        "id": "ec976ffc",
        "outputId": "d7d0ece6-2b74-4b3e-8db5-77cbe3c2e593"
      },
      "outputs": [
        {
          "output_type": "stream",
          "name": "stdout",
          "text": [
            "Model: \"sequential_3\"\n",
            "_________________________________________________________________\n",
            " Layer (type)                Output Shape              Param #   \n",
            "=================================================================\n",
            " BatchNormalization_layer_1   (None, 37)               148       \n",
            " (BatchNormalization)                                            \n",
            "                                                                 \n",
            " Dense_layer_1 (Dense)       (None, 64)                2432      \n",
            "                                                                 \n",
            " Dropout_layer_3 (Dropout)   (None, 64)                0         \n",
            "                                                                 \n",
            " Dense_layer_2 (Dense)       (None, 64)                4160      \n",
            "                                                                 \n",
            " Dropout_layer_4 (Dropout)   (None, 64)                0         \n",
            "                                                                 \n",
            " Output_layer (Dense)        (None, 15)                975       \n",
            "                                                                 \n",
            "=================================================================\n",
            "Total params: 7,715\n",
            "Trainable params: 7,641\n",
            "Non-trainable params: 74\n",
            "_________________________________________________________________\n"
          ]
        }
      ],
      "source": [
        "keras.utils.plot_model(model, \"Structure.jpg\", show_shapes=True)\n",
        "model.summary()"
      ]
    },
    {
      "cell_type": "code",
      "source": [
        "csv_logger = CSVLogger('training.log')\n",
        "early_stopping = EarlyStopping(patience=20, monitor='val_accuracy')\n",
        "\n",
        "checkpoint_path ='best_model.h5'\n",
        "ckpt_callback = ModelCheckpoint(filepath= checkpoint_path,\n",
        "                                monitor='val_accuracy',\n",
        "                                save_best_only=True,\n",
        "                                save_weights_only=False)"
      ],
      "metadata": {
        "id": "sffxZgErq4dU"
      },
      "id": "sffxZgErq4dU",
      "execution_count": 98,
      "outputs": []
    },
    {
      "cell_type": "code",
      "execution_count": 99,
      "id": "67261fdf",
      "metadata": {
        "id": "67261fdf"
      },
      "outputs": [],
      "source": [
        "opt = keras.optimizers.Adam(learning_rate=0.001, decay=1e-6)\n",
        "\n",
        "loss_fn = keras.losses.SparseCategoricalCrossentropy()#from_logits=True) #Sparse one hot kardan automatic target #from_logits emal tafe softmax vaghti linier gozashtim khorogy ro\n",
        "model.compile(\n",
        "    loss=loss_fn,\n",
        "    optimizer=opt,\n",
        "    metrics=['accuracy']\n",
        ")\n"
      ]
    },
    {
      "cell_type": "code",
      "execution_count": 100,
      "id": "2bc57f72",
      "metadata": {
        "colab": {
          "base_uri": "https://localhost:8080/"
        },
        "id": "2bc57f72",
        "outputId": "5b90a32e-7321-4653-a3d9-316b4b556977"
      },
      "outputs": [
        {
          "output_type": "stream",
          "name": "stdout",
          "text": [
            "Epoch 1/1000\n",
            "21/21 [==============================] - 2s 45ms/step - loss: 2.3604 - accuracy: 0.3070 - val_loss: 1.9970 - val_accuracy: 0.4071\n",
            "Epoch 2/1000\n",
            "21/21 [==============================] - 1s 37ms/step - loss: 1.6766 - accuracy: 0.5548 - val_loss: 1.8174 - val_accuracy: 0.4992\n",
            "Epoch 3/1000\n",
            "21/21 [==============================] - 1s 64ms/step - loss: 1.3020 - accuracy: 0.6410 - val_loss: 1.6258 - val_accuracy: 0.5489\n",
            "Epoch 4/1000\n",
            "21/21 [==============================] - 2s 73ms/step - loss: 1.1575 - accuracy: 0.6744 - val_loss: 1.5187 - val_accuracy: 0.5832\n",
            "Epoch 5/1000\n",
            "21/21 [==============================] - 1s 62ms/step - loss: 1.0940 - accuracy: 0.6888 - val_loss: 1.4259 - val_accuracy: 0.6116\n",
            "Epoch 6/1000\n",
            "21/21 [==============================] - 1s 36ms/step - loss: 1.0626 - accuracy: 0.6949 - val_loss: 1.3454 - val_accuracy: 0.6387\n",
            "Epoch 7/1000\n",
            "21/21 [==============================] - 1s 36ms/step - loss: 1.0379 - accuracy: 0.7003 - val_loss: 1.2702 - val_accuracy: 0.6534\n",
            "Epoch 8/1000\n",
            "21/21 [==============================] - 1s 37ms/step - loss: 1.0198 - accuracy: 0.7045 - val_loss: 1.2152 - val_accuracy: 0.6776\n",
            "Epoch 9/1000\n",
            "21/21 [==============================] - 1s 36ms/step - loss: 1.0055 - accuracy: 0.7084 - val_loss: 1.1613 - val_accuracy: 0.6871\n",
            "Epoch 10/1000\n",
            "21/21 [==============================] - 1s 36ms/step - loss: 0.9898 - accuracy: 0.7120 - val_loss: 1.1097 - val_accuracy: 0.6968\n",
            "Epoch 11/1000\n",
            "21/21 [==============================] - 1s 36ms/step - loss: 0.9752 - accuracy: 0.7155 - val_loss: 1.0673 - val_accuracy: 0.7055\n",
            "Epoch 12/1000\n",
            "21/21 [==============================] - 1s 37ms/step - loss: 0.9650 - accuracy: 0.7172 - val_loss: 1.0274 - val_accuracy: 0.7166\n",
            "Epoch 13/1000\n",
            "21/21 [==============================] - 1s 36ms/step - loss: 0.9546 - accuracy: 0.7209 - val_loss: 0.9989 - val_accuracy: 0.7213\n",
            "Epoch 14/1000\n",
            "21/21 [==============================] - 1s 37ms/step - loss: 0.9431 - accuracy: 0.7234 - val_loss: 0.9694 - val_accuracy: 0.7247\n",
            "Epoch 15/1000\n",
            "21/21 [==============================] - 1s 37ms/step - loss: 0.9344 - accuracy: 0.7241 - val_loss: 0.9457 - val_accuracy: 0.7275\n",
            "Epoch 16/1000\n",
            "21/21 [==============================] - 1s 36ms/step - loss: 0.9284 - accuracy: 0.7267 - val_loss: 0.9237 - val_accuracy: 0.7292\n",
            "Epoch 17/1000\n",
            "21/21 [==============================] - 1s 37ms/step - loss: 0.9216 - accuracy: 0.7269 - val_loss: 0.9054 - val_accuracy: 0.7297\n",
            "Epoch 18/1000\n",
            "21/21 [==============================] - 1s 36ms/step - loss: 0.9154 - accuracy: 0.7280 - val_loss: 0.8911 - val_accuracy: 0.7306\n",
            "Epoch 19/1000\n",
            "21/21 [==============================] - 1s 37ms/step - loss: 0.9107 - accuracy: 0.7300 - val_loss: 0.8770 - val_accuracy: 0.7347\n",
            "Epoch 20/1000\n",
            "21/21 [==============================] - 1s 36ms/step - loss: 0.9072 - accuracy: 0.7300 - val_loss: 0.8702 - val_accuracy: 0.7337\n",
            "Epoch 21/1000\n",
            "21/21 [==============================] - 1s 37ms/step - loss: 0.9007 - accuracy: 0.7308 - val_loss: 0.8594 - val_accuracy: 0.7335\n",
            "Epoch 22/1000\n",
            "21/21 [==============================] - 1s 36ms/step - loss: 0.8977 - accuracy: 0.7304 - val_loss: 0.8500 - val_accuracy: 0.7350\n",
            "Epoch 23/1000\n",
            "21/21 [==============================] - 1s 36ms/step - loss: 0.8937 - accuracy: 0.7314 - val_loss: 0.8470 - val_accuracy: 0.7352\n",
            "Epoch 24/1000\n",
            "21/21 [==============================] - 1s 37ms/step - loss: 0.8899 - accuracy: 0.7338 - val_loss: 0.8410 - val_accuracy: 0.7361\n",
            "Epoch 25/1000\n",
            "21/21 [==============================] - 1s 37ms/step - loss: 0.8878 - accuracy: 0.7329 - val_loss: 0.8356 - val_accuracy: 0.7370\n",
            "Epoch 26/1000\n",
            "21/21 [==============================] - 1s 37ms/step - loss: 0.8855 - accuracy: 0.7332 - val_loss: 0.8324 - val_accuracy: 0.7385\n",
            "Epoch 27/1000\n",
            "21/21 [==============================] - 1s 36ms/step - loss: 0.8823 - accuracy: 0.7344 - val_loss: 0.8295 - val_accuracy: 0.7381\n",
            "Epoch 28/1000\n",
            "21/21 [==============================] - 1s 36ms/step - loss: 0.8774 - accuracy: 0.7354 - val_loss: 0.8265 - val_accuracy: 0.7419\n",
            "Epoch 29/1000\n",
            "21/21 [==============================] - 1s 36ms/step - loss: 0.8751 - accuracy: 0.7355 - val_loss: 0.8229 - val_accuracy: 0.7407\n",
            "Epoch 30/1000\n",
            "21/21 [==============================] - 1s 36ms/step - loss: 0.8723 - accuracy: 0.7366 - val_loss: 0.8213 - val_accuracy: 0.7408\n",
            "Epoch 31/1000\n",
            "21/21 [==============================] - 1s 37ms/step - loss: 0.8698 - accuracy: 0.7375 - val_loss: 0.8182 - val_accuracy: 0.7424\n",
            "Epoch 32/1000\n",
            "21/21 [==============================] - 1s 38ms/step - loss: 0.8671 - accuracy: 0.7379 - val_loss: 0.8157 - val_accuracy: 0.7432\n",
            "Epoch 33/1000\n",
            "21/21 [==============================] - 1s 37ms/step - loss: 0.8658 - accuracy: 0.7388 - val_loss: 0.8137 - val_accuracy: 0.7455\n",
            "Epoch 34/1000\n",
            "21/21 [==============================] - 1s 36ms/step - loss: 0.8618 - accuracy: 0.7388 - val_loss: 0.8119 - val_accuracy: 0.7444\n",
            "Epoch 35/1000\n",
            "21/21 [==============================] - 1s 36ms/step - loss: 0.8619 - accuracy: 0.7397 - val_loss: 0.8097 - val_accuracy: 0.7447\n",
            "Epoch 36/1000\n",
            "21/21 [==============================] - 1s 36ms/step - loss: 0.8573 - accuracy: 0.7401 - val_loss: 0.8078 - val_accuracy: 0.7467\n",
            "Epoch 37/1000\n",
            "21/21 [==============================] - 1s 37ms/step - loss: 0.8549 - accuracy: 0.7400 - val_loss: 0.8053 - val_accuracy: 0.7477\n",
            "Epoch 38/1000\n",
            "21/21 [==============================] - 1s 36ms/step - loss: 0.8535 - accuracy: 0.7404 - val_loss: 0.8036 - val_accuracy: 0.7473\n",
            "Epoch 39/1000\n",
            "21/21 [==============================] - 1s 38ms/step - loss: 0.8496 - accuracy: 0.7426 - val_loss: 0.8009 - val_accuracy: 0.7486\n",
            "Epoch 40/1000\n",
            "21/21 [==============================] - 1s 37ms/step - loss: 0.8490 - accuracy: 0.7421 - val_loss: 0.7980 - val_accuracy: 0.7497\n",
            "Epoch 41/1000\n",
            "21/21 [==============================] - 1s 37ms/step - loss: 0.8476 - accuracy: 0.7430 - val_loss: 0.7958 - val_accuracy: 0.7499\n",
            "Epoch 42/1000\n",
            "21/21 [==============================] - 1s 37ms/step - loss: 0.8446 - accuracy: 0.7442 - val_loss: 0.7938 - val_accuracy: 0.7511\n",
            "Epoch 43/1000\n",
            "21/21 [==============================] - 1s 38ms/step - loss: 0.8409 - accuracy: 0.7439 - val_loss: 0.7909 - val_accuracy: 0.7534\n",
            "Epoch 44/1000\n",
            "21/21 [==============================] - 1s 36ms/step - loss: 0.8387 - accuracy: 0.7459 - val_loss: 0.7878 - val_accuracy: 0.7529\n",
            "Epoch 45/1000\n",
            "21/21 [==============================] - 1s 37ms/step - loss: 0.8354 - accuracy: 0.7461 - val_loss: 0.7845 - val_accuracy: 0.7541\n",
            "Epoch 46/1000\n",
            "21/21 [==============================] - 1s 37ms/step - loss: 0.8325 - accuracy: 0.7470 - val_loss: 0.7812 - val_accuracy: 0.7560\n",
            "Epoch 47/1000\n",
            "21/21 [==============================] - 1s 36ms/step - loss: 0.8303 - accuracy: 0.7475 - val_loss: 0.7771 - val_accuracy: 0.7558\n",
            "Epoch 48/1000\n",
            "21/21 [==============================] - 1s 36ms/step - loss: 0.8255 - accuracy: 0.7492 - val_loss: 0.7741 - val_accuracy: 0.7562\n",
            "Epoch 49/1000\n",
            "21/21 [==============================] - 1s 37ms/step - loss: 0.8238 - accuracy: 0.7497 - val_loss: 0.7700 - val_accuracy: 0.7572\n",
            "Epoch 50/1000\n",
            "21/21 [==============================] - 1s 37ms/step - loss: 0.8206 - accuracy: 0.7507 - val_loss: 0.7662 - val_accuracy: 0.7612\n",
            "Epoch 51/1000\n",
            "21/21 [==============================] - 1s 36ms/step - loss: 0.8175 - accuracy: 0.7519 - val_loss: 0.7630 - val_accuracy: 0.7607\n",
            "Epoch 52/1000\n",
            "21/21 [==============================] - 1s 37ms/step - loss: 0.8156 - accuracy: 0.7522 - val_loss: 0.7596 - val_accuracy: 0.7620\n",
            "Epoch 53/1000\n",
            "21/21 [==============================] - 1s 37ms/step - loss: 0.8117 - accuracy: 0.7530 - val_loss: 0.7566 - val_accuracy: 0.7634\n",
            "Epoch 54/1000\n",
            "21/21 [==============================] - 1s 37ms/step - loss: 0.8105 - accuracy: 0.7544 - val_loss: 0.7549 - val_accuracy: 0.7639\n",
            "Epoch 55/1000\n",
            "21/21 [==============================] - 1s 36ms/step - loss: 0.8066 - accuracy: 0.7548 - val_loss: 0.7522 - val_accuracy: 0.7636\n",
            "Epoch 56/1000\n",
            "21/21 [==============================] - 1s 36ms/step - loss: 0.8052 - accuracy: 0.7553 - val_loss: 0.7497 - val_accuracy: 0.7652\n",
            "Epoch 57/1000\n",
            "21/21 [==============================] - 1s 36ms/step - loss: 0.8029 - accuracy: 0.7564 - val_loss: 0.7478 - val_accuracy: 0.7642\n",
            "Epoch 58/1000\n",
            "21/21 [==============================] - 1s 37ms/step - loss: 0.7998 - accuracy: 0.7561 - val_loss: 0.7453 - val_accuracy: 0.7656\n",
            "Epoch 59/1000\n",
            "21/21 [==============================] - 1s 36ms/step - loss: 0.8006 - accuracy: 0.7559 - val_loss: 0.7438 - val_accuracy: 0.7638\n",
            "Epoch 60/1000\n",
            "21/21 [==============================] - 1s 35ms/step - loss: 0.7977 - accuracy: 0.7567 - val_loss: 0.7426 - val_accuracy: 0.7655\n",
            "Epoch 61/1000\n",
            "21/21 [==============================] - 1s 36ms/step - loss: 0.7958 - accuracy: 0.7571 - val_loss: 0.7408 - val_accuracy: 0.7639\n",
            "Epoch 62/1000\n",
            "21/21 [==============================] - 1s 36ms/step - loss: 0.7916 - accuracy: 0.7585 - val_loss: 0.7398 - val_accuracy: 0.7650\n",
            "Epoch 63/1000\n",
            "21/21 [==============================] - 1s 37ms/step - loss: 0.7926 - accuracy: 0.7575 - val_loss: 0.7385 - val_accuracy: 0.7647\n",
            "Epoch 64/1000\n",
            "21/21 [==============================] - 1s 37ms/step - loss: 0.7900 - accuracy: 0.7576 - val_loss: 0.7370 - val_accuracy: 0.7664\n",
            "Epoch 65/1000\n",
            "21/21 [==============================] - 1s 35ms/step - loss: 0.7895 - accuracy: 0.7583 - val_loss: 0.7361 - val_accuracy: 0.7648\n",
            "Epoch 66/1000\n",
            "21/21 [==============================] - 1s 36ms/step - loss: 0.7895 - accuracy: 0.7578 - val_loss: 0.7344 - val_accuracy: 0.7658\n",
            "Epoch 67/1000\n",
            "21/21 [==============================] - 1s 37ms/step - loss: 0.7870 - accuracy: 0.7573 - val_loss: 0.7341 - val_accuracy: 0.7657\n",
            "Epoch 68/1000\n",
            "21/21 [==============================] - 1s 41ms/step - loss: 0.7861 - accuracy: 0.7589 - val_loss: 0.7324 - val_accuracy: 0.7661\n",
            "Epoch 69/1000\n",
            "21/21 [==============================] - 1s 39ms/step - loss: 0.7839 - accuracy: 0.7600 - val_loss: 0.7305 - val_accuracy: 0.7663\n",
            "Epoch 70/1000\n",
            "21/21 [==============================] - 1s 37ms/step - loss: 0.7836 - accuracy: 0.7594 - val_loss: 0.7302 - val_accuracy: 0.7673\n",
            "Epoch 71/1000\n",
            "21/21 [==============================] - 1s 37ms/step - loss: 0.7811 - accuracy: 0.7602 - val_loss: 0.7296 - val_accuracy: 0.7666\n",
            "Epoch 72/1000\n",
            "21/21 [==============================] - 1s 36ms/step - loss: 0.7809 - accuracy: 0.7606 - val_loss: 0.7284 - val_accuracy: 0.7665\n",
            "Epoch 73/1000\n",
            "21/21 [==============================] - 1s 36ms/step - loss: 0.7799 - accuracy: 0.7614 - val_loss: 0.7269 - val_accuracy: 0.7681\n",
            "Epoch 74/1000\n",
            "21/21 [==============================] - 1s 36ms/step - loss: 0.7798 - accuracy: 0.7608 - val_loss: 0.7262 - val_accuracy: 0.7669\n",
            "Epoch 75/1000\n",
            "21/21 [==============================] - 1s 36ms/step - loss: 0.7789 - accuracy: 0.7603 - val_loss: 0.7254 - val_accuracy: 0.7668\n",
            "Epoch 76/1000\n",
            "21/21 [==============================] - 1s 36ms/step - loss: 0.7782 - accuracy: 0.7612 - val_loss: 0.7238 - val_accuracy: 0.7676\n",
            "Epoch 77/1000\n",
            "21/21 [==============================] - 1s 36ms/step - loss: 0.7767 - accuracy: 0.7609 - val_loss: 0.7233 - val_accuracy: 0.7675\n",
            "Epoch 78/1000\n",
            "21/21 [==============================] - 1s 37ms/step - loss: 0.7759 - accuracy: 0.7613 - val_loss: 0.7227 - val_accuracy: 0.7684\n",
            "Epoch 79/1000\n",
            "21/21 [==============================] - 1s 39ms/step - loss: 0.7750 - accuracy: 0.7613 - val_loss: 0.7213 - val_accuracy: 0.7687\n",
            "Epoch 80/1000\n",
            "21/21 [==============================] - 1s 39ms/step - loss: 0.7728 - accuracy: 0.7610 - val_loss: 0.7206 - val_accuracy: 0.7691\n",
            "Epoch 81/1000\n",
            "21/21 [==============================] - 1s 38ms/step - loss: 0.7724 - accuracy: 0.7620 - val_loss: 0.7205 - val_accuracy: 0.7698\n",
            "Epoch 82/1000\n",
            "21/21 [==============================] - 1s 37ms/step - loss: 0.7725 - accuracy: 0.7619 - val_loss: 0.7203 - val_accuracy: 0.7683\n",
            "Epoch 83/1000\n",
            "21/21 [==============================] - 1s 37ms/step - loss: 0.7706 - accuracy: 0.7620 - val_loss: 0.7188 - val_accuracy: 0.7693\n",
            "Epoch 84/1000\n",
            "21/21 [==============================] - 1s 36ms/step - loss: 0.7708 - accuracy: 0.7626 - val_loss: 0.7173 - val_accuracy: 0.7686\n",
            "Epoch 85/1000\n",
            "21/21 [==============================] - 1s 37ms/step - loss: 0.7690 - accuracy: 0.7632 - val_loss: 0.7172 - val_accuracy: 0.7688\n",
            "Epoch 86/1000\n",
            "21/21 [==============================] - 1s 36ms/step - loss: 0.7688 - accuracy: 0.7625 - val_loss: 0.7168 - val_accuracy: 0.7690\n",
            "Epoch 87/1000\n",
            "21/21 [==============================] - 1s 37ms/step - loss: 0.7675 - accuracy: 0.7629 - val_loss: 0.7159 - val_accuracy: 0.7712\n",
            "Epoch 88/1000\n",
            "21/21 [==============================] - 1s 36ms/step - loss: 0.7667 - accuracy: 0.7625 - val_loss: 0.7151 - val_accuracy: 0.7691\n",
            "Epoch 89/1000\n",
            "21/21 [==============================] - 1s 37ms/step - loss: 0.7671 - accuracy: 0.7629 - val_loss: 0.7150 - val_accuracy: 0.7693\n",
            "Epoch 90/1000\n",
            "21/21 [==============================] - 1s 36ms/step - loss: 0.7647 - accuracy: 0.7636 - val_loss: 0.7136 - val_accuracy: 0.7694\n",
            "Epoch 91/1000\n",
            "21/21 [==============================] - 1s 37ms/step - loss: 0.7651 - accuracy: 0.7632 - val_loss: 0.7131 - val_accuracy: 0.7703\n",
            "Epoch 92/1000\n",
            "21/21 [==============================] - 1s 37ms/step - loss: 0.7636 - accuracy: 0.7641 - val_loss: 0.7118 - val_accuracy: 0.7698\n",
            "Epoch 93/1000\n",
            "21/21 [==============================] - 1s 36ms/step - loss: 0.7631 - accuracy: 0.7638 - val_loss: 0.7118 - val_accuracy: 0.7707\n",
            "Epoch 94/1000\n",
            "21/21 [==============================] - 1s 36ms/step - loss: 0.7627 - accuracy: 0.7641 - val_loss: 0.7114 - val_accuracy: 0.7705\n",
            "Epoch 95/1000\n",
            "21/21 [==============================] - 1s 37ms/step - loss: 0.7626 - accuracy: 0.7637 - val_loss: 0.7109 - val_accuracy: 0.7700\n",
            "Epoch 96/1000\n",
            "21/21 [==============================] - 1s 39ms/step - loss: 0.7629 - accuracy: 0.7635 - val_loss: 0.7099 - val_accuracy: 0.7723\n",
            "Epoch 97/1000\n",
            "21/21 [==============================] - 1s 38ms/step - loss: 0.7617 - accuracy: 0.7636 - val_loss: 0.7092 - val_accuracy: 0.7709\n",
            "Epoch 98/1000\n",
            "21/21 [==============================] - 1s 36ms/step - loss: 0.7588 - accuracy: 0.7637 - val_loss: 0.7089 - val_accuracy: 0.7703\n",
            "Epoch 99/1000\n",
            "21/21 [==============================] - 1s 37ms/step - loss: 0.7596 - accuracy: 0.7650 - val_loss: 0.7090 - val_accuracy: 0.7721\n",
            "Epoch 100/1000\n",
            "21/21 [==============================] - 1s 65ms/step - loss: 0.7581 - accuracy: 0.7651 - val_loss: 0.7069 - val_accuracy: 0.7727\n",
            "Epoch 101/1000\n",
            "21/21 [==============================] - 1s 37ms/step - loss: 0.7566 - accuracy: 0.7651 - val_loss: 0.7073 - val_accuracy: 0.7724\n",
            "Epoch 102/1000\n",
            "21/21 [==============================] - 1s 36ms/step - loss: 0.7574 - accuracy: 0.7650 - val_loss: 0.7072 - val_accuracy: 0.7726\n",
            "Epoch 103/1000\n",
            "21/21 [==============================] - 1s 37ms/step - loss: 0.7575 - accuracy: 0.7647 - val_loss: 0.7061 - val_accuracy: 0.7717\n",
            "Epoch 104/1000\n",
            "21/21 [==============================] - 1s 35ms/step - loss: 0.7571 - accuracy: 0.7652 - val_loss: 0.7046 - val_accuracy: 0.7719\n",
            "Epoch 105/1000\n",
            "21/21 [==============================] - 1s 36ms/step - loss: 0.7541 - accuracy: 0.7662 - val_loss: 0.7054 - val_accuracy: 0.7716\n",
            "Epoch 106/1000\n",
            "21/21 [==============================] - 1s 36ms/step - loss: 0.7543 - accuracy: 0.7659 - val_loss: 0.7043 - val_accuracy: 0.7722\n",
            "Epoch 107/1000\n",
            "21/21 [==============================] - 1s 37ms/step - loss: 0.7542 - accuracy: 0.7652 - val_loss: 0.7031 - val_accuracy: 0.7720\n",
            "Epoch 108/1000\n",
            "21/21 [==============================] - 1s 37ms/step - loss: 0.7530 - accuracy: 0.7665 - val_loss: 0.7032 - val_accuracy: 0.7727\n",
            "Epoch 109/1000\n",
            "21/21 [==============================] - 1s 38ms/step - loss: 0.7512 - accuracy: 0.7660 - val_loss: 0.7023 - val_accuracy: 0.7745\n",
            "Epoch 110/1000\n",
            "21/21 [==============================] - 1s 36ms/step - loss: 0.7530 - accuracy: 0.7664 - val_loss: 0.7011 - val_accuracy: 0.7740\n",
            "Epoch 111/1000\n",
            "21/21 [==============================] - 1s 36ms/step - loss: 0.7535 - accuracy: 0.7655 - val_loss: 0.7011 - val_accuracy: 0.7734\n",
            "Epoch 112/1000\n",
            "21/21 [==============================] - 1s 36ms/step - loss: 0.7517 - accuracy: 0.7672 - val_loss: 0.7000 - val_accuracy: 0.7739\n",
            "Epoch 113/1000\n",
            "21/21 [==============================] - 1s 36ms/step - loss: 0.7515 - accuracy: 0.7669 - val_loss: 0.6994 - val_accuracy: 0.7742\n",
            "Epoch 114/1000\n",
            "21/21 [==============================] - 1s 38ms/step - loss: 0.7500 - accuracy: 0.7671 - val_loss: 0.6988 - val_accuracy: 0.7749\n",
            "Epoch 115/1000\n",
            "21/21 [==============================] - 1s 36ms/step - loss: 0.7494 - accuracy: 0.7671 - val_loss: 0.6980 - val_accuracy: 0.7749\n",
            "Epoch 116/1000\n",
            "21/21 [==============================] - 1s 36ms/step - loss: 0.7490 - accuracy: 0.7675 - val_loss: 0.6979 - val_accuracy: 0.7748\n",
            "Epoch 117/1000\n",
            "21/21 [==============================] - 1s 35ms/step - loss: 0.7480 - accuracy: 0.7680 - val_loss: 0.6982 - val_accuracy: 0.7748\n",
            "Epoch 118/1000\n",
            "21/21 [==============================] - 1s 38ms/step - loss: 0.7484 - accuracy: 0.7677 - val_loss: 0.6973 - val_accuracy: 0.7750\n",
            "Epoch 119/1000\n",
            "21/21 [==============================] - 1s 36ms/step - loss: 0.7481 - accuracy: 0.7675 - val_loss: 0.6966 - val_accuracy: 0.7742\n",
            "Epoch 120/1000\n",
            "21/21 [==============================] - 1s 37ms/step - loss: 0.7470 - accuracy: 0.7677 - val_loss: 0.6958 - val_accuracy: 0.7749\n",
            "Epoch 121/1000\n",
            "21/21 [==============================] - 1s 36ms/step - loss: 0.7464 - accuracy: 0.7684 - val_loss: 0.6958 - val_accuracy: 0.7749\n",
            "Epoch 122/1000\n",
            "21/21 [==============================] - 1s 37ms/step - loss: 0.7448 - accuracy: 0.7681 - val_loss: 0.6944 - val_accuracy: 0.7753\n",
            "Epoch 123/1000\n",
            "21/21 [==============================] - 1s 37ms/step - loss: 0.7458 - accuracy: 0.7674 - val_loss: 0.6949 - val_accuracy: 0.7760\n",
            "Epoch 124/1000\n",
            "21/21 [==============================] - 1s 36ms/step - loss: 0.7433 - accuracy: 0.7685 - val_loss: 0.6939 - val_accuracy: 0.7749\n",
            "Epoch 125/1000\n",
            "21/21 [==============================] - 1s 35ms/step - loss: 0.7441 - accuracy: 0.7676 - val_loss: 0.6929 - val_accuracy: 0.7756\n",
            "Epoch 126/1000\n",
            "21/21 [==============================] - 1s 37ms/step - loss: 0.7425 - accuracy: 0.7698 - val_loss: 0.6927 - val_accuracy: 0.7756\n",
            "Epoch 127/1000\n",
            "21/21 [==============================] - 1s 38ms/step - loss: 0.7423 - accuracy: 0.7689 - val_loss: 0.6924 - val_accuracy: 0.7766\n",
            "Epoch 128/1000\n",
            "21/21 [==============================] - 1s 37ms/step - loss: 0.7432 - accuracy: 0.7691 - val_loss: 0.6911 - val_accuracy: 0.7761\n",
            "Epoch 129/1000\n",
            "21/21 [==============================] - 1s 36ms/step - loss: 0.7414 - accuracy: 0.7692 - val_loss: 0.6905 - val_accuracy: 0.7771\n",
            "Epoch 130/1000\n",
            "21/21 [==============================] - 1s 37ms/step - loss: 0.7410 - accuracy: 0.7700 - val_loss: 0.6902 - val_accuracy: 0.7774\n",
            "Epoch 131/1000\n",
            "21/21 [==============================] - 1s 37ms/step - loss: 0.7403 - accuracy: 0.7697 - val_loss: 0.6898 - val_accuracy: 0.7767\n",
            "Epoch 132/1000\n",
            "21/21 [==============================] - 1s 38ms/step - loss: 0.7404 - accuracy: 0.7692 - val_loss: 0.6893 - val_accuracy: 0.7776\n",
            "Epoch 133/1000\n",
            "21/21 [==============================] - 1s 37ms/step - loss: 0.7386 - accuracy: 0.7701 - val_loss: 0.6885 - val_accuracy: 0.7772\n",
            "Epoch 134/1000\n",
            "21/21 [==============================] - 1s 37ms/step - loss: 0.7379 - accuracy: 0.7694 - val_loss: 0.6881 - val_accuracy: 0.7767\n",
            "Epoch 135/1000\n",
            "21/21 [==============================] - 1s 37ms/step - loss: 0.7387 - accuracy: 0.7697 - val_loss: 0.6876 - val_accuracy: 0.7766\n",
            "Epoch 136/1000\n",
            "21/21 [==============================] - 1s 36ms/step - loss: 0.7392 - accuracy: 0.7704 - val_loss: 0.6871 - val_accuracy: 0.7764\n",
            "Epoch 137/1000\n",
            "21/21 [==============================] - 1s 37ms/step - loss: 0.7382 - accuracy: 0.7696 - val_loss: 0.6869 - val_accuracy: 0.7778\n",
            "Epoch 138/1000\n",
            "21/21 [==============================] - 1s 36ms/step - loss: 0.7378 - accuracy: 0.7700 - val_loss: 0.6861 - val_accuracy: 0.7767\n",
            "Epoch 139/1000\n",
            "21/21 [==============================] - 1s 38ms/step - loss: 0.7368 - accuracy: 0.7707 - val_loss: 0.6855 - val_accuracy: 0.7782\n",
            "Epoch 140/1000\n",
            "21/21 [==============================] - 1s 37ms/step - loss: 0.7361 - accuracy: 0.7704 - val_loss: 0.6857 - val_accuracy: 0.7779\n",
            "Epoch 141/1000\n",
            "21/21 [==============================] - 1s 39ms/step - loss: 0.7358 - accuracy: 0.7704 - val_loss: 0.6857 - val_accuracy: 0.7793\n",
            "Epoch 142/1000\n",
            "21/21 [==============================] - 1s 36ms/step - loss: 0.7359 - accuracy: 0.7706 - val_loss: 0.6856 - val_accuracy: 0.7781\n",
            "Epoch 143/1000\n",
            "21/21 [==============================] - 1s 37ms/step - loss: 0.7356 - accuracy: 0.7703 - val_loss: 0.6848 - val_accuracy: 0.7780\n",
            "Epoch 144/1000\n",
            "21/21 [==============================] - 1s 37ms/step - loss: 0.7348 - accuracy: 0.7710 - val_loss: 0.6839 - val_accuracy: 0.7792\n",
            "Epoch 145/1000\n",
            "21/21 [==============================] - 1s 37ms/step - loss: 0.7339 - accuracy: 0.7710 - val_loss: 0.6836 - val_accuracy: 0.7779\n",
            "Epoch 146/1000\n",
            "21/21 [==============================] - 1s 36ms/step - loss: 0.7344 - accuracy: 0.7712 - val_loss: 0.6843 - val_accuracy: 0.7777\n",
            "Epoch 147/1000\n",
            "21/21 [==============================] - 1s 38ms/step - loss: 0.7366 - accuracy: 0.7712 - val_loss: 0.6835 - val_accuracy: 0.7800\n",
            "Epoch 148/1000\n",
            "21/21 [==============================] - 1s 37ms/step - loss: 0.7333 - accuracy: 0.7714 - val_loss: 0.6831 - val_accuracy: 0.7785\n",
            "Epoch 149/1000\n",
            "21/21 [==============================] - 1s 36ms/step - loss: 0.7325 - accuracy: 0.7719 - val_loss: 0.6823 - val_accuracy: 0.7791\n",
            "Epoch 150/1000\n",
            "21/21 [==============================] - 1s 36ms/step - loss: 0.7330 - accuracy: 0.7715 - val_loss: 0.6819 - val_accuracy: 0.7794\n",
            "Epoch 151/1000\n",
            "21/21 [==============================] - 1s 37ms/step - loss: 0.7327 - accuracy: 0.7719 - val_loss: 0.6815 - val_accuracy: 0.7780\n",
            "Epoch 152/1000\n",
            "21/21 [==============================] - 1s 36ms/step - loss: 0.7310 - accuracy: 0.7718 - val_loss: 0.6809 - val_accuracy: 0.7781\n",
            "Epoch 153/1000\n",
            "21/21 [==============================] - 1s 36ms/step - loss: 0.7313 - accuracy: 0.7715 - val_loss: 0.6805 - val_accuracy: 0.7796\n",
            "Epoch 154/1000\n",
            "21/21 [==============================] - 1s 38ms/step - loss: 0.7309 - accuracy: 0.7726 - val_loss: 0.6802 - val_accuracy: 0.7803\n",
            "Epoch 155/1000\n",
            "21/21 [==============================] - 1s 37ms/step - loss: 0.7293 - accuracy: 0.7724 - val_loss: 0.6794 - val_accuracy: 0.7799\n",
            "Epoch 156/1000\n",
            "21/21 [==============================] - 1s 37ms/step - loss: 0.7299 - accuracy: 0.7725 - val_loss: 0.6794 - val_accuracy: 0.7800\n",
            "Epoch 157/1000\n",
            "21/21 [==============================] - 1s 37ms/step - loss: 0.7295 - accuracy: 0.7715 - val_loss: 0.6787 - val_accuracy: 0.7782\n",
            "Epoch 158/1000\n",
            "21/21 [==============================] - 1s 36ms/step - loss: 0.7302 - accuracy: 0.7716 - val_loss: 0.6785 - val_accuracy: 0.7787\n",
            "Epoch 159/1000\n",
            "21/21 [==============================] - 1s 36ms/step - loss: 0.7278 - accuracy: 0.7729 - val_loss: 0.6786 - val_accuracy: 0.7788\n",
            "Epoch 160/1000\n",
            "21/21 [==============================] - 1s 39ms/step - loss: 0.7303 - accuracy: 0.7715 - val_loss: 0.6780 - val_accuracy: 0.7810\n",
            "Epoch 161/1000\n",
            "21/21 [==============================] - 1s 37ms/step - loss: 0.7288 - accuracy: 0.7724 - val_loss: 0.6767 - val_accuracy: 0.7805\n",
            "Epoch 162/1000\n",
            "21/21 [==============================] - 1s 39ms/step - loss: 0.7295 - accuracy: 0.7729 - val_loss: 0.6760 - val_accuracy: 0.7821\n",
            "Epoch 163/1000\n",
            "21/21 [==============================] - 1s 37ms/step - loss: 0.7287 - accuracy: 0.7730 - val_loss: 0.6764 - val_accuracy: 0.7815\n",
            "Epoch 164/1000\n",
            "21/21 [==============================] - 1s 37ms/step - loss: 0.7281 - accuracy: 0.7733 - val_loss: 0.6751 - val_accuracy: 0.7801\n",
            "Epoch 165/1000\n",
            "21/21 [==============================] - 1s 36ms/step - loss: 0.7263 - accuracy: 0.7729 - val_loss: 0.6757 - val_accuracy: 0.7812\n",
            "Epoch 166/1000\n",
            "21/21 [==============================] - 1s 37ms/step - loss: 0.7277 - accuracy: 0.7733 - val_loss: 0.6754 - val_accuracy: 0.7810\n",
            "Epoch 167/1000\n",
            "21/21 [==============================] - 1s 36ms/step - loss: 0.7273 - accuracy: 0.7729 - val_loss: 0.6748 - val_accuracy: 0.7812\n",
            "Epoch 168/1000\n",
            "21/21 [==============================] - 1s 37ms/step - loss: 0.7255 - accuracy: 0.7729 - val_loss: 0.6737 - val_accuracy: 0.7798\n",
            "Epoch 169/1000\n",
            "21/21 [==============================] - 1s 38ms/step - loss: 0.7253 - accuracy: 0.7729 - val_loss: 0.6740 - val_accuracy: 0.7822\n",
            "Epoch 170/1000\n",
            "21/21 [==============================] - 1s 37ms/step - loss: 0.7249 - accuracy: 0.7735 - val_loss: 0.6730 - val_accuracy: 0.7820\n",
            "Epoch 171/1000\n",
            "21/21 [==============================] - 1s 36ms/step - loss: 0.7241 - accuracy: 0.7740 - val_loss: 0.6726 - val_accuracy: 0.7821\n",
            "Epoch 172/1000\n",
            "21/21 [==============================] - 1s 38ms/step - loss: 0.7244 - accuracy: 0.7729 - val_loss: 0.6729 - val_accuracy: 0.7825\n",
            "Epoch 173/1000\n",
            "21/21 [==============================] - 1s 39ms/step - loss: 0.7241 - accuracy: 0.7740 - val_loss: 0.6719 - val_accuracy: 0.7828\n",
            "Epoch 174/1000\n",
            "21/21 [==============================] - 1s 37ms/step - loss: 0.7239 - accuracy: 0.7740 - val_loss: 0.6717 - val_accuracy: 0.7824\n",
            "Epoch 175/1000\n",
            "21/21 [==============================] - 1s 36ms/step - loss: 0.7228 - accuracy: 0.7741 - val_loss: 0.6709 - val_accuracy: 0.7811\n",
            "Epoch 176/1000\n",
            "21/21 [==============================] - 1s 36ms/step - loss: 0.7230 - accuracy: 0.7740 - val_loss: 0.6703 - val_accuracy: 0.7826\n",
            "Epoch 177/1000\n",
            "21/21 [==============================] - 1s 39ms/step - loss: 0.7234 - accuracy: 0.7733 - val_loss: 0.6710 - val_accuracy: 0.7832\n",
            "Epoch 178/1000\n",
            "21/21 [==============================] - 1s 37ms/step - loss: 0.7230 - accuracy: 0.7745 - val_loss: 0.6702 - val_accuracy: 0.7811\n",
            "Epoch 179/1000\n",
            "21/21 [==============================] - 1s 37ms/step - loss: 0.7233 - accuracy: 0.7745 - val_loss: 0.6699 - val_accuracy: 0.7831\n",
            "Epoch 180/1000\n",
            "21/21 [==============================] - 1s 36ms/step - loss: 0.7210 - accuracy: 0.7746 - val_loss: 0.6701 - val_accuracy: 0.7825\n",
            "Epoch 181/1000\n",
            "21/21 [==============================] - 1s 37ms/step - loss: 0.7214 - accuracy: 0.7745 - val_loss: 0.6692 - val_accuracy: 0.7814\n",
            "Epoch 182/1000\n",
            "21/21 [==============================] - 1s 38ms/step - loss: 0.7215 - accuracy: 0.7737 - val_loss: 0.6689 - val_accuracy: 0.7834\n",
            "Epoch 183/1000\n",
            "21/21 [==============================] - 1s 37ms/step - loss: 0.7211 - accuracy: 0.7744 - val_loss: 0.6685 - val_accuracy: 0.7827\n",
            "Epoch 184/1000\n",
            "21/21 [==============================] - 1s 38ms/step - loss: 0.7223 - accuracy: 0.7736 - val_loss: 0.6679 - val_accuracy: 0.7839\n",
            "Epoch 185/1000\n",
            "21/21 [==============================] - 1s 38ms/step - loss: 0.7209 - accuracy: 0.7741 - val_loss: 0.6688 - val_accuracy: 0.7841\n",
            "Epoch 186/1000\n",
            "21/21 [==============================] - 1s 37ms/step - loss: 0.7204 - accuracy: 0.7747 - val_loss: 0.6674 - val_accuracy: 0.7827\n",
            "Epoch 187/1000\n",
            "21/21 [==============================] - 1s 38ms/step - loss: 0.7202 - accuracy: 0.7754 - val_loss: 0.6669 - val_accuracy: 0.7848\n",
            "Epoch 188/1000\n",
            "21/21 [==============================] - 1s 37ms/step - loss: 0.7205 - accuracy: 0.7755 - val_loss: 0.6669 - val_accuracy: 0.7822\n",
            "Epoch 189/1000\n",
            "21/21 [==============================] - 1s 38ms/step - loss: 0.7207 - accuracy: 0.7740 - val_loss: 0.6673 - val_accuracy: 0.7856\n",
            "Epoch 190/1000\n",
            "21/21 [==============================] - 1s 36ms/step - loss: 0.7198 - accuracy: 0.7750 - val_loss: 0.6667 - val_accuracy: 0.7836\n",
            "Epoch 191/1000\n",
            "21/21 [==============================] - 1s 36ms/step - loss: 0.7187 - accuracy: 0.7756 - val_loss: 0.6662 - val_accuracy: 0.7837\n",
            "Epoch 192/1000\n",
            "21/21 [==============================] - 1s 37ms/step - loss: 0.7168 - accuracy: 0.7751 - val_loss: 0.6659 - val_accuracy: 0.7849\n",
            "Epoch 193/1000\n",
            "21/21 [==============================] - 1s 37ms/step - loss: 0.7188 - accuracy: 0.7764 - val_loss: 0.6665 - val_accuracy: 0.7842\n",
            "Epoch 194/1000\n",
            "21/21 [==============================] - 1s 37ms/step - loss: 0.7181 - accuracy: 0.7750 - val_loss: 0.6658 - val_accuracy: 0.7841\n",
            "Epoch 195/1000\n",
            "21/21 [==============================] - 1s 37ms/step - loss: 0.7162 - accuracy: 0.7757 - val_loss: 0.6652 - val_accuracy: 0.7839\n",
            "Epoch 196/1000\n",
            "21/21 [==============================] - 1s 37ms/step - loss: 0.7163 - accuracy: 0.7756 - val_loss: 0.6654 - val_accuracy: 0.7839\n",
            "Epoch 197/1000\n",
            "21/21 [==============================] - 1s 39ms/step - loss: 0.7184 - accuracy: 0.7749 - val_loss: 0.6646 - val_accuracy: 0.7868\n",
            "Epoch 198/1000\n",
            "21/21 [==============================] - 1s 36ms/step - loss: 0.7156 - accuracy: 0.7768 - val_loss: 0.6639 - val_accuracy: 0.7854\n",
            "Epoch 199/1000\n",
            "21/21 [==============================] - 1s 37ms/step - loss: 0.7162 - accuracy: 0.7751 - val_loss: 0.6638 - val_accuracy: 0.7861\n",
            "Epoch 200/1000\n",
            "21/21 [==============================] - 1s 37ms/step - loss: 0.7157 - accuracy: 0.7758 - val_loss: 0.6634 - val_accuracy: 0.7865\n",
            "Epoch 201/1000\n",
            "21/21 [==============================] - 1s 38ms/step - loss: 0.7175 - accuracy: 0.7751 - val_loss: 0.6632 - val_accuracy: 0.7853\n",
            "Epoch 202/1000\n",
            "21/21 [==============================] - 1s 37ms/step - loss: 0.7155 - accuracy: 0.7751 - val_loss: 0.6635 - val_accuracy: 0.7868\n",
            "Epoch 203/1000\n",
            "21/21 [==============================] - 1s 37ms/step - loss: 0.7155 - accuracy: 0.7759 - val_loss: 0.6639 - val_accuracy: 0.7862\n",
            "Epoch 204/1000\n",
            "21/21 [==============================] - 1s 37ms/step - loss: 0.7160 - accuracy: 0.7758 - val_loss: 0.6638 - val_accuracy: 0.7849\n",
            "Epoch 205/1000\n",
            "21/21 [==============================] - 1s 37ms/step - loss: 0.7156 - accuracy: 0.7751 - val_loss: 0.6635 - val_accuracy: 0.7859\n",
            "Epoch 206/1000\n",
            "21/21 [==============================] - 1s 37ms/step - loss: 0.7154 - accuracy: 0.7762 - val_loss: 0.6617 - val_accuracy: 0.7865\n",
            "Epoch 207/1000\n",
            "21/21 [==============================] - 1s 36ms/step - loss: 0.7136 - accuracy: 0.7758 - val_loss: 0.6625 - val_accuracy: 0.7862\n",
            "Epoch 208/1000\n",
            "21/21 [==============================] - 1s 38ms/step - loss: 0.7158 - accuracy: 0.7760 - val_loss: 0.6618 - val_accuracy: 0.7850\n",
            "Epoch 209/1000\n",
            "21/21 [==============================] - 1s 37ms/step - loss: 0.7139 - accuracy: 0.7766 - val_loss: 0.6613 - val_accuracy: 0.7865\n",
            "Epoch 210/1000\n",
            "21/21 [==============================] - 1s 37ms/step - loss: 0.7125 - accuracy: 0.7768 - val_loss: 0.6607 - val_accuracy: 0.7858\n",
            "Epoch 211/1000\n",
            "21/21 [==============================] - 1s 38ms/step - loss: 0.7135 - accuracy: 0.7765 - val_loss: 0.6604 - val_accuracy: 0.7861\n",
            "Epoch 212/1000\n",
            "21/21 [==============================] - 1s 38ms/step - loss: 0.7118 - accuracy: 0.7766 - val_loss: 0.6611 - val_accuracy: 0.7862\n",
            "Epoch 213/1000\n",
            "21/21 [==============================] - 1s 38ms/step - loss: 0.7146 - accuracy: 0.7767 - val_loss: 0.6605 - val_accuracy: 0.7878\n",
            "Epoch 214/1000\n",
            "21/21 [==============================] - 1s 37ms/step - loss: 0.7133 - accuracy: 0.7769 - val_loss: 0.6597 - val_accuracy: 0.7873\n",
            "Epoch 215/1000\n",
            "21/21 [==============================] - 1s 36ms/step - loss: 0.7126 - accuracy: 0.7761 - val_loss: 0.6594 - val_accuracy: 0.7858\n",
            "Epoch 216/1000\n",
            "21/21 [==============================] - 1s 38ms/step - loss: 0.7123 - accuracy: 0.7764 - val_loss: 0.6597 - val_accuracy: 0.7884\n",
            "Epoch 217/1000\n",
            "21/21 [==============================] - 1s 36ms/step - loss: 0.7118 - accuracy: 0.7772 - val_loss: 0.6588 - val_accuracy: 0.7876\n",
            "Epoch 218/1000\n",
            "21/21 [==============================] - 1s 37ms/step - loss: 0.7132 - accuracy: 0.7765 - val_loss: 0.6586 - val_accuracy: 0.7872\n",
            "Epoch 219/1000\n",
            "21/21 [==============================] - 1s 36ms/step - loss: 0.7121 - accuracy: 0.7774 - val_loss: 0.6593 - val_accuracy: 0.7873\n",
            "Epoch 220/1000\n",
            "21/21 [==============================] - 1s 37ms/step - loss: 0.7101 - accuracy: 0.7771 - val_loss: 0.6590 - val_accuracy: 0.7882\n",
            "Epoch 221/1000\n",
            "21/21 [==============================] - 1s 37ms/step - loss: 0.7115 - accuracy: 0.7772 - val_loss: 0.6575 - val_accuracy: 0.7871\n",
            "Epoch 222/1000\n",
            "21/21 [==============================] - 1s 37ms/step - loss: 0.7109 - accuracy: 0.7775 - val_loss: 0.6572 - val_accuracy: 0.7872\n",
            "Epoch 223/1000\n",
            "21/21 [==============================] - 1s 38ms/step - loss: 0.7113 - accuracy: 0.7776 - val_loss: 0.6564 - val_accuracy: 0.7874\n",
            "Epoch 224/1000\n",
            "21/21 [==============================] - 1s 38ms/step - loss: 0.7103 - accuracy: 0.7776 - val_loss: 0.6557 - val_accuracy: 0.7878\n",
            "Epoch 225/1000\n",
            "21/21 [==============================] - 1s 37ms/step - loss: 0.7091 - accuracy: 0.7777 - val_loss: 0.6560 - val_accuracy: 0.7877\n",
            "Epoch 226/1000\n",
            "21/21 [==============================] - 1s 38ms/step - loss: 0.7108 - accuracy: 0.7778 - val_loss: 0.6565 - val_accuracy: 0.7886\n",
            "Epoch 227/1000\n",
            "21/21 [==============================] - 1s 36ms/step - loss: 0.7078 - accuracy: 0.7770 - val_loss: 0.6555 - val_accuracy: 0.7880\n",
            "Epoch 228/1000\n",
            "21/21 [==============================] - 1s 36ms/step - loss: 0.7094 - accuracy: 0.7775 - val_loss: 0.6551 - val_accuracy: 0.7880\n",
            "Epoch 229/1000\n",
            "21/21 [==============================] - 1s 37ms/step - loss: 0.7097 - accuracy: 0.7771 - val_loss: 0.6552 - val_accuracy: 0.7883\n",
            "Epoch 230/1000\n",
            "21/21 [==============================] - 1s 37ms/step - loss: 0.7095 - accuracy: 0.7780 - val_loss: 0.6551 - val_accuracy: 0.7871\n",
            "Epoch 231/1000\n",
            "21/21 [==============================] - 1s 37ms/step - loss: 0.7092 - accuracy: 0.7781 - val_loss: 0.6555 - val_accuracy: 0.7871\n",
            "Epoch 232/1000\n",
            "21/21 [==============================] - 1s 37ms/step - loss: 0.7078 - accuracy: 0.7772 - val_loss: 0.6547 - val_accuracy: 0.7880\n",
            "Epoch 233/1000\n",
            "21/21 [==============================] - 1s 37ms/step - loss: 0.7084 - accuracy: 0.7782 - val_loss: 0.6543 - val_accuracy: 0.7875\n",
            "Epoch 234/1000\n",
            "21/21 [==============================] - 1s 38ms/step - loss: 0.7073 - accuracy: 0.7773 - val_loss: 0.6537 - val_accuracy: 0.7888\n",
            "Epoch 235/1000\n",
            "21/21 [==============================] - 1s 49ms/step - loss: 0.7081 - accuracy: 0.7782 - val_loss: 0.6536 - val_accuracy: 0.7903\n",
            "Epoch 236/1000\n",
            "21/21 [==============================] - 1s 51ms/step - loss: 0.7075 - accuracy: 0.7770 - val_loss: 0.6536 - val_accuracy: 0.7890\n",
            "Epoch 237/1000\n",
            "21/21 [==============================] - 1s 37ms/step - loss: 0.7077 - accuracy: 0.7778 - val_loss: 0.6545 - val_accuracy: 0.7890\n",
            "Epoch 238/1000\n",
            "21/21 [==============================] - 1s 36ms/step - loss: 0.7075 - accuracy: 0.7771 - val_loss: 0.6537 - val_accuracy: 0.7895\n",
            "Epoch 239/1000\n",
            "21/21 [==============================] - 1s 37ms/step - loss: 0.7068 - accuracy: 0.7781 - val_loss: 0.6539 - val_accuracy: 0.7888\n",
            "Epoch 240/1000\n",
            "21/21 [==============================] - 1s 36ms/step - loss: 0.7072 - accuracy: 0.7770 - val_loss: 0.6523 - val_accuracy: 0.7898\n",
            "Epoch 241/1000\n",
            "21/21 [==============================] - 1s 37ms/step - loss: 0.7070 - accuracy: 0.7776 - val_loss: 0.6521 - val_accuracy: 0.7894\n",
            "Epoch 242/1000\n",
            "21/21 [==============================] - 1s 36ms/step - loss: 0.7066 - accuracy: 0.7779 - val_loss: 0.6526 - val_accuracy: 0.7895\n",
            "Epoch 243/1000\n",
            "21/21 [==============================] - 1s 36ms/step - loss: 0.7048 - accuracy: 0.7782 - val_loss: 0.6520 - val_accuracy: 0.7886\n",
            "Epoch 244/1000\n",
            "21/21 [==============================] - 1s 38ms/step - loss: 0.7059 - accuracy: 0.7784 - val_loss: 0.6521 - val_accuracy: 0.7887\n",
            "Epoch 245/1000\n",
            "21/21 [==============================] - 1s 38ms/step - loss: 0.7057 - accuracy: 0.7779 - val_loss: 0.6517 - val_accuracy: 0.7905\n",
            "Epoch 246/1000\n",
            "21/21 [==============================] - 1s 38ms/step - loss: 0.7054 - accuracy: 0.7783 - val_loss: 0.6509 - val_accuracy: 0.7898\n",
            "Epoch 247/1000\n",
            "21/21 [==============================] - 1s 38ms/step - loss: 0.7052 - accuracy: 0.7777 - val_loss: 0.6510 - val_accuracy: 0.7907\n",
            "Epoch 248/1000\n",
            "21/21 [==============================] - 1s 37ms/step - loss: 0.7047 - accuracy: 0.7787 - val_loss: 0.6505 - val_accuracy: 0.7893\n",
            "Epoch 249/1000\n",
            "21/21 [==============================] - 1s 37ms/step - loss: 0.7033 - accuracy: 0.7797 - val_loss: 0.6504 - val_accuracy: 0.7891\n",
            "Epoch 250/1000\n",
            "21/21 [==============================] - 1s 37ms/step - loss: 0.7061 - accuracy: 0.7788 - val_loss: 0.6500 - val_accuracy: 0.7899\n",
            "Epoch 251/1000\n",
            "21/21 [==============================] - 1s 38ms/step - loss: 0.7040 - accuracy: 0.7779 - val_loss: 0.6496 - val_accuracy: 0.7908\n",
            "Epoch 252/1000\n",
            "21/21 [==============================] - 1s 37ms/step - loss: 0.7039 - accuracy: 0.7790 - val_loss: 0.6497 - val_accuracy: 0.7888\n",
            "Epoch 253/1000\n",
            "21/21 [==============================] - 1s 39ms/step - loss: 0.7050 - accuracy: 0.7790 - val_loss: 0.6486 - val_accuracy: 0.7916\n",
            "Epoch 254/1000\n",
            "21/21 [==============================] - 1s 37ms/step - loss: 0.7026 - accuracy: 0.7785 - val_loss: 0.6485 - val_accuracy: 0.7908\n",
            "Epoch 255/1000\n",
            "21/21 [==============================] - 1s 38ms/step - loss: 0.7029 - accuracy: 0.7794 - val_loss: 0.6484 - val_accuracy: 0.7899\n",
            "Epoch 256/1000\n",
            "21/21 [==============================] - 1s 38ms/step - loss: 0.7036 - accuracy: 0.7783 - val_loss: 0.6487 - val_accuracy: 0.7901\n",
            "Epoch 257/1000\n",
            "21/21 [==============================] - 1s 39ms/step - loss: 0.7030 - accuracy: 0.7787 - val_loss: 0.6491 - val_accuracy: 0.7893\n",
            "Epoch 258/1000\n",
            "21/21 [==============================] - 1s 37ms/step - loss: 0.7025 - accuracy: 0.7792 - val_loss: 0.6488 - val_accuracy: 0.7905\n",
            "Epoch 259/1000\n",
            "21/21 [==============================] - 1s 39ms/step - loss: 0.7028 - accuracy: 0.7785 - val_loss: 0.6483 - val_accuracy: 0.7911\n",
            "Epoch 260/1000\n",
            "21/21 [==============================] - 1s 40ms/step - loss: 0.7019 - accuracy: 0.7792 - val_loss: 0.6477 - val_accuracy: 0.7928\n",
            "Epoch 261/1000\n",
            "21/21 [==============================] - 1s 37ms/step - loss: 0.7031 - accuracy: 0.7791 - val_loss: 0.6491 - val_accuracy: 0.7917\n",
            "Epoch 262/1000\n",
            "21/21 [==============================] - 1s 37ms/step - loss: 0.7016 - accuracy: 0.7797 - val_loss: 0.6475 - val_accuracy: 0.7904\n",
            "Epoch 263/1000\n",
            "21/21 [==============================] - 1s 38ms/step - loss: 0.7010 - accuracy: 0.7792 - val_loss: 0.6473 - val_accuracy: 0.7922\n",
            "Epoch 264/1000\n",
            "21/21 [==============================] - 1s 38ms/step - loss: 0.7026 - accuracy: 0.7791 - val_loss: 0.6475 - val_accuracy: 0.7908\n",
            "Epoch 265/1000\n",
            "21/21 [==============================] - 1s 37ms/step - loss: 0.7017 - accuracy: 0.7791 - val_loss: 0.6470 - val_accuracy: 0.7898\n",
            "Epoch 266/1000\n",
            "21/21 [==============================] - 1s 38ms/step - loss: 0.7018 - accuracy: 0.7795 - val_loss: 0.6474 - val_accuracy: 0.7902\n",
            "Epoch 267/1000\n",
            "21/21 [==============================] - 1s 39ms/step - loss: 0.7003 - accuracy: 0.7789 - val_loss: 0.6476 - val_accuracy: 0.7904\n",
            "Epoch 268/1000\n",
            "21/21 [==============================] - 1s 38ms/step - loss: 0.7020 - accuracy: 0.7790 - val_loss: 0.6468 - val_accuracy: 0.7907\n",
            "Epoch 269/1000\n",
            "21/21 [==============================] - 1s 39ms/step - loss: 0.7007 - accuracy: 0.7802 - val_loss: 0.6458 - val_accuracy: 0.7899\n",
            "Epoch 270/1000\n",
            "21/21 [==============================] - 1s 37ms/step - loss: 0.6995 - accuracy: 0.7789 - val_loss: 0.6460 - val_accuracy: 0.7906\n",
            "Epoch 271/1000\n",
            "21/21 [==============================] - 1s 37ms/step - loss: 0.6995 - accuracy: 0.7797 - val_loss: 0.6463 - val_accuracy: 0.7889\n",
            "Epoch 272/1000\n",
            "21/21 [==============================] - 1s 39ms/step - loss: 0.7002 - accuracy: 0.7796 - val_loss: 0.6452 - val_accuracy: 0.7919\n",
            "Epoch 273/1000\n",
            "21/21 [==============================] - 1s 38ms/step - loss: 0.6998 - accuracy: 0.7792 - val_loss: 0.6453 - val_accuracy: 0.7910\n",
            "Epoch 274/1000\n",
            "21/21 [==============================] - 1s 36ms/step - loss: 0.7002 - accuracy: 0.7801 - val_loss: 0.6453 - val_accuracy: 0.7912\n",
            "Epoch 275/1000\n",
            "21/21 [==============================] - 1s 37ms/step - loss: 0.7001 - accuracy: 0.7794 - val_loss: 0.6451 - val_accuracy: 0.7912\n",
            "Epoch 276/1000\n",
            "21/21 [==============================] - 1s 37ms/step - loss: 0.6992 - accuracy: 0.7791 - val_loss: 0.6453 - val_accuracy: 0.7918\n",
            "Epoch 277/1000\n",
            "21/21 [==============================] - 1s 64ms/step - loss: 0.6990 - accuracy: 0.7796 - val_loss: 0.6448 - val_accuracy: 0.7916\n",
            "Epoch 278/1000\n",
            "21/21 [==============================] - 1s 38ms/step - loss: 0.7003 - accuracy: 0.7797 - val_loss: 0.6446 - val_accuracy: 0.7906\n",
            "Epoch 279/1000\n",
            "21/21 [==============================] - 1s 38ms/step - loss: 0.7004 - accuracy: 0.7808 - val_loss: 0.6436 - val_accuracy: 0.7907\n",
            "Epoch 280/1000\n",
            "21/21 [==============================] - 1s 38ms/step - loss: 0.6987 - accuracy: 0.7798 - val_loss: 0.6438 - val_accuracy: 0.7909\n"
          ]
        }
      ],
      "source": [
        "# Train model\n",
        "initial_epoch=0\n",
        "batch_size_=16*16*16*2\n",
        "history = model.fit(x_train, y_train,\n",
        "                    validation_data =(x_val,y_val),\n",
        "                    batch_size=batch_size_,\n",
        "                    epochs=1000,\n",
        "                    initial_epoch=initial_epoch,\n",
        "                    callbacks=[csv_logger,early_stopping,ckpt_callback])"
      ]
    },
    {
      "cell_type": "code",
      "execution_count": 101,
      "id": "72464944",
      "metadata": {
        "id": "72464944",
        "colab": {
          "base_uri": "https://localhost:8080/"
        },
        "outputId": "4d3ad11b-00cc-49bc-ac38-131639684e86"
      },
      "outputs": [
        {
          "output_type": "stream",
          "name": "stdout",
          "text": [
            "Model: \"sequential_3\"\n",
            "_________________________________________________________________\n",
            " Layer (type)                Output Shape              Param #   \n",
            "=================================================================\n",
            " BatchNormalization_layer_1   (None, 37)               148       \n",
            " (BatchNormalization)                                            \n",
            "                                                                 \n",
            " Dense_layer_1 (Dense)       (None, 64)                2432      \n",
            "                                                                 \n",
            " Dropout_layer_3 (Dropout)   (None, 64)                0         \n",
            "                                                                 \n",
            " Dense_layer_2 (Dense)       (None, 64)                4160      \n",
            "                                                                 \n",
            " Dropout_layer_4 (Dropout)   (None, 64)                0         \n",
            "                                                                 \n",
            " Output_layer (Dense)        (None, 15)                975       \n",
            "                                                                 \n",
            "=================================================================\n",
            "Total params: 7,715\n",
            "Trainable params: 7,641\n",
            "Non-trainable params: 74\n",
            "_________________________________________________________________\n"
          ]
        }
      ],
      "source": [
        "#Load Model\n",
        "model = keras.models.load_model('best_model.h5')\n",
        "model.summary()"
      ]
    },
    {
      "cell_type": "code",
      "execution_count": 102,
      "id": "e6abf163",
      "metadata": {
        "id": "e6abf163",
        "colab": {
          "base_uri": "https://localhost:8080/"
        },
        "outputId": "427bd175-9448-4c73-c648-8d64abfc6ffa"
      },
      "outputs": [
        {
          "output_type": "stream",
          "name": "stdout",
          "text": [
            "1838/1838 [==============================] - 3s 1ms/step - loss: 0.6421 - accuracy: 0.7950\n"
          ]
        }
      ],
      "source": [
        "acc_per = model.evaluate(x_test,y_test)"
      ]
    },
    {
      "cell_type": "code",
      "execution_count": 103,
      "id": "588a4e5d",
      "metadata": {
        "id": "588a4e5d"
      },
      "outputs": [],
      "source": [
        "y_per_ = model.predict(x_test)\n",
        "\n",
        "y_per=[]\n",
        "\n",
        "for i in range(y_per_.shape[0]):\n",
        "    y_per.append(np.argmax(y_per_[i]))\n",
        "    \n",
        "y_per=np.array(y_per)"
      ]
    },
    {
      "cell_type": "code",
      "execution_count": 104,
      "id": "8f61070a",
      "metadata": {
        "id": "8f61070a",
        "colab": {
          "base_uri": "https://localhost:8080/"
        },
        "outputId": "5df4fe9f-e892-45e4-852b-7c4011a90fc9"
      },
      "outputs": [
        {
          "output_type": "execute_result",
          "data": {
            "text/plain": [
              "0.7950335912917765"
            ]
          },
          "metadata": {},
          "execution_count": 104
        }
      ],
      "source": [
        "acc_test = accuracy_score(y_test, y_per)\n",
        "acc_test"
      ]
    },
    {
      "cell_type": "code",
      "execution_count": 105,
      "id": "77d75537",
      "metadata": {
        "id": "77d75537",
        "colab": {
          "base_uri": "https://localhost:8080/"
        },
        "outputId": "32447d20-9e98-4c83-c8bb-7b23cd742f1a"
      },
      "outputs": [
        {
          "output_type": "stream",
          "name": "stdout",
          "text": [
            "10/10 [==============================] - 0s 2ms/step - loss: 1.4257 - accuracy: 0.4626\n",
            "43/43 [==============================] - 0s 1ms/step - loss: 0.7423 - accuracy: 0.7641\n",
            "60/60 [==============================] - 0s 1ms/step - loss: 0.6752 - accuracy: 0.8207\n",
            "27/27 [==============================] - 0s 2ms/step - loss: 1.5059 - accuracy: 0.5058\n",
            "1/1 [==============================] - 0s 20ms/step - loss: 7.0094 - accuracy: 0.0000e+00\n",
            "64/64 [==============================] - 0s 1ms/step - loss: 1.5076 - accuracy: 0.5997\n",
            "749/749 [==============================] - 1s 1ms/step - loss: 0.3511 - accuracy: 0.8981\n",
            "35/35 [==============================] - 0s 2ms/step - loss: 1.7267 - accuracy: 0.4901\n",
            "85/85 [==============================] - 0s 1ms/step - loss: 0.9788 - accuracy: 0.6296\n",
            "125/125 [==============================] - 0s 1ms/step - loss: 0.9981 - accuracy: 0.7181\n",
            "10/10 [==============================] - 0s 2ms/step - loss: 1.3054 - accuracy: 0.6828\n",
            "5/5 [==============================] - 0s 3ms/step - loss: 2.5468 - accuracy: 0.1769\n",
            "323/323 [==============================] - 0s 1ms/step - loss: 0.6148 - accuracy: 0.7644\n",
            "158/158 [==============================] - 0s 2ms/step - loss: 0.4753 - accuracy: 0.8409\n",
            "151/151 [==============================] - 0s 1ms/step - loss: 0.8816 - accuracy: 0.7043\n"
          ]
        }
      ],
      "source": [
        "df_test_split = [test_t0,test_t1,test_t2,test_t3,test_t4,test_t5,test_t6,test_t7,test_t8,test_t9,test_t10,test_t11,test_t12,test_t13,test_t14]\n",
        "\n",
        "acc_calss = []\n",
        "for i in df_test_split:\n",
        "    x_,y_=[],[]\n",
        "    for seq, target in i:\n",
        "        x_.append(seq)  \n",
        "        y_.append(target) \n",
        "    x_=np.array(x_)\n",
        "    y_=np.array(y_)\n",
        "    acc_calss.append(model.evaluate(x_,y_))"
      ]
    },
    {
      "cell_type": "code",
      "execution_count": 106,
      "id": "79306996",
      "metadata": {
        "id": "79306996"
      },
      "outputs": [],
      "source": [
        "text_file = open(\"acc_report.txt\", \"w\")\n",
        "text_file.write('\\nacc_test:\\n')\n",
        "text_file.write(str(acc_test))\n",
        "text_file.write('\\nacc_calss:\\n')\n",
        "text_file.write(str(acc_calss))\n",
        "text_file.close()"
      ]
    },
    {
      "cell_type": "code",
      "execution_count": 107,
      "id": "25e4bfb8",
      "metadata": {
        "colab": {
          "base_uri": "https://localhost:8080/"
        },
        "id": "25e4bfb8",
        "outputId": "4899e944-5552-489d-d47b-c01367bbd048"
      },
      "outputs": [
        {
          "output_type": "execute_result",
          "data": {
            "text/plain": [
              "7"
            ]
          },
          "metadata": {},
          "execution_count": 107
        }
      ],
      "source": [
        "lower_con=min(t0_l_test,t1_l_test,t2_l_test,t3_l_test,t4_l_test,t5_l_test,t6_l_test,t7_l_test,t8_l_test,t9_l_test,t10_l_test,t11_l_test,t12_l_test,t13_l_test,t14_l_test)\n",
        "lower_con"
      ]
    },
    {
      "cell_type": "code",
      "execution_count": 108,
      "id": "caacb48b",
      "metadata": {
        "colab": {
          "base_uri": "https://localhost:8080/"
        },
        "id": "caacb48b",
        "outputId": "7670a315-74d2-49a6-9b6d-5b9e2333fc4c"
      },
      "outputs": [
        {
          "output_type": "stream",
          "name": "stdout",
          "text": [
            "(105, 37)\n",
            "(105,)\n",
            "4/4 [==============================] - 0s 3ms/step - loss: 1.5859 - accuracy: 0.5429\n"
          ]
        },
        {
          "output_type": "execute_result",
          "data": {
            "text/plain": [
              "105"
            ]
          },
          "metadata": {},
          "execution_count": 108
        }
      ],
      "source": [
        "lower_con=min(t0_l_test,t1_l_test,t2_l_test,t3_l_test,t4_l_test,t5_l_test,t6_l_test,t7_l_test,t8_l_test,t9_l_test,t10_l_test,t11_l_test,t12_l_test,t13_l_test,t14_l_test)\n",
        "\n",
        "\n",
        "\n",
        "sequential_test_con = test_t0[:lower_con]+ test_t1[:lower_con]+ test_t2[:lower_con]+ test_t3[:lower_con]+ test_t4[:lower_con]+ test_t5[:lower_con]+ test_t6[:lower_con]+ test_t7[:lower_con]+ test_t8[:lower_con]+ test_t9[:lower_con]+ test_t10[:lower_con]+test_t11[:lower_con]+ test_t12[:lower_con]+ test_t13[:lower_con]+ test_t14[:lower_con]\n",
        "\n",
        "x_test_con , y_test_con=[],[]\n",
        "\n",
        "for seq, target in sequential_test_con:  \n",
        "        x_test_con.append(seq)  \n",
        "        y_test_con.append(target)  \n",
        "x_test_con=np.array(x_test_con)\n",
        "y_test_con=np.array(y_test_con)\n",
        "                    \n",
        "print(x_test_con.shape)\n",
        "print(y_test_con.shape)\n",
        "\n",
        "y_per_con_ = model.predict(x_test_con)\n",
        "\n",
        "y_per_con=[]\n",
        "\n",
        "for i in range(y_per_con_.shape[0]):\n",
        "    y_per_con.append(np.argmax(y_per_con_[i]))\n",
        "    \n",
        "y_per_con=np.array(y_per_con)\n",
        "\n",
        "acc_per = model.evaluate(x_test_con,y_test_con)\n",
        "lower_con*15"
      ]
    },
    {
      "cell_type": "code",
      "execution_count": 109,
      "id": "716c62bd",
      "metadata": {
        "colab": {
          "base_uri": "https://localhost:8080/",
          "height": 693
        },
        "id": "716c62bd",
        "outputId": "54cba4ce-1998-4f42-8746-7f53764451f0"
      },
      "outputs": [
        {
          "output_type": "display_data",
          "data": {
            "image/png": "[encoded data removed]",
            "text/plain": [
              "<Figure size 864x864 with 2 Axes>"
            ]
          },
          "metadata": {
            "needs_background": "light"
          }
        }
      ],
      "source": [
        "# labels = ['Bed_to_Toilet','Chores','Desk_Activity','Dining_Rm_Activity', 'Eve_Meds','Guest_Bathroom','Kitchen_Activity','Leave_Home','Master_Bathroom','Master_Bedroom_Activity','Meditate','Morning_Meds','Read','Sleep','Watch_TV']\n",
        "\n",
        "labels = ['Tlt','Chr','DA ','DmA','EMd','GBt','KcA','LH','MBt','MBd','Mdt','MMd','Rd','Slp','WTv']\n",
        "\n",
        "\n",
        "cm = confusion_matrix(y_test_con, y_per_con)\n",
        "\n",
        "text_file = open(\"confusion_matrix_balance.txt\", \"w\")\n",
        "text_file.write(str(cm))\n",
        "text_file.close()\n",
        "\n",
        "cmp = ConfusionMatrixDisplay(cm, display_labels=np.arange(25))\n",
        "\n",
        "\n",
        "\n",
        "disp = ConfusionMatrixDisplay(confusion_matrix=cm, display_labels=labels)\n",
        "\n",
        "fig, ax = plt.subplots(figsize=(12,12))\n",
        "\n",
        "\n",
        "disp.plot(ax=ax,cmap=plt.cm.Blues)\n",
        "\n",
        "plt.savefig('ConfusionMatrixDisplay_balance.jpg')\n",
        "plt.show()\n"
      ]
    },
    {
      "cell_type": "code",
      "execution_count": 110,
      "id": "2a9db04b",
      "metadata": {
        "id": "2a9db04b",
        "colab": {
          "base_uri": "https://localhost:8080/",
          "height": 689
        },
        "outputId": "430d67dc-118d-41a9-af98-20b2392e3ef0"
      },
      "outputs": [
        {
          "output_type": "display_data",
          "data": {
            "image/png": "[encoded data removed]",
            "text/plain": [
              "<Figure size 864x864 with 2 Axes>"
            ]
          },
          "metadata": {
            "needs_background": "light"
          }
        }
      ],
      "source": [
        "# labels = ['Bed_to_Toilet','Chores','Desk_Activity','Dining_Rm_Activity', 'Eve_Meds','Guest_Bathroom','Kitchen_Activity','Leave_Home','Master_Bathroom','Master_Bedroom_Activity','Meditate','Morning_Meds','Read','Sleep','Watch_TV']\n",
        "\n",
        "labels = ['Tlt','Chr','DA ','DmA','EMd','GBt','KcA','LH','MBt','MBd','Mdt','MMd','Rd','Slp','WTv']\n",
        "\n",
        "\n",
        "cm = confusion_matrix(y_test, y_per)\n",
        "\n",
        "text_file = open(\"confusion_matrix.txt\", \"w\")\n",
        "text_file.write(str(cm))\n",
        "text_file.close()\n",
        "\n",
        "cmp = ConfusionMatrixDisplay(cm, display_labels=np.arange(25))\n",
        "\n",
        "\n",
        "\n",
        "disp = ConfusionMatrixDisplay(confusion_matrix=cm, display_labels=labels)\n",
        "\n",
        "fig, ax = plt.subplots(figsize=(12,12))\n",
        "\n",
        "\n",
        "disp.plot(ax=ax,cmap=plt.cm.Blues)\n",
        "\n",
        "plt.savefig('ConfusionMatrixDisplay.jpg')\n",
        "plt.show()\n"
      ]
    },
    {
      "cell_type": "code",
      "execution_count": 111,
      "id": "5fdf1ee9",
      "metadata": {
        "id": "5fdf1ee9",
        "colab": {
          "base_uri": "https://localhost:8080/"
        },
        "outputId": "b1ba6fe9-18fe-4168-8dad-e65e079bea75"
      },
      "outputs": [
        {
          "output_type": "stream",
          "name": "stdout",
          "text": [
            "              precision    recall  f1-score   support\n",
            "\n",
            "         Tlt       0.68      0.46      0.55       294\n",
            "         Chr       0.66      0.76      0.71      1348\n",
            "         DA        0.85      0.82      0.84      1907\n",
            "         DmA       0.66      0.51      0.57       856\n",
            "         EMd       0.00      0.00      0.00         7\n",
            "         GBt       0.60      0.60      0.60      2021\n",
            "         KcA       0.83      0.90      0.86     23958\n",
            "          LH       0.50      0.49      0.50      1106\n",
            "         MBt       0.73      0.63      0.68      2719\n",
            "         MBd       0.72      0.72      0.72      3991\n",
            "         Mdt       0.87      0.68      0.76       290\n",
            "         MMd       1.00      0.18      0.30       130\n",
            "          Rd       0.84      0.76      0.80     10311\n",
            "         Slp       0.87      0.84      0.85      5028\n",
            "         WTv       0.73      0.70      0.72      4829\n",
            "\n",
            "    accuracy                           0.80     58795\n",
            "   macro avg       0.70      0.60      0.63     58795\n",
            "weighted avg       0.79      0.80      0.79     58795\n",
            "\n"
          ]
        },
        {
          "output_type": "stream",
          "name": "stderr",
          "text": [
            "/usr/local/lib/python3.7/dist-packages/sklearn/metrics/_classification.py:1318: UndefinedMetricWarning: Precision and F-score are ill-defined and being set to 0.0 in labels with no predicted samples. Use `zero_division` parameter to control this behavior.\n",
            "  _warn_prf(average, modifier, msg_start, len(result))\n",
            "/usr/local/lib/python3.7/dist-packages/sklearn/metrics/_classification.py:1318: UndefinedMetricWarning: Precision and F-score are ill-defined and being set to 0.0 in labels with no predicted samples. Use `zero_division` parameter to control this behavior.\n",
            "  _warn_prf(average, modifier, msg_start, len(result))\n",
            "/usr/local/lib/python3.7/dist-packages/sklearn/metrics/_classification.py:1318: UndefinedMetricWarning: Precision and F-score are ill-defined and being set to 0.0 in labels with no predicted samples. Use `zero_division` parameter to control this behavior.\n",
            "  _warn_prf(average, modifier, msg_start, len(result))\n"
          ]
        }
      ],
      "source": [
        "classification_report_ = classification_report(y_test, y_per, target_names=labels)\n",
        "print(classification_report_)\n",
        "\n",
        "\n",
        "text_file = open(\"classification_report.txt\", \"w\")\n",
        "text_file.write(classification_report_)\n",
        "text_file.close()"
      ]
    },
    {
      "cell_type": "code",
      "execution_count": 112,
      "id": "f3b2929f",
      "metadata": {
        "id": "f3b2929f",
        "colab": {
          "base_uri": "https://localhost:8080/",
          "height": 672
        },
        "outputId": "75e0508e-56a1-4afd-edc5-0e3f09fca984"
      },
      "outputs": [
        {
          "output_type": "display_data",
          "data": {
            "image/png": "[encoded data removed]",
            "text/plain": [
              "<Figure size 720x360 with 1 Axes>"
            ]
          },
          "metadata": {
            "needs_background": "light"
          }
        },
        {
          "output_type": "display_data",
          "data": {
            "text/plain": [
              "<Figure size 432x288 with 0 Axes>"
            ]
          },
          "metadata": {}
        },
        {
          "output_type": "display_data",
          "data": {
            "image/png": "[encoded data removed]",
            "text/plain": [
              "<Figure size 720x360 with 1 Axes>"
            ]
          },
          "metadata": {
            "needs_background": "light"
          }
        }
      ],
      "source": [
        "acc = history.history['accuracy']\n",
        "val_acc = history.history['val_accuracy']\n",
        "loss = history.history['loss']\n",
        "val_loss = history.history['val_loss']\n",
        "\n",
        "epochs = range(len(acc))\n",
        "\n",
        "plt.figure(figsize=(10, 5))\n",
        "\n",
        "plt.plot(epochs, acc, 'bo', label='Training acc')\n",
        "plt.plot(epochs, val_acc, 'b', label='Validation acc')\n",
        "plt.title('Training and validation accuracy')\n",
        "plt.legend()\n",
        "\n",
        "plt.savefig('Training and validation accuracy.jpg')\n",
        "\n",
        "plt.figure()\n",
        "\n",
        "plt.figure(figsize=(10, 5))\n",
        "\n",
        "plt.plot(epochs, loss, 'bo', label='Training loss')\n",
        "plt.plot(epochs, val_loss, 'b', label='Validation loss')\n",
        "plt.title('Training and validation loss')\n",
        "plt.legend()\n",
        "\n",
        "plt.savefig('Training and validation loss.jpg')\n",
        "\n",
        "plt.show()"
      ]
    },
    {
      "cell_type": "code",
      "execution_count": 113,
      "metadata": {
        "colab": {
          "base_uri": "https://localhost:8080/",
          "height": 17
        },
        "id": "cR8DUe6CzHVV",
        "outputId": "7aa9691a-2006-46de-e770-920f6617ae83"
      },
      "outputs": [
        {
          "output_type": "display_data",
          "data": {
            "application/javascript": [
              "\n",
              "    async function download(id, filename, size) {\n",
              "      if (!google.colab.kernel.accessAllowed) {\n",
              "        return;\n",
              "      }\n",
              "      const div = document.createElement('div');\n",
              "      const label = document.createElement('label');\n",
              "      label.textContent = `Downloading \"${filename}\": `;\n",
              "      div.appendChild(label);\n",
              "      const progress = document.createElement('progress');\n",
              "      progress.max = size;\n",
              "      div.appendChild(progress);\n",
              "      document.body.appendChild(div);\n",
              "\n",
              "      const buffers = [];\n",
              "      let downloaded = 0;\n",
              "\n",
              "      const channel = await google.colab.kernel.comms.open(id);\n",
              "      // Send a message to notify the kernel that we're ready.\n",
              "      channel.send({})\n",
              "\n",
              "      for await (const message of channel.messages) {\n",
              "        // Send a message to notify the kernel that we're ready.\n",
              "        channel.send({})\n",
              "        if (message.buffers) {\n",
              "          for (const buffer of message.buffers) {\n",
              "            buffers.push(buffer);\n",
              "            downloaded += buffer.byteLength;\n",
              "            progress.value = downloaded;\n",
              "          }\n",
              "        }\n",
              "      }\n",
              "      const blob = new Blob(buffers, {type: 'application/binary'});\n",
              "      const a = document.createElement('a');\n",
              "      a.href = window.URL.createObjectURL(blob);\n",
              "      a.download = filename;\n",
              "      div.appendChild(a);\n",
              "      a.click();\n",
              "      div.remove();\n",
              "    }\n",
              "  "
            ],
            "text/plain": [
              "<IPython.core.display.Javascript object>"
            ]
          },
          "metadata": {}
        },
        {
          "output_type": "display_data",
          "data": {
            "application/javascript": [
              "download(\"download_dc0a1ccd-fd70-4689-aeaa-2a778db2cf1e\", \"ConfusionMatrixDisplay.jpg\", 99618)"
            ],
            "text/plain": [
              "<IPython.core.display.Javascript object>"
            ]
          },
          "metadata": {}
        }
      ],
      "source": [
        "from google.colab import files\n",
        "files.download('ConfusionMatrixDisplay.jpg')\n"
      ],
      "id": "cR8DUe6CzHVV"
    },
    {
      "cell_type": "code",
      "source": [
        "files.download('ConfusionMatrixDisplay_balance.jpg')\n"
      ],
      "metadata": {
        "id": "YQktsvi6WYqn",
        "colab": {
          "base_uri": "https://localhost:8080/",
          "height": 17
        },
        "outputId": "d35ec6ee-5402-4fec-f9c8-1919715d2f0d"
      },
      "execution_count": 114,
      "outputs": [
        {
          "output_type": "display_data",
          "data": {
            "application/javascript": [
              "\n",
              "    async function download(id, filename, size) {\n",
              "      if (!google.colab.kernel.accessAllowed) {\n",
              "        return;\n",
              "      }\n",
              "      const div = document.createElement('div');\n",
              "      const label = document.createElement('label');\n",
              "      label.textContent = `Downloading \"${filename}\": `;\n",
              "      div.appendChild(label);\n",
              "      const progress = document.createElement('progress');\n",
              "      progress.max = size;\n",
              "      div.appendChild(progress);\n",
              "      document.body.appendChild(div);\n",
              "\n",
              "      const buffers = [];\n",
              "      let downloaded = 0;\n",
              "\n",
              "      const channel = await google.colab.kernel.comms.open(id);\n",
              "      // Send a message to notify the kernel that we're ready.\n",
              "      channel.send({})\n",
              "\n",
              "      for await (const message of channel.messages) {\n",
              "        // Send a message to notify the kernel that we're ready.\n",
              "        channel.send({})\n",
              "        if (message.buffers) {\n",
              "          for (const buffer of message.buffers) {\n",
              "            buffers.push(buffer);\n",
              "            downloaded += buffer.byteLength;\n",
              "            progress.value = downloaded;\n",
              "          }\n",
              "        }\n",
              "      }\n",
              "      const blob = new Blob(buffers, {type: 'application/binary'});\n",
              "      const a = document.createElement('a');\n",
              "      a.href = window.URL.createObjectURL(blob);\n",
              "      a.download = filename;\n",
              "      div.appendChild(a);\n",
              "      a.click();\n",
              "      div.remove();\n",
              "    }\n",
              "  "
            ],
            "text/plain": [
              "<IPython.core.display.Javascript object>"
            ]
          },
          "metadata": {}
        },
        {
          "output_type": "display_data",
          "data": {
            "application/javascript": [
              "download(\"download_2630c7c5-7b4f-46d6-9145-bad04274ad77\", \"ConfusionMatrixDisplay_balance.jpg\", 92252)"
            ],
            "text/plain": [
              "<IPython.core.display.Javascript object>"
            ]
          },
          "metadata": {}
        }
      ],
      "id": "YQktsvi6WYqn"
    },
    {
      "cell_type": "code",
      "source": [
        "files.download('Structure.jpg')\n"
      ],
      "metadata": {
        "id": "fwwjQyh9WaOh",
        "colab": {
          "base_uri": "https://localhost:8080/",
          "height": 17
        },
        "outputId": "40f7a73d-50cd-4321-b462-8daa35456204"
      },
      "execution_count": 115,
      "outputs": [
        {
          "output_type": "display_data",
          "data": {
            "application/javascript": [
              "\n",
              "    async function download(id, filename, size) {\n",
              "      if (!google.colab.kernel.accessAllowed) {\n",
              "        return;\n",
              "      }\n",
              "      const div = document.createElement('div');\n",
              "      const label = document.createElement('label');\n",
              "      label.textContent = `Downloading \"${filename}\": `;\n",
              "      div.appendChild(label);\n",
              "      const progress = document.createElement('progress');\n",
              "      progress.max = size;\n",
              "      div.appendChild(progress);\n",
              "      document.body.appendChild(div);\n",
              "\n",
              "      const buffers = [];\n",
              "      let downloaded = 0;\n",
              "\n",
              "      const channel = await google.colab.kernel.comms.open(id);\n",
              "      // Send a message to notify the kernel that we're ready.\n",
              "      channel.send({})\n",
              "\n",
              "      for await (const message of channel.messages) {\n",
              "        // Send a message to notify the kernel that we're ready.\n",
              "        channel.send({})\n",
              "        if (message.buffers) {\n",
              "          for (const buffer of message.buffers) {\n",
              "            buffers.push(buffer);\n",
              "            downloaded += buffer.byteLength;\n",
              "            progress.value = downloaded;\n",
              "          }\n",
              "        }\n",
              "      }\n",
              "      const blob = new Blob(buffers, {type: 'application/binary'});\n",
              "      const a = document.createElement('a');\n",
              "      a.href = window.URL.createObjectURL(blob);\n",
              "      a.download = filename;\n",
              "      div.appendChild(a);\n",
              "      a.click();\n",
              "      div.remove();\n",
              "    }\n",
              "  "
            ],
            "text/plain": [
              "<IPython.core.display.Javascript object>"
            ]
          },
          "metadata": {}
        },
        {
          "output_type": "display_data",
          "data": {
            "application/javascript": [
              "download(\"download_c2e68ebc-702f-4326-87bd-79bc58e4e618\", \"Structure.jpg\", 59127)"
            ],
            "text/plain": [
              "<IPython.core.display.Javascript object>"
            ]
          },
          "metadata": {}
        }
      ],
      "id": "fwwjQyh9WaOh"
    },
    {
      "cell_type": "code",
      "source": [
        "files.download('Training and validation accuracy.jpg')\n"
      ],
      "metadata": {
        "id": "nF3n1i_VWbji",
        "colab": {
          "base_uri": "https://localhost:8080/",
          "height": 17
        },
        "outputId": "917ade2c-a99b-482c-ed65-afbd28b0cdd0"
      },
      "execution_count": 116,
      "outputs": [
        {
          "output_type": "display_data",
          "data": {
            "application/javascript": [
              "\n",
              "    async function download(id, filename, size) {\n",
              "      if (!google.colab.kernel.accessAllowed) {\n",
              "        return;\n",
              "      }\n",
              "      const div = document.createElement('div');\n",
              "      const label = document.createElement('label');\n",
              "      label.textContent = `Downloading \"${filename}\": `;\n",
              "      div.appendChild(label);\n",
              "      const progress = document.createElement('progress');\n",
              "      progress.max = size;\n",
              "      div.appendChild(progress);\n",
              "      document.body.appendChild(div);\n",
              "\n",
              "      const buffers = [];\n",
              "      let downloaded = 0;\n",
              "\n",
              "      const channel = await google.colab.kernel.comms.open(id);\n",
              "      // Send a message to notify the kernel that we're ready.\n",
              "      channel.send({})\n",
              "\n",
              "      for await (const message of channel.messages) {\n",
              "        // Send a message to notify the kernel that we're ready.\n",
              "        channel.send({})\n",
              "        if (message.buffers) {\n",
              "          for (const buffer of message.buffers) {\n",
              "            buffers.push(buffer);\n",
              "            downloaded += buffer.byteLength;\n",
              "            progress.value = downloaded;\n",
              "          }\n",
              "        }\n",
              "      }\n",
              "      const blob = new Blob(buffers, {type: 'application/binary'});\n",
              "      const a = document.createElement('a');\n",
              "      a.href = window.URL.createObjectURL(blob);\n",
              "      a.download = filename;\n",
              "      div.appendChild(a);\n",
              "      a.click();\n",
              "      div.remove();\n",
              "    }\n",
              "  "
            ],
            "text/plain": [
              "<IPython.core.display.Javascript object>"
            ]
          },
          "metadata": {}
        },
        {
          "output_type": "display_data",
          "data": {
            "application/javascript": [
              "download(\"download_34fa536f-3672-4819-8387-3d124c1ae4e1\", \"Training and validation accuracy.jpg\", 28813)"
            ],
            "text/plain": [
              "<IPython.core.display.Javascript object>"
            ]
          },
          "metadata": {}
        }
      ],
      "id": "nF3n1i_VWbji"
    },
    {
      "cell_type": "code",
      "source": [
        "files.download('Training and validation loss.jpg')\n"
      ],
      "metadata": {
        "id": "LF4hqH3kWc2A",
        "colab": {
          "base_uri": "https://localhost:8080/",
          "height": 17
        },
        "outputId": "5421deda-8eb9-4f45-9141-651f85a33e71"
      },
      "execution_count": 117,
      "outputs": [
        {
          "output_type": "display_data",
          "data": {
            "application/javascript": [
              "\n",
              "    async function download(id, filename, size) {\n",
              "      if (!google.colab.kernel.accessAllowed) {\n",
              "        return;\n",
              "      }\n",
              "      const div = document.createElement('div');\n",
              "      const label = document.createElement('label');\n",
              "      label.textContent = `Downloading \"${filename}\": `;\n",
              "      div.appendChild(label);\n",
              "      const progress = document.createElement('progress');\n",
              "      progress.max = size;\n",
              "      div.appendChild(progress);\n",
              "      document.body.appendChild(div);\n",
              "\n",
              "      const buffers = [];\n",
              "      let downloaded = 0;\n",
              "\n",
              "      const channel = await google.colab.kernel.comms.open(id);\n",
              "      // Send a message to notify the kernel that we're ready.\n",
              "      channel.send({})\n",
              "\n",
              "      for await (const message of channel.messages) {\n",
              "        // Send a message to notify the kernel that we're ready.\n",
              "        channel.send({})\n",
              "        if (message.buffers) {\n",
              "          for (const buffer of message.buffers) {\n",
              "            buffers.push(buffer);\n",
              "            downloaded += buffer.byteLength;\n",
              "            progress.value = downloaded;\n",
              "          }\n",
              "        }\n",
              "      }\n",
              "      const blob = new Blob(buffers, {type: 'application/binary'});\n",
              "      const a = document.createElement('a');\n",
              "      a.href = window.URL.createObjectURL(blob);\n",
              "      a.download = filename;\n",
              "      div.appendChild(a);\n",
              "      a.click();\n",
              "      div.remove();\n",
              "    }\n",
              "  "
            ],
            "text/plain": [
              "<IPython.core.display.Javascript object>"
            ]
          },
          "metadata": {}
        },
        {
          "output_type": "display_data",
          "data": {
            "application/javascript": [
              "download(\"download_da42227b-cde5-4a68-bded-6757fbd53d04\", \"Training and validation loss.jpg\", 29536)"
            ],
            "text/plain": [
              "<IPython.core.display.Javascript object>"
            ]
          },
          "metadata": {}
        }
      ],
      "id": "LF4hqH3kWc2A"
    },
    {
      "cell_type": "code",
      "source": [
        "files.download('acc_report.txt')\n"
      ],
      "metadata": {
        "id": "nc0b2g_xWeOz",
        "colab": {
          "base_uri": "https://localhost:8080/",
          "height": 17
        },
        "outputId": "7ac62201-cad4-4ab0-b1e0-d841090caec2"
      },
      "execution_count": 118,
      "outputs": [
        {
          "output_type": "display_data",
          "data": {
            "application/javascript": [
              "\n",
              "    async function download(id, filename, size) {\n",
              "      if (!google.colab.kernel.accessAllowed) {\n",
              "        return;\n",
              "      }\n",
              "      const div = document.createElement('div');\n",
              "      const label = document.createElement('label');\n",
              "      label.textContent = `Downloading \"${filename}\": `;\n",
              "      div.appendChild(label);\n",
              "      const progress = document.createElement('progress');\n",
              "      progress.max = size;\n",
              "      div.appendChild(progress);\n",
              "      document.body.appendChild(div);\n",
              "\n",
              "      const buffers = [];\n",
              "      let downloaded = 0;\n",
              "\n",
              "      const channel = await google.colab.kernel.comms.open(id);\n",
              "      // Send a message to notify the kernel that we're ready.\n",
              "      channel.send({})\n",
              "\n",
              "      for await (const message of channel.messages) {\n",
              "        // Send a message to notify the kernel that we're ready.\n",
              "        channel.send({})\n",
              "        if (message.buffers) {\n",
              "          for (const buffer of message.buffers) {\n",
              "            buffers.push(buffer);\n",
              "            downloaded += buffer.byteLength;\n",
              "            progress.value = downloaded;\n",
              "          }\n",
              "        }\n",
              "      }\n",
              "      const blob = new Blob(buffers, {type: 'application/binary'});\n",
              "      const a = document.createElement('a');\n",
              "      a.href = window.URL.createObjectURL(blob);\n",
              "      a.download = filename;\n",
              "      div.appendChild(a);\n",
              "      a.click();\n",
              "      div.remove();\n",
              "    }\n",
              "  "
            ],
            "text/plain": [
              "<IPython.core.display.Javascript object>"
            ]
          },
          "metadata": {}
        },
        {
          "output_type": "display_data",
          "data": {
            "application/javascript": [
              "download(\"download_55f5d923-57b9-4368-9480-dfb65b9becb1\", \"acc_report.txt\", 655)"
            ],
            "text/plain": [
              "<IPython.core.display.Javascript object>"
            ]
          },
          "metadata": {}
        }
      ],
      "id": "nc0b2g_xWeOz"
    },
    {
      "cell_type": "code",
      "source": [
        "files.download('best_model.h5')\n"
      ],
      "metadata": {
        "id": "wcxwp5M0Wfko",
        "colab": {
          "base_uri": "https://localhost:8080/",
          "height": 17
        },
        "outputId": "65a7a34f-8ecf-41ed-ab38-60620f7b85cd"
      },
      "execution_count": 119,
      "outputs": [
        {
          "output_type": "display_data",
          "data": {
            "application/javascript": [
              "\n",
              "    async function download(id, filename, size) {\n",
              "      if (!google.colab.kernel.accessAllowed) {\n",
              "        return;\n",
              "      }\n",
              "      const div = document.createElement('div');\n",
              "      const label = document.createElement('label');\n",
              "      label.textContent = `Downloading \"${filename}\": `;\n",
              "      div.appendChild(label);\n",
              "      const progress = document.createElement('progress');\n",
              "      progress.max = size;\n",
              "      div.appendChild(progress);\n",
              "      document.body.appendChild(div);\n",
              "\n",
              "      const buffers = [];\n",
              "      let downloaded = 0;\n",
              "\n",
              "      const channel = await google.colab.kernel.comms.open(id);\n",
              "      // Send a message to notify the kernel that we're ready.\n",
              "      channel.send({})\n",
              "\n",
              "      for await (const message of channel.messages) {\n",
              "        // Send a message to notify the kernel that we're ready.\n",
              "        channel.send({})\n",
              "        if (message.buffers) {\n",
              "          for (const buffer of message.buffers) {\n",
              "            buffers.push(buffer);\n",
              "            downloaded += buffer.byteLength;\n",
              "            progress.value = downloaded;\n",
              "          }\n",
              "        }\n",
              "      }\n",
              "      const blob = new Blob(buffers, {type: 'application/binary'});\n",
              "      const a = document.createElement('a');\n",
              "      a.href = window.URL.createObjectURL(blob);\n",
              "      a.download = filename;\n",
              "      div.appendChild(a);\n",
              "      a.click();\n",
              "      div.remove();\n",
              "    }\n",
              "  "
            ],
            "text/plain": [
              "<IPython.core.display.Javascript object>"
            ]
          },
          "metadata": {}
        },
        {
          "output_type": "display_data",
          "data": {
            "application/javascript": [
              "download(\"download_bebb3be8-3cf7-4210-b63f-bf460d2c5703\", \"best_model.h5\", 138720)"
            ],
            "text/plain": [
              "<IPython.core.display.Javascript object>"
            ]
          },
          "metadata": {}
        }
      ],
      "id": "wcxwp5M0Wfko"
    },
    {
      "cell_type": "code",
      "source": [
        "files.download('classification_report.txt')\n"
      ],
      "metadata": {
        "id": "9S_lIlH-WiSI",
        "colab": {
          "base_uri": "https://localhost:8080/",
          "height": 17
        },
        "outputId": "2eb1c065-f9b1-48ac-e74f-857d982ab353"
      },
      "execution_count": 120,
      "outputs": [
        {
          "output_type": "display_data",
          "data": {
            "application/javascript": [
              "\n",
              "    async function download(id, filename, size) {\n",
              "      if (!google.colab.kernel.accessAllowed) {\n",
              "        return;\n",
              "      }\n",
              "      const div = document.createElement('div');\n",
              "      const label = document.createElement('label');\n",
              "      label.textContent = `Downloading \"${filename}\": `;\n",
              "      div.appendChild(label);\n",
              "      const progress = document.createElement('progress');\n",
              "      progress.max = size;\n",
              "      div.appendChild(progress);\n",
              "      document.body.appendChild(div);\n",
              "\n",
              "      const buffers = [];\n",
              "      let downloaded = 0;\n",
              "\n",
              "      const channel = await google.colab.kernel.comms.open(id);\n",
              "      // Send a message to notify the kernel that we're ready.\n",
              "      channel.send({})\n",
              "\n",
              "      for await (const message of channel.messages) {\n",
              "        // Send a message to notify the kernel that we're ready.\n",
              "        channel.send({})\n",
              "        if (message.buffers) {\n",
              "          for (const buffer of message.buffers) {\n",
              "            buffers.push(buffer);\n",
              "            downloaded += buffer.byteLength;\n",
              "            progress.value = downloaded;\n",
              "          }\n",
              "        }\n",
              "      }\n",
              "      const blob = new Blob(buffers, {type: 'application/binary'});\n",
              "      const a = document.createElement('a');\n",
              "      a.href = window.URL.createObjectURL(blob);\n",
              "      a.download = filename;\n",
              "      div.appendChild(a);\n",
              "      a.click();\n",
              "      div.remove();\n",
              "    }\n",
              "  "
            ],
            "text/plain": [
              "<IPython.core.display.Javascript object>"
            ]
          },
          "metadata": {}
        },
        {
          "output_type": "display_data",
          "data": {
            "application/javascript": [
              "download(\"download_c008e33a-47cc-4c15-82d9-8d655fc6aad3\", \"classification_report.txt\", 1028)"
            ],
            "text/plain": [
              "<IPython.core.display.Javascript object>"
            ]
          },
          "metadata": {}
        }
      ],
      "id": "9S_lIlH-WiSI"
    },
    {
      "cell_type": "code",
      "source": [
        "files.download('confusion_matrix.txt')\n"
      ],
      "metadata": {
        "id": "exaZSHl2Wjao",
        "colab": {
          "base_uri": "https://localhost:8080/",
          "height": 17
        },
        "outputId": "1777899d-d7b3-4dc7-c8f9-63cc5533f94f"
      },
      "execution_count": 121,
      "outputs": [
        {
          "output_type": "display_data",
          "data": {
            "application/javascript": [
              "\n",
              "    async function download(id, filename, size) {\n",
              "      if (!google.colab.kernel.accessAllowed) {\n",
              "        return;\n",
              "      }\n",
              "      const div = document.createElement('div');\n",
              "      const label = document.createElement('label');\n",
              "      label.textContent = `Downloading \"${filename}\": `;\n",
              "      div.appendChild(label);\n",
              "      const progress = document.createElement('progress');\n",
              "      progress.max = size;\n",
              "      div.appendChild(progress);\n",
              "      document.body.appendChild(div);\n",
              "\n",
              "      const buffers = [];\n",
              "      let downloaded = 0;\n",
              "\n",
              "      const channel = await google.colab.kernel.comms.open(id);\n",
              "      // Send a message to notify the kernel that we're ready.\n",
              "      channel.send({})\n",
              "\n",
              "      for await (const message of channel.messages) {\n",
              "        // Send a message to notify the kernel that we're ready.\n",
              "        channel.send({})\n",
              "        if (message.buffers) {\n",
              "          for (const buffer of message.buffers) {\n",
              "            buffers.push(buffer);\n",
              "            downloaded += buffer.byteLength;\n",
              "            progress.value = downloaded;\n",
              "          }\n",
              "        }\n",
              "      }\n",
              "      const blob = new Blob(buffers, {type: 'application/binary'});\n",
              "      const a = document.createElement('a');\n",
              "      a.href = window.URL.createObjectURL(blob);\n",
              "      a.download = filename;\n",
              "      div.appendChild(a);\n",
              "      a.click();\n",
              "      div.remove();\n",
              "    }\n",
              "  "
            ],
            "text/plain": [
              "<IPython.core.display.Javascript object>"
            ]
          },
          "metadata": {}
        },
        {
          "output_type": "display_data",
          "data": {
            "application/javascript": [
              "download(\"download_13a6b5a4-28bc-43e6-a629-9a1ed9d2df76\", \"confusion_matrix.txt\", 1425)"
            ],
            "text/plain": [
              "<IPython.core.display.Javascript object>"
            ]
          },
          "metadata": {}
        }
      ],
      "id": "exaZSHl2Wjao"
    },
    {
      "cell_type": "code",
      "source": [
        "files.download('confusion_matrix_balance.txt')\n"
      ],
      "metadata": {
        "id": "fKEz0dyTWmiu",
        "colab": {
          "base_uri": "https://localhost:8080/",
          "height": 17
        },
        "outputId": "0c92c8f0-39f2-43aa-e306-5cf91de55d91"
      },
      "execution_count": 122,
      "outputs": [
        {
          "output_type": "display_data",
          "data": {
            "application/javascript": [
              "\n",
              "    async function download(id, filename, size) {\n",
              "      if (!google.colab.kernel.accessAllowed) {\n",
              "        return;\n",
              "      }\n",
              "      const div = document.createElement('div');\n",
              "      const label = document.createElement('label');\n",
              "      label.textContent = `Downloading \"${filename}\": `;\n",
              "      div.appendChild(label);\n",
              "      const progress = document.createElement('progress');\n",
              "      progress.max = size;\n",
              "      div.appendChild(progress);\n",
              "      document.body.appendChild(div);\n",
              "\n",
              "      const buffers = [];\n",
              "      let downloaded = 0;\n",
              "\n",
              "      const channel = await google.colab.kernel.comms.open(id);\n",
              "      // Send a message to notify the kernel that we're ready.\n",
              "      channel.send({})\n",
              "\n",
              "      for await (const message of channel.messages) {\n",
              "        // Send a message to notify the kernel that we're ready.\n",
              "        channel.send({})\n",
              "        if (message.buffers) {\n",
              "          for (const buffer of message.buffers) {\n",
              "            buffers.push(buffer);\n",
              "            downloaded += buffer.byteLength;\n",
              "            progress.value = downloaded;\n",
              "          }\n",
              "        }\n",
              "      }\n",
              "      const blob = new Blob(buffers, {type: 'application/binary'});\n",
              "      const a = document.createElement('a');\n",
              "      a.href = window.URL.createObjectURL(blob);\n",
              "      a.download = filename;\n",
              "      div.appendChild(a);\n",
              "      a.click();\n",
              "      div.remove();\n",
              "    }\n",
              "  "
            ],
            "text/plain": [
              "<IPython.core.display.Javascript object>"
            ]
          },
          "metadata": {}
        },
        {
          "output_type": "display_data",
          "data": {
            "application/javascript": [
              "download(\"download_bdafc22a-d90c-463c-b4cf-1d62991808e3\", \"confusion_matrix_balance.txt\", 495)"
            ],
            "text/plain": [
              "<IPython.core.display.Javascript object>"
            ]
          },
          "metadata": {}
        }
      ],
      "id": "fKEz0dyTWmiu"
    },
    {
      "cell_type": "code",
      "source": [
        "files.download('training.log')"
      ],
      "metadata": {
        "id": "wARKUmp8WmVH",
        "colab": {
          "base_uri": "https://localhost:8080/",
          "height": 17
        },
        "outputId": "479dbd4a-7185-4c21-ea9f-fa383ff4348b"
      },
      "execution_count": 123,
      "outputs": [
        {
          "output_type": "display_data",
          "data": {
            "application/javascript": [
              "\n",
              "    async function download(id, filename, size) {\n",
              "      if (!google.colab.kernel.accessAllowed) {\n",
              "        return;\n",
              "      }\n",
              "      const div = document.createElement('div');\n",
              "      const label = document.createElement('label');\n",
              "      label.textContent = `Downloading \"${filename}\": `;\n",
              "      div.appendChild(label);\n",
              "      const progress = document.createElement('progress');\n",
              "      progress.max = size;\n",
              "      div.appendChild(progress);\n",
              "      document.body.appendChild(div);\n",
              "\n",
              "      const buffers = [];\n",
              "      let downloaded = 0;\n",
              "\n",
              "      const channel = await google.colab.kernel.comms.open(id);\n",
              "      // Send a message to notify the kernel that we're ready.\n",
              "      channel.send({})\n",
              "\n",
              "      for await (const message of channel.messages) {\n",
              "        // Send a message to notify the kernel that we're ready.\n",
              "        channel.send({})\n",
              "        if (message.buffers) {\n",
              "          for (const buffer of message.buffers) {\n",
              "            buffers.push(buffer);\n",
              "            downloaded += buffer.byteLength;\n",
              "            progress.value = downloaded;\n",
              "          }\n",
              "        }\n",
              "      }\n",
              "      const blob = new Blob(buffers, {type: 'application/binary'});\n",
              "      const a = document.createElement('a');\n",
              "      a.href = window.URL.createObjectURL(blob);\n",
              "      a.download = filename;\n",
              "      div.appendChild(a);\n",
              "      a.click();\n",
              "      div.remove();\n",
              "    }\n",
              "  "
            ],
            "text/plain": [
              "<IPython.core.display.Javascript object>"
            ]
          },
          "metadata": {}
        },
        {
          "output_type": "display_data",
          "data": {
            "application/javascript": [
              "download(\"download_a09d79d0-d2d9-4702-ba40-7df3b3b72d3b\", \"training.log\", 22478)"
            ],
            "text/plain": [
              "<IPython.core.display.Javascript object>"
            ]
          },
          "metadata": {}
        }
      ],
      "id": "wARKUmp8WmVH"
    },
    {
      "cell_type": "code",
      "execution_count": 124,
      "metadata": {
        "id": "uxUgdO-GzHVa"
      },
      "outputs": [],
      "source": [
        "# ConfusionMatrixDisplay.jpg\n",
        "# ConfusionMatrixDisplay_balance.jpg\n",
        "# Structure.jpg\n",
        "# Training and validation accuracy.jpg\n",
        "# Training and validation loss.jpg\n",
        "# acc_report.txt\n",
        "# best_model.h5\n",
        "# classification_report.txt\n",
        "# confusion_matrix.txt\n",
        "# confusion_matrix_balance.txt\n",
        "# training.log"
      ],
      "id": "uxUgdO-GzHVa"
    }
  ],
  "metadata": {
    "colab": {
      "name": "MLP.ipynb",
      "provenance": [],
      "collapsed_sections": []
    },
    "kernelspec": {
      "display_name": "deep",
      "language": "python",
      "name": "deep_"
    },
    "language_info": {
      "codemirror_mode": {
        "name": "ipython",
        "version": 3
      },
      "file_extension": ".py",
      "mimetype": "text/x-python",
      "name": "python",
      "nbconvert_exporter": "python",
      "pygments_lexer": "ipython3",
      "version": "3.9.7"
    }
  },
  "nbformat": 4,
  "nbformat_minor": 5
}