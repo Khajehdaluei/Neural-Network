{
 "cells": [
  {
   "cell_type": "markdown",
   "id": "2b3ec8b6",
   "metadata": {},
   "source": [
    "<div style=\"direction:rtl;text-align:center\"><img src=\"https://mohammadkh.ir/github/logo.png\" alt=\"Mohammadkh.ir\" style=\"width: 250px;\"/></div>\n",
    "<h1><div style=\"direction:rtl;text-align:center\">Neural Network</div></h1>"
   ]
  },
  {
   "cell_type": "markdown",
   "id": "3c54fb33",
   "metadata": {},
   "source": [
    "<h3><div style=\"direction:rtl;text-align:center\">linear</div></h3>\n",
    "<div style=\"direction:rtl;text-align:center\"><img src=\"__data/activation/1-linear.png\" alt=\"Mohammadkh.ir\" style=\"width: 250px;\"/></div>"
   ]
  },
  {
   "cell_type": "code",
   "execution_count": 1,
   "id": "fc984399",
   "metadata": {},
   "outputs": [],
   "source": [
    "def linear(z):\n",
    "    return z"
   ]
  },
  {
   "cell_type": "markdown",
   "id": "3b8e06d1",
   "metadata": {},
   "source": [
    "<h3><div style=\"direction:rtl;text-align:center\">Sigmoid</div></h3>\n",
    "<div style=\"direction:rtl;text-align:center\"><img src=\"__data/activation/2-sigmoid.png\" alt=\"Mohammadkh.ir\" style=\"width: 250px;\"/></div>"
   ]
  },
  {
   "cell_type": "code",
   "execution_count": 2,
   "id": "6eb44c48",
   "metadata": {},
   "outputs": [],
   "source": [
    "def sigmoid(z):\n",
    "    return 1.0 / (1 + np.exp(-z))"
   ]
  },
  {
   "cell_type": "markdown",
   "id": "d7d3c529",
   "metadata": {},
   "source": [
    "<h3><div style=\"direction:rtl;text-align:center\">Softmax</div></h3>\n",
    "<div style=\"direction:rtl;text-align:center\"><img src=\"__data/activation/2-softmax.png\" alt=\"Mohammadkh.ir\" style=\"width: 250px;\"/></div>"
   ]
  },
  {
   "cell_type": "markdown",
   "id": "01bf054b",
   "metadata": {},
   "source": [
    "<h3><div style=\"direction:rtl;text-align:center\">Tanh</div></h3>\n",
    "<div style=\"direction:rtl;text-align:center\"><img src=\"__data/activation/3-tanh.png\" alt=\"Mohammadkh.ir\" style=\"width: 250px;\"/></div>"
   ]
  },
  {
   "cell_type": "code",
   "execution_count": 3,
   "id": "1925873c",
   "metadata": {},
   "outputs": [],
   "source": [
    "def tanh(z):\n",
    "    return (np.exp(z) - np.exp(-z)) / (np.exp(z) + np.exp(-z))"
   ]
  },
  {
   "cell_type": "markdown",
   "id": "4a6a0649",
   "metadata": {},
   "source": [
    "<h3><div style=\"direction:rtl;text-align:center\">Relu</div></h3>\n",
    "<div style=\"direction:rtl;text-align:center\"><img src=\"__data/activation/4-relu.png\" alt=\"Mohammadkh.ir\" style=\"width: 250px;\"/></div>"
   ]
  },
  {
   "cell_type": "code",
   "execution_count": 4,
   "id": "ed8600cb",
   "metadata": {},
   "outputs": [],
   "source": [
    "def relu(z):\n",
    "    return max(0, z)"
   ]
  },
  {
   "cell_type": "markdown",
   "id": "db991e95",
   "metadata": {},
   "source": [
    "<h3><div style=\"direction:rtl;text-align:center\">LeakyRelu</div></h3>\n",
    "<div style=\"direction:rtl;text-align:center\"><img src=\"__data/activation/5-leakyrelu.png\" alt=\"Mohammadkh.ir\" style=\"width: 250px;\"/></div>"
   ]
  },
  {
   "cell_type": "code",
   "execution_count": 5,
   "id": "49322fa5",
   "metadata": {},
   "outputs": [],
   "source": [
    "def leakyrelu(z, alpha):\n",
    "    return max(alpha * z, z)"
   ]
  },
  {
   "cell_type": "markdown",
   "id": "777db949",
   "metadata": {},
   "source": [
    "<h3><div style=\"direction:rtl;text-align:center\">Elu</div></h3>\n",
    "<div style=\"direction:rtl;text-align:center\"><img src=\"__data/activation/6-elu.png\" alt=\"Mohammadkh.ir\" style=\"width: 250px;\"/></div>"
   ]
  },
  {
   "cell_type": "code",
   "execution_count": 6,
   "id": "edfabbf8",
   "metadata": {},
   "outputs": [],
   "source": [
    "def elu(z,alpha):\n",
    "    return z if z >= 0 else alpha*(e^z -1)"
   ]
  },
  {
   "cell_type": "markdown",
   "id": "8e269b4f",
   "metadata": {},
   "source": [
    "<h3><div style=\"direction:rtl;text-align:center\">SoftSign</div></h3>\n",
    "<div style=\"direction:rtl;text-align:center\"><img src=\"__data/activation/7-softsign.png\" alt=\"Mohammadkh.ir\" style=\"width: 250px;\"/></div>"
   ]
  },
  {
   "cell_type": "code",
   "execution_count": 7,
   "id": "b3c99ab3",
   "metadata": {},
   "outputs": [],
   "source": [
    "def softsign(z):\n",
    "    return z / (1 + abs(z))"
   ]
  },
  {
   "cell_type": "markdown",
   "id": "e860432d",
   "metadata": {},
   "source": [
    "<div class=\"alert alert-block alert-info\">\n",
    "<div style=\"direction:rtl;text-align:left\"><strong>Neural Network</strong><br>MohammadReza <strong>Khajedaloi</strong><br><br>\n",
    "</div>\n",
    "<div style=\"direction:rtl;text-align:right\">\n",
    "<a href=\"http://mohammadkh.ir/\">WebSite</a> - <a href=\"https://github.com/khajedaloi/\">GitHub</a> - <a href=\"https://www.linkedin.com/in/mohammad-kh/\">Linkedin</a>\n",
    "</div>\n",
    "</div>"
   ]
  }
 ],
 "metadata": {
  "kernelspec": {
   "display_name": "deep",
   "language": "python",
   "name": "deep_"
  },
  "language_info": {
   "codemirror_mode": {
    "name": "ipython",
    "version": 3
   },
   "file_extension": ".py",
   "mimetype": "text/x-python",
   "name": "python",
   "nbconvert_exporter": "python",
   "pygments_lexer": "ipython3",
   "version": "3.9.7"
  }
 },
 "nbformat": 4,
 "nbformat_minor": 5
}
