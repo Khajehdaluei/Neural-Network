{
 "cells": [
  {
   "cell_type": "markdown",
   "id": "2b3ec8b6",
   "metadata": {},
   "source": [
    "<div style=\"direction:rtl;text-align:center\"><img src=\"https://dl.mohammadkh.ir/logo.png\" alt=\"Mohammadkh.ir\" style=\"width: 250px;\"/></div>\n",
    "<h1><div style=\"direction:rtl;text-align:center\">Neural Network</div></h1>"
   ]
  },
  {
   "cell_type": "code",
   "execution_count": 1,
   "id": "fc984399",
   "metadata": {},
   "outputs": [],
   "source": [
    "import numpy as np\n",
    "import random"
   ]
  },
  {
   "cell_type": "markdown",
   "id": "bb4e85a2",
   "metadata": {},
   "source": [
    "# data"
   ]
  },
  {
   "cell_type": "code",
   "execution_count": 2,
   "id": "a2feb51f",
   "metadata": {},
   "outputs": [],
   "source": [
    "data = [\n",
    "    [1, 1, 1],\n",
    "    [1, 0, 1],\n",
    "    [0, 1, 1],\n",
    "    [0, 0, 0]\n",
    "]"
   ]
  },
  {
   "cell_type": "markdown",
   "id": "efabc2d0",
   "metadata": {},
   "source": [
    "# def"
   ]
  },
  {
   "cell_type": "code",
   "execution_count": 3,
   "id": "5d5e6410",
   "metadata": {},
   "outputs": [
    {
     "name": "stdout",
     "output_type": "stream",
     "text": [
      "[0.6152287979988665, 0.5330237590336704, 0.8961968798868962]\n"
     ]
    }
   ],
   "source": [
    "def weight(num=3):\n",
    "    w = []\n",
    "    for _ in range(num):\n",
    "        w.append(random.random())\n",
    "    bias = 1\n",
    "    return w, bias\n",
    "\n",
    "w, bias = weight(3)\n",
    "\n",
    "print(w)"
   ]
  },
  {
   "cell_type": "code",
   "execution_count": 4,
   "id": "7a7898ce",
   "metadata": {},
   "outputs": [],
   "source": [
    "def prosess_data(data):\n",
    "    x0 = data[0]\n",
    "    x1 = data[1]\n",
    "    y = data[2]\n",
    "    return x0, x1, y"
   ]
  },
  {
   "cell_type": "code",
   "execution_count": 5,
   "id": "3dcaf393",
   "metadata": {},
   "outputs": [],
   "source": [
    "def activation(num):\n",
    "    if num > 0:\n",
    "        return 1\n",
    "    else:\n",
    "        return 0"
   ]
  },
  {
   "cell_type": "code",
   "execution_count": 6,
   "id": "350130eb",
   "metadata": {},
   "outputs": [],
   "source": [
    "def up_w(w, error, x0, x1, y):\n",
    "    w[0] = w[0] + (error * x0)\n",
    "    w[1] = w[1] + (error * x1)\n",
    "    w[2] = w[2] + (error * bias)"
   ]
  },
  {
   "cell_type": "code",
   "execution_count": 7,
   "id": "0e88f6cb",
   "metadata": {},
   "outputs": [],
   "source": [
    "w, bias = weight(3)\n",
    "\n",
    "def train(data):\n",
    "    x0, x1, y = prosess_data(data)\n",
    "    \n",
    "    output = activation(x0*w[0] + x1*w[1] + bias*w[2])\n",
    "    \n",
    "    error = y - output\n",
    "    \n",
    "    up_w(w, error, x0, x1, y)\n",
    "    \n",
    "    return error"
   ]
  },
  {
   "cell_type": "markdown",
   "id": "964dd74e",
   "metadata": {},
   "source": [
    "# train"
   ]
  },
  {
   "cell_type": "code",
   "execution_count": 8,
   "id": "04f1df00",
   "metadata": {},
   "outputs": [
    {
     "name": "stdout",
     "output_type": "stream",
     "text": [
      "errors : [[], [0, 0, 0, -1], [0, 0, 0, 0], [0, 0, 0, 0], [0, 0, 0, 0]]\n",
      "\n",
      "w : [0.6547511061095509, 0.9563916636269291, -0.38936714792789373]   bias : 1\n"
     ]
    }
   ],
   "source": [
    "errors = []\n",
    "error = []\n",
    "for i in range(5):\n",
    "    errors.append(error)\n",
    "    error = []\n",
    "    for j in data:\n",
    "        error.append(train(j))\n",
    "        \n",
    "print('errors : ' + str(errors) + '\\n')\n",
    "print('w : ' + str(w) + '   bias : ' + str(bias))"
   ]
  },
  {
   "cell_type": "markdown",
   "id": "c5354e01",
   "metadata": {},
   "source": [
    "# test"
   ]
  },
  {
   "cell_type": "code",
   "execution_count": 9,
   "id": "47cc8dc1",
   "metadata": {},
   "outputs": [
    {
     "data": {
      "text/plain": [
       "0"
      ]
     },
     "execution_count": 9,
     "metadata": {},
     "output_type": "execute_result"
    }
   ],
   "source": [
    "x_new = [0.1, 0]\n",
    "\n",
    "activation(\n",
    "           x_new[0]*w[0] + x_new[1]*w[1] + bias*w[2]\n",
    "          )"
   ]
  },
  {
   "cell_type": "markdown",
   "id": "2534fe80",
   "metadata": {},
   "source": [
    "## ------->  https://playground.tensorflow.org/"
   ]
  },
  {
   "cell_type": "markdown",
   "id": "e860432d",
   "metadata": {},
   "source": [
    "<div class=\"alert alert-block alert-info\">\n",
    "<div style=\"direction:rtl;text-align:left\"><strong>Neural Network</strong><br>MohammadReza <strong>Khajedaloi</strong><br><br>\n",
    "</div>\n",
    "<div style=\"direction:rtl;text-align:right\">\n",
    "<a href=\"http://mohammadkh.ir/\">WebSite</a> - <a href=\"https://github.com/khajedaloi/\">GitHub</a> - <a href=\"https://www.linkedin.com/in/mohammad-kh/\">Linkedin</a>\n",
    "</div>\n",
    "</div>"
   ]
  }
 ],
 "metadata": {
  "kernelspec": {
   "display_name": "deep",
   "language": "python",
   "name": "deep_"
  },
  "language_info": {
   "codemirror_mode": {
    "name": "ipython",
    "version": 3
   },
   "file_extension": ".py",
   "mimetype": "text/x-python",
   "name": "python",
   "nbconvert_exporter": "python",
   "pygments_lexer": "ipython3",
   "version": "3.9.7"
  }
 },
 "nbformat": 4,
 "nbformat_minor": 5
}
