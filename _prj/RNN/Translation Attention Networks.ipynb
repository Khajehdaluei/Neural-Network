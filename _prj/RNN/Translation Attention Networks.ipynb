{
 "cells": [
  {
   "cell_type": "markdown",
   "id": "2b3ec8b6",
   "metadata": {},
   "source": [
    "<div style=\"direction:rtl;text-align:center\"><img src=\"https://dl.mohammadkh.ir/logo.png\" alt=\"Mohammadkh.ir\" style=\"width: 250px;\"/></div>\n",
    "<h1><div style=\"direction:rtl;text-align:center\">Neural Network</div></h1>"
   ]
  },
  {
   "cell_type": "code",
   "execution_count": 1,
   "id": "1a9c005a",
   "metadata": {},
   "outputs": [],
   "source": [
    "import tensorflow as tf\n",
    "import tensorflow.keras as keras\n",
    "from sklearn.model_selection import train_test_split\n",
    "import unicodedata\n",
    "import re\n",
    "import numpy as np\n",
    "import os\n",
    "import io\n",
    "import pickle"
   ]
  },
  {
   "cell_type": "markdown",
   "id": "502bad0e",
   "metadata": {},
   "source": [
    "### dl & clean & preprocess data"
   ]
  },
  {
   "cell_type": "markdown",
   "id": "8c455371",
   "metadata": {},
   "source": [
    "##### dl"
   ]
  },
  {
   "cell_type": "code",
   "execution_count": 2,
   "id": "e6b284a1",
   "metadata": {},
   "outputs": [],
   "source": [
    "path_to_zip = keras.utils.get_file('spa-eng.zip',\n",
    "                                   origin='https://storage.googleapis.com/download.tensorflow.org/data/spa-eng.zip',\n",
    "                                   extract=True)\n",
    "path_to_file = os.path.join(os.path.dirname(path_to_zip), 'spa-eng', 'spa.txt')"
   ]
  },
  {
   "cell_type": "markdown",
   "id": "b6b74177",
   "metadata": {},
   "source": [
    "##### clean"
   ]
  },
  {
   "cell_type": "code",
   "execution_count": 3,
   "id": "8cd630b1",
   "metadata": {},
   "outputs": [
    {
     "name": "stdout",
     "output_type": "stream",
     "text": [
      "Aun no he dicho nada. !&^%\n",
      "<start> aun no he dicho nada . <end>\n"
     ]
    }
   ],
   "source": [
    "def unicode_to_ascii(s):\n",
    "    return ''.join(c for c in unicodedata.normalize('NFD', s) if unicodedata.category(c) != 'Mn')\n",
    "\n",
    "def preprocess_senetence(w):\n",
    "    w = unicode_to_ascii(w.lower().strip())\n",
    "    w = re.sub(r\"([?.~,])\", r\" \\1 \", w)       # expand spase ali. --> ali .\n",
    "    w = re.sub(r'[\" \"]+', \" \", w)             # remove extra space\n",
    "    w = re.sub(r\"[^a-zA-Z?.~,]+\", \" \", w)     # revove all - [^a-zA-Z?.~,]\n",
    "    w = w.rstrip().strip()\n",
    "    w = '<start> ' + w + ' <end>'\n",
    "    return w\n",
    "print(unicode_to_ascii(\"Aún no he dicho nada. !&^%\"))\n",
    "print(preprocess_senetence(\"Aún no he dicho nada. !&^%\"))"
   ]
  },
  {
   "cell_type": "code",
   "execution_count": 4,
   "id": "5808607f",
   "metadata": {},
   "outputs": [
    {
     "name": "stdout",
     "output_type": "stream",
     "text": [
      "[('<start> go . <end>', '<start> go . <end>'), ('<start> ve . <end>', '<start> vete . <end>')]\n"
     ]
    }
   ],
   "source": [
    "def create_dataset(path, num_examples):\n",
    "    \n",
    "    lines = io.open(path, encoding='UTF-8').read().strip().split('\\n')\n",
    "    \n",
    "    word_pairs = [[preprocess_senetence(w) for w in l.split('\\t')] for l in lines[:num_examples]]\n",
    "    \n",
    "    return zip(*word_pairs)\n",
    "\n",
    "print(list(create_dataset(path_to_file, 2)))"
   ]
  },
  {
   "cell_type": "markdown",
   "id": "e1e84b74",
   "metadata": {},
   "source": [
    "##### preprocess"
   ]
  },
  {
   "cell_type": "code",
   "execution_count": 5,
   "id": "1655a97b",
   "metadata": {},
   "outputs": [
    {
     "name": "stdout",
     "output_type": "stream",
     "text": [
      "[ 1 40  3  2  0  0  0  0  0]\n",
      "1  ....  <start>\n",
      "40  ....  ve\n",
      "3  ....  .\n",
      "2  ....  <end>\n",
      "None\n"
     ]
    }
   ],
   "source": [
    "def max_length(tensor):\n",
    "    return max(len(t) for t in tensor)\n",
    "\n",
    "def tokenize(lang):\n",
    "    # tokenize\n",
    "    lang_tokenizer = keras.preprocessing.text.Tokenizer(filters='')\n",
    "    lang_tokenizer.fit_on_texts(lang)\n",
    "    \n",
    "    # transfirm input\n",
    "    tensor = lang_tokenizer.texts_to_sequences(lang)\n",
    "    \n",
    "    # pading --> max len\n",
    "    tensor = keras.preprocessing.sequence.pad_sequences(tensor, padding='post')\n",
    "    return tensor, lang_tokenizer\n",
    "\n",
    "# call all fun\n",
    "def load_dataset(path, num_examples=None):\n",
    "    \n",
    "    targ_lang, inp_lang = create_dataset(path, num_examples)\n",
    "    \n",
    "    input_tensor, inp_lang_tokenizer = tokenize(inp_lang)\n",
    "    target_tensor, target_lang_tokenizer = tokenize(targ_lang)\n",
    "    \n",
    "    return input_tensor, target_tensor, inp_lang_tokenizer, target_lang_tokenizer\n",
    "\n",
    "#decoder\n",
    "def convert(lang, tensor):\n",
    "    for t in tensor:\n",
    "        if t != 0:\n",
    "            print(t, ' .... ', lang.index_word[t])\n",
    "\n",
    "input_tensor, target_tensor, input_lang_tokenizer, target_lang_tokenizer = load_dataset(path_to_file, None)\n",
    "max_length_targ, max_length_inp = max_length(target_tensor), max_length(input_tensor)\n",
    "# print(target_lang_tokenizer.word_index)\n",
    "print(input_tensor[0])\n",
    "print(convert(input_lang_tokenizer, input_tensor[0]))\n",
    "\n",
    "with open('../../__data/Translation Attention Networks/input_lang_tokenizer.moh','wb') as f:\n",
    "    pickle.dump(input_lang_tokenizer,f)\n",
    "with open('../../__data/Translation Attention Networks/target_lang_tokenizer.moh','wb') as f:\n",
    "    pickle.dump(target_lang_tokenizer,f)"
   ]
  },
  {
   "cell_type": "markdown",
   "id": "305aefeb",
   "metadata": {},
   "source": [
    "#### create dataset"
   ]
  },
  {
   "cell_type": "code",
   "execution_count": 6,
   "id": "0aa56ee3",
   "metadata": {},
   "outputs": [],
   "source": [
    "X_train, X_test, y_train, y_test = train_test_split(input_tensor, target_tensor, test_size=0.2)\n",
    "\n",
    "BUFFER_SIZE = len(X_train)\n",
    "BATCH_SIZE = 64\n",
    "steps_per_epoch = len(X_train) // BATCH_SIZE\n",
    "embedding_dim = 256\n",
    "units = 1024\n",
    "vocab_inp_size = len(input_lang_tokenizer.word_index) + 1\n",
    "vocab_targ_size = len(target_lang_tokenizer.word_index) + 1\n",
    "\n",
    "dataset = tf.data.Dataset.from_tensor_slices((X_train, y_train)).shuffle(BUFFER_SIZE)\n",
    "dataset = dataset.batch(BATCH_SIZE, drop_remainder=True)"
   ]
  },
  {
   "cell_type": "markdown",
   "id": "236c40d6",
   "metadata": {},
   "source": [
    "### create and fit model\n",
    "##### create"
   ]
  },
  {
   "cell_type": "code",
   "execution_count": 7,
   "id": "4b0fbe64",
   "metadata": {},
   "outputs": [
    {
     "data": {
      "text/plain": [
       "(7, 9, 752, 346)"
      ]
     },
     "execution_count": 7,
     "metadata": {},
     "output_type": "execute_result"
    }
   ],
   "source": [
    "example_input_batch, example_target_batch = next(iter(dataset))\n",
    "max_length_targ, max_length_inp, len(input_lang_tokenizer.word_index), len(target_lang_tokenizer.word_index)"
   ]
  },
  {
   "cell_type": "code",
   "execution_count": 8,
   "id": "b1277264",
   "metadata": {},
   "outputs": [
    {
     "name": "stdout",
     "output_type": "stream",
     "text": [
      "tf.Tensor(\n",
      "[[0. 0. 0. ... 0. 0. 0.]\n",
      " [0. 0. 0. ... 0. 0. 0.]], shape=(2, 1024), dtype=float32)\n"
     ]
    },
    {
     "data": {
      "text/plain": [
       "TensorShape([64, 9, 1024])"
      ]
     },
     "execution_count": 8,
     "metadata": {},
     "output_type": "execute_result"
    }
   ],
   "source": [
    "class Encoder(keras.Model):\n",
    "    def __init__(self, vocab_size, embedding_dim, enc_units, batch_size):\n",
    "        super(Encoder, self).__init__()\n",
    "        self.batch_size = batch_size\n",
    "        self.enc_units = enc_units\n",
    "        self.embedding = keras.layers.Embedding(vocab_size, embedding_dim)\n",
    "        self.gru = keras.layers.GRU(self.enc_units, return_sequences=True, return_state=True)\n",
    "    def call(self, x, hidden):\n",
    "        # print(x.shape)\n",
    "        x = self.embedding(x)\n",
    "        # print(x.shape)\n",
    "        output, state = self.gru(x, initial_state=hidden)\n",
    "        # print(output.shape)\n",
    "        return output, state\n",
    "    def initilize_hidden_state(self):\n",
    "        return tf.zeros((self.batch_size, self.enc_units))\n",
    "\n",
    "encoder = Encoder(vocab_inp_size, embedding_dim, units, BATCH_SIZE)\n",
    "\n",
    "simple_hidden = encoder.initilize_hidden_state()\n",
    "print(simple_hidden[:2])\n",
    "\n",
    "simple_output, simple_states = encoder(example_input_batch, simple_hidden)\n",
    "simple_output.shape"
   ]
  },
  {
   "cell_type": "code",
   "execution_count": 9,
   "id": "ff8daa61",
   "metadata": {},
   "outputs": [],
   "source": [
    "# attention use decoder\n",
    "class Attention(keras.layers.Layer):\n",
    "    def __init__ (self, units):\n",
    "        super(Attention, self).__init__()\n",
    "        self.W1 = keras.layers.Dense(units)\n",
    "        self.W2 = keras.layers.Dense(units)\n",
    "        self.V = keras.layers.Dense(1)\n",
    "    def call (self, query, values):\n",
    "        # print(query.shape)  # last hiden state \n",
    "        # print(values.shape) # encoder\n",
    "        hidden_with_time_axis = tf.expand_dims(query, 1)\n",
    "        # print(hidden_with_time_axis.shape)\n",
    "        score = self.V(tf.nn.tanh(self.W1(values) + self.W2(hidden_with_time_axis)))\n",
    "        # print((self.W1(values)).shape)\n",
    "        # print((self.W2(hidden_with_time_axis)).shape)\n",
    "        # print(score.shape)\n",
    "        atteion_weights = tf.nn.softmax(score, axis=1)\n",
    "        # print(atteion_weights.shape)\n",
    "        context_vector = atteion_weights * values\n",
    "        # print(context_vector.shape)\n",
    "        context_vector = tf.reduce_sum(context_vector, axis=1)\n",
    "        # print(context_vector.shape)\n",
    "        return context_vector, atteion_weights\n",
    "    \n",
    "attention_layer = Attention(units)\n",
    "\n",
    "attention_result, _ = attention_layer(simple_hidden, simple_output)"
   ]
  },
  {
   "cell_type": "code",
   "execution_count": 10,
   "id": "691b76ee",
   "metadata": {},
   "outputs": [],
   "source": [
    "class Decoder(keras.Model):\n",
    "    def __init__ (self, vocab_size, embedding_dim, dec_units, batch_size):\n",
    "        super(Decoder, self).__init__()\n",
    "        self.batch_size = batch_size\n",
    "        self.dec_units = dec_units\n",
    "        self.embedding = keras.layers.Embedding(vocab_size, embedding_dim)\n",
    "        self.gru = keras.layers.GRU(self.dec_units, return_sequences=True, return_state=True)\n",
    "        self.fc = keras.layers.Dense(vocab_size)\n",
    "        self.attention = Attention(self.dec_units)\n",
    "    def call(self, x, hidden, enc_output):\n",
    "        # print(x.shape)\n",
    "        context_vector, _ = self.attention(hidden, enc_output)\n",
    "        # print(context_vector.shape)\n",
    "        x = self.embedding(x)\n",
    "        # print(x.shape)\n",
    "        x = tf.concat([tf.expand_dims(context_vector, 1), x], axis=-1)\n",
    "        # print(x.shape)\n",
    "        output, state = self.gru(x)\n",
    "        # print(output.shape)\n",
    "        output = tf.reshape(output, (-1, output.shape[2]))\n",
    "        # print(output.shape)\n",
    "        x = self.fc(output)\n",
    "        #print(x.shape)\n",
    "        return x, state\n",
    "    \n",
    "decoder = Decoder(vocab_targ_size, embedding_dim, units, BATCH_SIZE)\n",
    "\n",
    "x, state = decoder(tf.random.uniform((BATCH_SIZE, 1)), simple_hidden, simple_output)"
   ]
  },
  {
   "cell_type": "markdown",
   "id": "9a512261",
   "metadata": {},
   "source": [
    "##### fit"
   ]
  },
  {
   "cell_type": "code",
   "execution_count": 11,
   "id": "ecf26a50",
   "metadata": {},
   "outputs": [],
   "source": [
    "optimizer = keras.optimizers.Adam()\n",
    "\n",
    "loss_object = keras.losses.SparseCategoricalCrossentropy(from_logits=True, reduction='none')\n",
    "def loss_function(real, pred):\n",
    "    mask = tf.math.logical_not(tf.math.equal(real, 0))\n",
    "    loss_ = loss_object(real, pred)\n",
    "    mask = tf.cast(mask, dtype=loss_.dtype)\n",
    "    loss_ *= mask\n",
    "    return tf.reduce_mean(loss_)"
   ]
  },
  {
   "cell_type": "code",
   "execution_count": 12,
   "id": "9103a6fa",
   "metadata": {},
   "outputs": [],
   "source": [
    "checkpoint_dir = '../../__data/Translation Attention Networks/Translation_Attention'\n",
    "checkpoint = tf.train.Checkpoint(optimizer=optimizer, encoder=encoder, decoder=decoder)"
   ]
  },
  {
   "cell_type": "code",
   "execution_count": 13,
   "id": "1cff848a",
   "metadata": {},
   "outputs": [],
   "source": [
    "def train_step(inp, targ, enc_hidden):\n",
    "    loss = 0\n",
    "    with tf.GradientTape() as tape:\n",
    "        enc_output, enc_hidden = encoder(inp, enc_hidden)\n",
    "        dec_hidden = enc_hidden\n",
    "        dec_input = tf.expand_dims([target_lang_tokenizer.word_index['<start>']] * BATCH_SIZE, 1)\n",
    "        for t in range(1, targ.shape[1]):\n",
    "            predictions, dec_hidden = decoder(dec_input, dec_hidden, enc_output)\n",
    "            loss += loss_function(targ[:, t], predictions)\n",
    "            dec_input = tf.expand_dims(targ[:, t], 1)\n",
    "    batch_loss = (loss / int(targ.shape[1]))\n",
    "    variables = encoder.trainable_variables + decoder.trainable_variables\n",
    "    gradients = tape.gradient(loss, variables)\n",
    "    optimizer.apply_gradients(zip(gradients, variables))\n",
    "    return batch_loss"
   ]
  },
  {
   "cell_type": "code",
   "execution_count": null,
   "id": "547bafad",
   "metadata": {
    "scrolled": true
   },
   "outputs": [],
   "source": [
    "EPOCH = 1\n",
    "for epoch in range(EPOCH):\n",
    "    enc_hidden = encoder.initilize_hidden_state()\n",
    "    total_loss = 0\n",
    "    for (batch, (inp, targ)) in enumerate(dataset.take(steps_per_epoch)):\n",
    "        batch_loss = train_step(inp, targ, enc_hidden)\n",
    "        total_loss += batch_loss\n",
    "    loss = total_loss/steps_per_epoch\n",
    "    print('Epoch: ', epoch)\n",
    "    print('Loss: ', loss.numpy())\n",
    "    checkpoint.save(file_prefix=checkpoint_dir)"
   ]
  },
  {
   "cell_type": "code",
   "execution_count": 14,
   "id": "a3b115f9",
   "metadata": {},
   "outputs": [],
   "source": [
    "def evaluate(sentence):\n",
    "    sentence = preprocess_senetence(sentence)\n",
    "    inputs = [input_lang_tokenizer.word_index[i] for i in sentence.split(' ')]\n",
    "    inputs = keras.preprocessing.sequence.pad_sequences([inputs], maxlen=max_length_inp, padding='post')\n",
    "    inputs = tf.convert_to_tensor(inputs)\n",
    "    result = ''\n",
    "    hidden = [tf.zeros((1, units))]\n",
    "    enc_out, enc_hidden = encoder(inputs, hidden)\n",
    "    dec_hidden = enc_hidden\n",
    "    dec_input = tf.expand_dims([target_lang_tokenizer.word_index['<strat>']], 0)\n",
    "    for t in range(max_length_targ):\n",
    "        predictions, dec_hidden = decoder(dec_input, dec_hidden, enc_out)\n",
    "        predicted_id = tf.argmax(predictions[0]).numpy()\n",
    "        result += target_lang_tokenizer.index_word[predicted_id] + ' '\n",
    "        if target_lang_tokenizer.index_word[predicted_id] == '<end>':\n",
    "            return result, sentence\n",
    "        dec_input = tf.expand_dims([predicted_id], 0)\n",
    "    return result, sentence"
   ]
  },
  {
   "cell_type": "code",
   "execution_count": 47,
   "id": "2fb76f38",
   "metadata": {},
   "outputs": [
    {
     "data": {
      "text/plain": [
       "('i m not a car . <end> ', '<strat> hace mucho frio aqui . <end>')"
      ]
     },
     "execution_count": 47,
     "metadata": {},
     "output_type": "execute_result"
    }
   ],
   "source": [
    "checkpoint.restore(tf.train.latest_checkpoint(checkpoint_dir))\n",
    "with open('../../__data/Translation Attention Networks/input_lang_tokenizer.moh','rb') as f:\n",
    "    input_lang_tokenizer = pickle.load(f)\n",
    "with open('../../__data/Translation Attention Networks/target_lang_tokenizer.moh','rb') as f:\n",
    "    target_lang_tokenizer = pickle.load(f)\n",
    "evaluate('hace mucho frio aqui.')"
   ]
  },
  {
   "cell_type": "markdown",
   "id": "e860432d",
   "metadata": {},
   "source": [
    "<div class=\"alert alert-block alert-info\">\n",
    "<div style=\"direction:rtl;text-align:left\"><strong>Neural Network</strong><br>MohammadReza <strong>Khajedaloi</strong><br><br>\n",
    "</div>\n",
    "<div style=\"direction:rtl;text-align:right\">\n",
    "<a href=\"http://mohammadkh.ir/\">WebSite</a> - <a href=\"https://github.com/khajedaloi/\">GitHub</a> - <a href=\"https://www.linkedin.com/in/mohammad-kh/\">Linkedin</a>\n",
    "</div>\n",
    "</div>"
   ]
  }
 ],
 "metadata": {
  "kernelspec": {
   "display_name": "deep",
   "language": "python",
   "name": "deep_"
  },
  "language_info": {
   "codemirror_mode": {
    "name": "ipython",
    "version": 3
   },
   "file_extension": ".py",
   "mimetype": "text/x-python",
   "name": "python",
   "nbconvert_exporter": "python",
   "pygments_lexer": "ipython3",
   "version": "3.9.7"
  }
 },
 "nbformat": 4,
 "nbformat_minor": 5
}
