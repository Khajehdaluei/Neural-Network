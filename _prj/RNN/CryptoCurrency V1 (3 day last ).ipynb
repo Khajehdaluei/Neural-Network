{
 "cells": [
  {
   "cell_type": "markdown",
   "id": "2b3ec8b6",
   "metadata": {},
   "source": [
    "<div style=\"direction:rtl;text-align:center\"><img src=\"https://dl.mohammadkh.ir/logo.png\" alt=\"Mohammadkh.ir\" style=\"width: 250px;\"/></div>\n",
    "<h1><div style=\"direction:rtl;text-align:center\">Neural Network</div></h1>"
   ]
  },
  {
   "cell_type": "code",
   "execution_count": 21,
   "id": "d67d8a27",
   "metadata": {},
   "outputs": [],
   "source": [
    "import pandas as pd\n",
    "import numpy as np\n",
    "from matplotlib import pyplot\n",
    "from collections import deque\n",
    "from sklearn import preprocessing\n",
    "import random\n",
    "\n",
    "import tensorflow as tf\n",
    "from tensorflow.keras.models import Sequential\n",
    "from tensorflow.keras.layers import LSTM, Dense, Dropout, BatchNormalization"
   ]
  },
  {
   "cell_type": "markdown",
   "id": "c2b4150b",
   "metadata": {},
   "source": [
    "### Load & Preprocess data"
   ]
  },
  {
   "cell_type": "code",
   "execution_count": 20,
   "id": "9a961c90",
   "metadata": {},
   "outputs": [
    {
     "name": "stdout",
     "output_type": "stream",
     "text": [
      "(71030, 30, 8)\n",
      "(71030,)\n",
      "(array([0., 1.]), array([35515, 35515], dtype=int64))\n"
     ]
    }
   ],
   "source": [
    "main = pd.DataFrame()\n",
    "\n",
    "currencies = ['BCH-USD', 'BTC-USD', 'ETH-USD', 'LTC-USD']\n",
    "\n",
    "# load data and concate \n",
    "for c in currencies:\n",
    "    dataset = '../../__data/crypto/' + c + '.csv'\n",
    "    df = pd.read_csv(dataset, names=['time', 'low', 'high', 'open', 'close', 'volume'])\n",
    "    df.rename(columns={'close': c + '_close', 'volume': c + '_volume'}, inplace=True)\n",
    "    df.set_index('time', inplace=True)\n",
    "    df = df[[c + '_close', c + '_volume']]\n",
    "    if len(main) == 0:\n",
    "        main = df\n",
    "    else:\n",
    "        main = main.join(df)\n",
    "\n",
    "# fill nan\n",
    "main.fillna(method='ffill', inplace=True)      # fill last\n",
    "main.fillna(method='bfill', inplace=True)      # fill next\n",
    "\n",
    "# creat target\n",
    "## cal 3 day last \n",
    "main['future'] = main['LTC-USD_close'].shift(-3)\n",
    "## cal up or down price \n",
    "def target(current, future):\n",
    "    if future > current:\n",
    "        return 1\n",
    "    else:\n",
    "        return 0\n",
    "## fit fun\n",
    "main['target'] = list(map(target, main['LTC-USD_close'], main['future']))\n",
    "\n",
    "\n",
    "# split train and tesr\n",
    "## cal len train and test\n",
    "len_ = len(main.index.values)\n",
    "split = sorted(main.index.values)[-int(0.1 * len_)]\n",
    "## creat train and test\n",
    "main_test = main[(main.index >= split)]\n",
    "main_train = main[(main.index < split)]\n",
    "\n",
    "\n",
    "# preprocess data\n",
    "def preprocess_data(df):\n",
    "    ## remove col future\n",
    "    df = df.drop('future', axis=1)\n",
    "    ## call diif col -->pct_change() --> diff\n",
    "    for col in df.columns:\n",
    "        if col != 'target':\n",
    "            df[col] = df[col].pct_change()\n",
    "            ## remove row  nan\n",
    "            df.dropna(inplace=True)\n",
    "            ## scale col\n",
    "            df[col] = preprocessing.scale(df[col].values)\n",
    "    df.dropna(inplace=True)\n",
    "    sequences = []\n",
    "    ## create data time series for rnn\n",
    "    prev_days = deque(maxlen=30)\n",
    "    for i in df.values:\n",
    "        ## split X and target\n",
    "        prev_days.append([n for n in i[:-1]])\n",
    "        if len(prev_days) == 30:\n",
    "            sequences.append([np.array(prev_days), i[-1]])\n",
    "    random.shuffle(sequences)\n",
    "    \n",
    "    ## balansing data\n",
    "    buys = []\n",
    "    sells = []\n",
    "    for seq, target in sequences:\n",
    "        if target == 0:\n",
    "            sells.append([seq, target])\n",
    "        elif target == 1:\n",
    "            buys.append([seq, target])\n",
    "    random.shuffle(buys)\n",
    "    random.shuffle(sells)\n",
    "    lower = min(len(buys), len(sells))\n",
    "    buys = buys[:lower]\n",
    "    sells = sells[:lower]\n",
    "    sequential_data = buys + sells\n",
    "    random.shuffle(sequential_data)\n",
    "    \n",
    "    ## criate final data\n",
    "    X = []\n",
    "    y = []\n",
    "    for seq, target in sequential_data:\n",
    "        X.append(seq)\n",
    "        y.append(target)\n",
    "    return np.array(X), np.array(y)\n",
    "## call fun\n",
    "train_X, train_y = preprocess_data(main_train)\n",
    "test_X, test_y = preprocess_data(main_test)\n",
    "\n",
    "# print(main.isnull().sum())\n",
    "# print(main.head(2))\n",
    "# print(main_test.head(2))\n",
    "print(train_X.shape)\n",
    "print(train_y.shape)\n",
    "print(np.unique(train_y, return_counts=True))"
   ]
  },
  {
   "cell_type": "markdown",
   "id": "0b01d374",
   "metadata": {},
   "source": [
    "### create & fit model"
   ]
  },
  {
   "cell_type": "code",
   "execution_count": 29,
   "id": "a131ffa2",
   "metadata": {},
   "outputs": [
    {
     "name": "stdout",
     "output_type": "stream",
     "text": [
      "Model: \"sequential_4\"\n",
      "_________________________________________________________________\n",
      " Layer (type)                Output Shape              Param #   \n",
      "=================================================================\n",
      " lstm_6 (LSTM)               (None, 30, 128)           70144     \n",
      "                                                                 \n",
      " lstm_7 (LSTM)               (None, 64)                49408     \n",
      "                                                                 \n",
      " dense_12 (Dense)            (None, 32)                2080      \n",
      "                                                                 \n",
      " dense_13 (Dense)            (None, 16)                528       \n",
      "                                                                 \n",
      " dense_14 (Dense)            (None, 2)                 34        \n",
      "                                                                 \n",
      "=================================================================\n",
      "Total params: 122,194\n",
      "Trainable params: 122,194\n",
      "Non-trainable params: 0\n",
      "_________________________________________________________________\n"
     ]
    }
   ],
   "source": [
    "model = Sequential()\n",
    "model.add(LSTM(128, activation='relu', return_sequences=True, input_shape=(train_X.shape[1:])))\n",
    "model.add(LSTM(64, activation='relu'))\n",
    "model.add(Dense(32, activation='relu'))\n",
    "model.add(Dense(16, activation='relu'))\n",
    "model.add(Dense(2, activation='softmax'))\n",
    "\n",
    "model.summary()"
   ]
  },
  {
   "cell_type": "code",
   "execution_count": 30,
   "id": "bd9d3cd4",
   "metadata": {},
   "outputs": [],
   "source": [
    "model.compile(loss='sparse_categorical_crossentropy', optimizer='Adam', metrics=['accuracy'])"
   ]
  },
  {
   "cell_type": "code",
   "execution_count": null,
   "id": "ddde5651",
   "metadata": {},
   "outputs": [],
   "source": [
    "from tensorflow.keras.models import load_model\n",
    "model = load_model('')"
   ]
  },
  {
   "cell_type": "code",
   "execution_count": null,
   "id": "0906b261",
   "metadata": {},
   "outputs": [],
   "source": [
    "history = model.fit(initial_epoch=100,train_X, train_y, batch_size=100, epochs=100, validation_data=(test_X, test_y))"
   ]
  },
  {
   "cell_type": "markdown",
   "id": "e860432d",
   "metadata": {},
   "source": [
    "<div class=\"alert alert-block alert-info\">\n",
    "<div style=\"direction:rtl;text-align:left\"><strong>Neural Network</strong><br>MohammadReza <strong>Khajedaloi</strong><br><br>\n",
    "</div>\n",
    "<div style=\"direction:rtl;text-align:right\">\n",
    "<a href=\"http://mohammadkh.ir/\">WebSite</a> - <a href=\"https://github.com/khajedaloi/\">GitHub</a> - <a href=\"https://www.linkedin.com/in/mohammad-kh/\">Linkedin</a>\n",
    "</div>\n",
    "</div>"
   ]
  }
 ],
 "metadata": {
  "kernelspec": {
   "display_name": "deep",
   "language": "python",
   "name": "deep_"
  },
  "language_info": {
   "codemirror_mode": {
    "name": "ipython",
    "version": 3
   },
   "file_extension": ".py",
   "mimetype": "text/x-python",
   "name": "python",
   "nbconvert_exporter": "python",
   "pygments_lexer": "ipython3",
   "version": "3.9.7"
  }
 },
 "nbformat": 4,
 "nbformat_minor": 5
}
