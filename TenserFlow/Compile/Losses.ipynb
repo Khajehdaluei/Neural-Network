{
 "cells": [
  {
   "cell_type": "markdown",
   "id": "2b3ec8b6",
   "metadata": {},
   "source": [
    "<div style=\"direction:rtl;text-align:center\"><img src=\"https://mohammadkh.ir/github/logo.png\" alt=\"Mohammadkh.ir\" style=\"width: 250px;\"/></div>\n",
    "<h1><div style=\"direction:rtl;text-align:center\">Neural Network</div></h1>"
   ]
  },
  {
   "cell_type": "code",
   "execution_count": 1,
   "id": "5ac67452",
   "metadata": {},
   "outputs": [],
   "source": [
    "from tensorflow.keras.losses import *"
   ]
  },
  {
   "cell_type": "markdown",
   "id": "525f3448",
   "metadata": {},
   "source": [
    "# Classifair"
   ]
  },
  {
   "cell_type": "markdown",
   "id": "3cd2d50d",
   "metadata": {},
   "source": [
    "### BinaryCrossentropy"
   ]
  },
  {
   "cell_type": "code",
   "execution_count": 2,
   "id": "9409caea",
   "metadata": {},
   "outputs": [
    {
     "data": {
      "text/plain": [
       "<keras.losses.BinaryCrossentropy at 0x1e395546b80>"
      ]
     },
     "execution_count": 2,
     "metadata": {},
     "output_type": "execute_result"
    }
   ],
   "source": [
    "# for two label classes\n",
    "BinaryCrossentropy(from_logits=False)               # from_logits=True when final layer not activation softmax"
   ]
  },
  {
   "cell_type": "markdown",
   "id": "86c09fb4",
   "metadata": {},
   "source": [
    "### CategoricalCrossentropy"
   ]
  },
  {
   "cell_type": "code",
   "execution_count": 3,
   "id": "32fa0383",
   "metadata": {
    "scrolled": true
   },
   "outputs": [
    {
     "data": {
      "text/plain": [
       "<keras.losses.CategoricalCrossentropy at 0x1e3ac9941f0>"
      ]
     },
     "execution_count": 3,
     "metadata": {},
     "output_type": "execute_result"
    }
   ],
   "source": [
    "# for two or more label classes\n",
    "# labels to be provided in a one_hot representation\n",
    "CategoricalCrossentropy(from_logits=False)          # from_logits=True when final layer not activation softmax "
   ]
  },
  {
   "cell_type": "markdown",
   "id": "82dda717",
   "metadata": {},
   "source": [
    "### SparseCategoricalCrossentropy"
   ]
  },
  {
   "cell_type": "code",
   "execution_count": 4,
   "id": "788d6299",
   "metadata": {},
   "outputs": [
    {
     "data": {
      "text/plain": [
       "<keras.losses.SparseCategoricalCrossentropy at 0x1e3ac994190>"
      ]
     },
     "execution_count": 4,
     "metadata": {},
     "output_type": "execute_result"
    }
   ],
   "source": [
    "# for two or more label classes\n",
    "# labels int\n",
    "SparseCategoricalCrossentropy(from_logits=False)    # from_logits=True when final layer not activation softmax"
   ]
  },
  {
   "cell_type": "markdown",
   "id": "c03743eb",
   "metadata": {},
   "source": [
    "# Regression"
   ]
  },
  {
   "cell_type": "markdown",
   "id": "4b474e4e",
   "metadata": {},
   "source": [
    "### MeanSquaredError"
   ]
  },
  {
   "cell_type": "code",
   "execution_count": 5,
   "id": "d1137726",
   "metadata": {},
   "outputs": [
    {
     "data": {
      "text/plain": [
       "<keras.losses.MeanSquaredError at 0x1e39553c220>"
      ]
     },
     "execution_count": 5,
     "metadata": {},
     "output_type": "execute_result"
    }
   ],
   "source": [
    "# loss = square(y_true - y_pred)\n",
    "MeanSquaredError()"
   ]
  },
  {
   "cell_type": "markdown",
   "id": "a9e32fef",
   "metadata": {},
   "source": [
    "### MeanAbsoluteError"
   ]
  },
  {
   "cell_type": "code",
   "execution_count": 6,
   "id": "da7ad1ed",
   "metadata": {},
   "outputs": [
    {
     "data": {
      "text/plain": [
       "<keras.losses.MeanAbsoluteError at 0x1e3ac9944c0>"
      ]
     },
     "execution_count": 6,
     "metadata": {},
     "output_type": "execute_result"
    }
   ],
   "source": [
    "# loss = abs(y_true - y_pred)\n",
    "MeanAbsoluteError()"
   ]
  },
  {
   "cell_type": "markdown",
   "id": "e860432d",
   "metadata": {},
   "source": [
    "<div class=\"alert alert-block alert-info\">\n",
    "<div style=\"direction:rtl;text-align:left\"><strong>Neural Network</strong><br>MohammadReza <strong>Khajedaloi</strong><br><br>\n",
    "</div>\n",
    "<div style=\"direction:rtl;text-align:right\">\n",
    "<a href=\"http://mohammadkh.ir/\">WebSite</a> - <a href=\"https://github.com/khajedaloi/\">GitHub</a> - <a href=\"https://www.linkedin.com/in/mohammad-kh/\">Linkedin</a>\n",
    "</div>\n",
    "</div>"
   ]
  }
 ],
 "metadata": {
  "kernelspec": {
   "display_name": "deep",
   "language": "python",
   "name": "deep_"
  },
  "language_info": {
   "codemirror_mode": {
    "name": "ipython",
    "version": 3
   },
   "file_extension": ".py",
   "mimetype": "text/x-python",
   "name": "python",
   "nbconvert_exporter": "python",
   "pygments_lexer": "ipython3",
   "version": "3.9.7"
  }
 },
 "nbformat": 4,
 "nbformat_minor": 5
}
