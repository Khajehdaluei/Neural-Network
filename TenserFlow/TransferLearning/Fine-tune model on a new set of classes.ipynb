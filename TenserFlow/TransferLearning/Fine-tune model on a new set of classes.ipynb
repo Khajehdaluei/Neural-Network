{
 "cells": [
  {
   "cell_type": "markdown",
   "id": "2b3ec8b6",
   "metadata": {},
   "source": [
    "<div style=\"direction:rtl;text-align:center\"><img src=\"https://dl.mohammadkh.ir/logo.png\" alt=\"Mohammadkh.ir\" style=\"width: 250px;\"/></div>\n",
    "<h1><div style=\"direction:rtl;text-align:center\">Neural Network</div></h1>"
   ]
  },
  {
   "cell_type": "code",
   "execution_count": 1,
   "id": "97e8edfc",
   "metadata": {},
   "outputs": [],
   "source": [
    "from tensorflow.keras.models import Model\n",
    "from tensorflow.keras.layers import Dense, GlobalAveragePooling2D\n",
    "from tensorflow.keras.applications.mobilenet_v2 import MobileNetV2\n",
    "from tensorflow.keras.preprocessing import image"
   ]
  },
  {
   "cell_type": "code",
   "execution_count": 2,
   "id": "fc984399",
   "metadata": {
    "scrolled": false
   },
   "outputs": [
    {
     "name": "stdout",
     "output_type": "stream",
     "text": [
      "WARNING:tensorflow:`input_shape` is undefined or non-square, or `rows` is not in [96, 128, 160, 192, 224]. Weights for input shape (224, 224) will be loaded as the default.\n"
     ]
    }
   ],
   "source": [
    "base_model = MobileNetV2(weights='imagenet', include_top=False)"
   ]
  },
  {
   "cell_type": "markdown",
   "id": "59fcaf09",
   "metadata": {},
   "source": [
    "### Extract features + new layers "
   ]
  },
  {
   "cell_type": "code",
   "execution_count": 3,
   "id": "200949dc",
   "metadata": {},
   "outputs": [],
   "source": [
    "for layer in base_model.layers:\n",
    "    layer.trainable = False"
   ]
  },
  {
   "cell_type": "code",
   "execution_count": 4,
   "id": "f1e05999",
   "metadata": {},
   "outputs": [],
   "source": [
    "x = base_model.output\n",
    "x = GlobalAveragePooling2D()(x)\n",
    "x = Dense(1024, activation='relu')(x)\n",
    "predictions = Dense(200, activation='softmax')(x)\n",
    "\n",
    "model = Model(inputs=base_model.input, outputs=predictions)"
   ]
  },
  {
   "cell_type": "markdown",
   "id": "960a7f3b",
   "metadata": {},
   "source": [
    "### top lyers trainable True"
   ]
  },
  {
   "cell_type": "code",
   "execution_count": 5,
   "id": "55ebdc3f",
   "metadata": {},
   "outputs": [
    {
     "data": {
      "text/plain": [
       "[(141, 'block_15_project_BN'),\n",
       " (142, 'block_15_add'),\n",
       " (143, 'block_16_expand'),\n",
       " (144, 'block_16_expand_BN'),\n",
       " (145, 'block_16_expand_relu'),\n",
       " (146, 'block_16_depthwise'),\n",
       " (147, 'block_16_depthwise_BN'),\n",
       " (148, 'block_16_depthwise_relu'),\n",
       " (149, 'block_16_project'),\n",
       " (150, 'block_16_project_BN'),\n",
       " (151, 'Conv_1'),\n",
       " (152, 'Conv_1_bn'),\n",
       " (153, 'out_relu')]"
      ]
     },
     "execution_count": 5,
     "metadata": {},
     "output_type": "execute_result"
    }
   ],
   "source": [
    "layers=[]\n",
    "for i, layer in enumerate(base_model.layers):\n",
    "    layers.append((i, layer.name))\n",
    "    \n",
    "layers[-13:]"
   ]
  },
  {
   "cell_type": "code",
   "execution_count": 6,
   "id": "4a82a483",
   "metadata": {},
   "outputs": [],
   "source": [
    "for layer in model.layers[:143]:\n",
    "    layer.trainable = False\n",
    "for layer in model.layers[143:]:\n",
    "    layer.trainable = True"
   ]
  },
  {
   "cell_type": "markdown",
   "id": "e860432d",
   "metadata": {},
   "source": [
    "<div class=\"alert alert-block alert-info\">\n",
    "<div style=\"direction:rtl;text-align:left\"><strong>Neural Network</strong><br>MohammadReza <strong>Khajedaloi</strong><br><br>\n",
    "</div>\n",
    "<div style=\"direction:rtl;text-align:right\">\n",
    "<a href=\"http://mohammadkh.ir/\">WebSite</a> - <a href=\"https://github.com/khajedaloi/\">GitHub</a> - <a href=\"https://www.linkedin.com/in/mohammad-kh/\">Linkedin</a>\n",
    "</div>\n",
    "</div>"
   ]
  }
 ],
 "metadata": {
  "kernelspec": {
   "display_name": "deep",
   "language": "python",
   "name": "deep_"
  },
  "language_info": {
   "codemirror_mode": {
    "name": "ipython",
    "version": 3
   },
   "file_extension": ".py",
   "mimetype": "text/x-python",
   "name": "python",
   "nbconvert_exporter": "python",
   "pygments_lexer": "ipython3",
   "version": "3.9.7"
  }
 },
 "nbformat": 4,
 "nbformat_minor": 5
}
