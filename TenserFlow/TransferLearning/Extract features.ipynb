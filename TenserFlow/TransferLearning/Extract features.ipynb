{
 "cells": [
  {
   "cell_type": "markdown",
   "id": "2b3ec8b6",
   "metadata": {},
   "source": [
    "<div style=\"direction:rtl;text-align:center\"><img src=\"https://mohammadkh.ir/github/logo.png\" alt=\"Mohammadkh.ir\" style=\"width: 250px;\"/></div>\n",
    "<h1><div style=\"direction:rtl;text-align:center\">Neural Network</div></h1>"
   ]
  },
  {
   "cell_type": "code",
   "execution_count": 1,
   "id": "b4de70ed",
   "metadata": {},
   "outputs": [],
   "source": [
    "from tensorflow.keras.models import Model\n",
    "from tensorflow.keras.applications.efficientnet import EfficientNetB4, preprocess_input\n",
    "from tensorflow.keras.preprocessing import image\n",
    "import numpy as np"
   ]
  },
  {
   "cell_type": "code",
   "execution_count": 2,
   "id": "2822ebba",
   "metadata": {},
   "outputs": [],
   "source": [
    "img_path = '../../__data/image/elephant.jpg'\n",
    "img = image.load_img(img_path, target_size=(380, 380))\n",
    "x = image.img_to_array(img)\n",
    "x = np.expand_dims(x, axis=0)\n",
    "x = preprocess_input(x)"
   ]
  },
  {
   "cell_type": "markdown",
   "id": "7d7b620c",
   "metadata": {},
   "source": [
    "## Extract features"
   ]
  },
  {
   "cell_type": "code",
   "execution_count": 3,
   "id": "3e649b2e",
   "metadata": {},
   "outputs": [],
   "source": [
    "model = EfficientNetB4(weights='imagenet', include_top=False)"
   ]
  },
  {
   "cell_type": "code",
   "execution_count": 4,
   "id": "fc984399",
   "metadata": {},
   "outputs": [
    {
     "data": {
      "text/plain": [
       "(1, 11, 11, 1792)"
      ]
     },
     "execution_count": 4,
     "metadata": {},
     "output_type": "execute_result"
    }
   ],
   "source": [
    "features = model.predict(x)\n",
    "features.shape"
   ]
  },
  {
   "cell_type": "markdown",
   "id": "0b12f6c2",
   "metadata": {},
   "source": [
    "## Extract features from an arbitrary intermediate laye"
   ]
  },
  {
   "cell_type": "code",
   "execution_count": 5,
   "id": "8333ed58",
   "metadata": {},
   "outputs": [],
   "source": [
    "base_model = EfficientNetB4(weights='imagenet')\n",
    "\n",
    "model = Model(inputs=base_model.input, outputs=base_model.get_layer('block4a_expand_bn').output)"
   ]
  },
  {
   "cell_type": "code",
   "execution_count": 6,
   "id": "80f7cb2b",
   "metadata": {},
   "outputs": [
    {
     "data": {
      "text/plain": [
       "(1, 48, 48, 336)"
      ]
     },
     "execution_count": 6,
     "metadata": {},
     "output_type": "execute_result"
    }
   ],
   "source": [
    "block4a_expand_bn_features = model.predict(x)\n",
    "block4a_expand_bn_features.shape"
   ]
  },
  {
   "cell_type": "markdown",
   "id": "e860432d",
   "metadata": {},
   "source": [
    "<div class=\"alert alert-block alert-info\">\n",
    "<div style=\"direction:rtl;text-align:left\"><strong>Neural Network</strong><br>MohammadReza <strong>Khajedaloi</strong><br><br>\n",
    "</div>\n",
    "<div style=\"direction:rtl;text-align:right\">\n",
    "<a href=\"http://mohammadkh.ir/\">WebSite</a> - <a href=\"https://github.com/khajedaloi/\">GitHub</a> - <a href=\"https://www.linkedin.com/in/mohammad-kh/\">Linkedin</a>\n",
    "</div>\n",
    "</div>"
   ]
  }
 ],
 "metadata": {
  "kernelspec": {
   "display_name": "deep",
   "language": "python",
   "name": "deep_"
  },
  "language_info": {
   "codemirror_mode": {
    "name": "ipython",
    "version": 3
   },
   "file_extension": ".py",
   "mimetype": "text/x-python",
   "name": "python",
   "nbconvert_exporter": "python",
   "pygments_lexer": "ipython3",
   "version": "3.9.7"
  }
 },
 "nbformat": 4,
 "nbformat_minor": 5
}
