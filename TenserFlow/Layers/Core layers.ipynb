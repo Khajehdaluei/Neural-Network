{
 "cells": [
  {
   "cell_type": "markdown",
   "id": "2b3ec8b6",
   "metadata": {},
   "source": [
    "<div style=\"direction:rtl;text-align:center\"><img src=\"https://mohammadkh.ir/github/logo.png\" alt=\"Mohammadkh.ir\" style=\"width: 250px;\"/></div>\n",
    "<h1><div style=\"direction:rtl;text-align:center\">Neural Network</div></h1>"
   ]
  },
  {
   "cell_type": "code",
   "execution_count": 2,
   "id": "fc984399",
   "metadata": {},
   "outputs": [],
   "source": [
    "import tensorflow as tf\n",
    "from tensorflow.keras.layers import *"
   ]
  },
  {
   "cell_type": "markdown",
   "id": "2de60f39",
   "metadata": {},
   "source": [
    "# InPut"
   ]
  },
  {
   "cell_type": "code",
   "execution_count": 4,
   "id": "ca1b5f11",
   "metadata": {},
   "outputs": [
    {
     "data": {
      "text/plain": [
       "<KerasTensor: shape=(None, 10) dtype=float32 (created by layer 'Input')>"
      ]
     },
     "execution_count": 4,
     "metadata": {},
     "output_type": "execute_result"
    }
   ],
   "source": [
    "Input(\n",
    "    shape=(10,),     # input shape \n",
    "    batch_size=None, # just rnn stateful --> int\n",
    "    name='Input',    # name layer\n",
    "    dtype=None,      # float32, float64, int32...\n",
    ")"
   ]
  },
  {
   "cell_type": "markdown",
   "id": "59181cdb",
   "metadata": {},
   "source": [
    "# Dense"
   ]
  },
  {
   "cell_type": "code",
   "execution_count": 10,
   "id": "6fd89880",
   "metadata": {},
   "outputs": [
    {
     "data": {
      "text/plain": [
       "<keras.layers.core.dense.Dense at 0x1c0b99c5e50>"
      ]
     },
     "execution_count": 10,
     "metadata": {},
     "output_type": "execute_result"
    }
   ],
   "source": [
    "Dense(                                    # output = activation(dot(input, kernel) + bias)\n",
    "    units=5,                              # Number norons\n",
    "    activation=None,\n",
    "    use_bias=True,\n",
    "    kernel_initializer=\"glorot_uniform\",  # Layer weight customize\n",
    "    bias_initializer=\"zeros\",             # Layer weight customize\n",
    "    kernel_regularizer=None,              # Layer weight customize\n",
    "    bias_regularizer=None,                # Layer weight customize\n",
    "    activity_regularizer=None,            # Layer weight customize\n",
    "    kernel_constraint=None,               # Layer weight customize\n",
    "    bias_constraint=None,                 # Layer weight customize\n",
    ")"
   ]
  },
  {
   "cell_type": "markdown",
   "id": "6aea2424",
   "metadata": {},
   "source": [
    "# Activation"
   ]
  },
  {
   "cell_type": "code",
   "execution_count": 11,
   "id": "0d8586e8",
   "metadata": {},
   "outputs": [
    {
     "data": {
      "text/plain": [
       "<keras.layers.core.activation.Activation at 0x1c0b98a7fd0>"
      ]
     },
     "execution_count": 11,
     "metadata": {},
     "output_type": "execute_result"
    }
   ],
   "source": [
    "Activation(activation='relu')             # or  tf.nn.relu"
   ]
  },
  {
   "cell_type": "markdown",
   "id": "7e020eb1",
   "metadata": {},
   "source": [
    "# Embedding"
   ]
  },
  {
   "cell_type": "code",
   "execution_count": 18,
   "id": "43f9fe6b",
   "metadata": {},
   "outputs": [
    {
     "data": {
      "text/plain": [
       "<keras.layers.embeddings.Embedding at 0x1c0b9bdce50>"
      ]
     },
     "execution_count": 18,
     "metadata": {},
     "output_type": "execute_result"
    }
   ],
   "source": [
    "Embedding(\n",
    "    input_dim=1000,                        # num unic word \n",
    "    output_dim=20,                         # target shape\n",
    "    embeddings_initializer=\"uniform\",      # Layer weight customize\n",
    "    embeddings_regularizer=None,           # Layer weight customize\n",
    "    activity_regularizer=None,             # Layer weight customize\n",
    "    embeddings_constraint=None,            # Layer weight customize\n",
    "    mask_zero=False,                       # if use padding --> rnn stateful --> mask_zero=True\n",
    "    input_length=100                       # input shape --> (batch_size, input_length(len jomle)) ---> bach sizefor rnn stateful \n",
    ")"
   ]
  },
  {
   "cell_type": "markdown",
   "id": "3b6e979e",
   "metadata": {},
   "source": [
    "# Masking"
   ]
  },
  {
   "cell_type": "code",
   "execution_count": 19,
   "id": "f61f2186",
   "metadata": {},
   "outputs": [
    {
     "data": {
      "text/plain": [
       "<keras.layers.core.masking.Masking at 0x1c0b9af2310>"
      ]
     },
     "execution_count": 19,
     "metadata": {},
     "output_type": "execute_result"
    }
   ],
   "source": [
    "tf.keras.layers.Masking(mask_value=0.0)    # mask val no process --> ex : embedding or rnn model --> use befor model"
   ]
  },
  {
   "cell_type": "markdown",
   "id": "451b48b8",
   "metadata": {},
   "source": [
    "# Lambda"
   ]
  },
  {
   "cell_type": "code",
   "execution_count": 37,
   "id": "6529c469",
   "metadata": {},
   "outputs": [
    {
     "name": "stdout",
     "output_type": "stream",
     "text": [
      "WARNING:tensorflow:\n",
      "The following Variables were used a Lambda layer's call (lambda_15), but\n",
      "are not present in its tracked objects:\n",
      "  <tf.Variable 'Variable:0' shape=() dtype=float32, numpy=5.0>\n",
      "It is possible that this is intended behavior, but it is more likely\n",
      "an omission. This is a strong indication that this layer should be\n",
      "formulated as a subclassed Layer rather than a Lambda layer.\n",
      "tf.Tensor([[ 5. 15.]], shape=(1, 2), dtype=float32)\n"
     ]
    }
   ],
   "source": [
    "scale = tf.Variable(5.)\n",
    "_lambda = Lambda(lambda x: x * scale)\n",
    "_lambda(tf.convert_to_tensor([[1., 3.]]))"
   ]
  },
  {
   "cell_type": "markdown",
   "id": "e860432d",
   "metadata": {},
   "source": [
    "<div class=\"alert alert-block alert-info\">\n",
    "<div style=\"direction:rtl;text-align:left\"><strong>Neural Network</strong><br>MohammadReza <strong>Khajedaloi</strong><br><br>\n",
    "</div>\n",
    "<div style=\"direction:rtl;text-align:right\">\n",
    "<a href=\"http://mohammadkh.ir/\">WebSite</a> - <a href=\"https://github.com/khajedaloi/\">GitHub</a> - <a href=\"https://www.linkedin.com/in/mohammad-kh/\">Linkedin</a>\n",
    "</div>\n",
    "</div>"
   ]
  }
 ],
 "metadata": {
  "kernelspec": {
   "display_name": "deep",
   "language": "python",
   "name": "deep_"
  },
  "language_info": {
   "codemirror_mode": {
    "name": "ipython",
    "version": 3
   },
   "file_extension": ".py",
   "mimetype": "text/x-python",
   "name": "python",
   "nbconvert_exporter": "python",
   "pygments_lexer": "ipython3",
   "version": "3.9.7"
  }
 },
 "nbformat": 4,
 "nbformat_minor": 5
}
