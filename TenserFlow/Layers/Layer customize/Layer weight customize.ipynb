{
 "cells": [
  {
   "cell_type": "markdown",
   "id": "2b3ec8b6",
   "metadata": {},
   "source": [
    "<div style=\"direction:rtl;text-align:center\"><img src=\"https://dl.mohammadkh.ir/logo.png\" alt=\"Mohammadkh.ir\" style=\"width: 250px;\"/></div>\n",
    "<h1><div style=\"direction:rtl;text-align:center\">Neural Network</div></h1>"
   ]
  },
  {
   "cell_type": "code",
   "execution_count": 3,
   "id": "2c7a73ee",
   "metadata": {},
   "outputs": [],
   "source": [
    "import tensorflow as tf"
   ]
  },
  {
   "cell_type": "markdown",
   "id": "68b92bbb",
   "metadata": {},
   "source": [
    "# Layer weight initializers (Start Weighting)"
   ]
  },
  {
   "cell_type": "code",
   "execution_count": null,
   "id": "f6c91b28",
   "metadata": {},
   "outputs": [],
   "source": [
    "'''\n",
    "Initializers define the way to set the initial random weights of Keras layers.\n",
    "\n",
    "The keyword arguments used for passing initializers to layers depends on the layer. Usually,\n",
    "it is simply kernel_initializer and bias_initializer\n",
    "'''\n",
    "\n",
    "layer = layers.Dense(\n",
    "    units=64,\n",
    "    kernel_initializer=tensorflow.keras.initializers.RandomNormal(stddev=0.01),\n",
    "    bias_initializer=tensorflow.keras.initializers.Zeros()\n",
    ")\n",
    "\n",
    "# ex:\n",
    "#     RandomNormal\n",
    "#     RandomUniform\n",
    "#     TruncatedNormal\n",
    "#     Zeros\n",
    "#     Ones\n",
    "#     GlorotNormal\n",
    "#     GlorotUniform\n",
    "#     HeNormal\n",
    "#     HeUniform\n",
    "#     Identity\n",
    "#     Orthogonal\n",
    "#     Constant\n",
    "#     VarianceScaling"
   ]
  },
  {
   "cell_type": "markdown",
   "id": "758f3920",
   "metadata": {},
   "source": [
    "# Layer weight regularizers (weight Learning rate)"
   ]
  },
  {
   "cell_type": "code",
   "execution_count": null,
   "id": "aeaeff57",
   "metadata": {},
   "outputs": [],
   "source": [
    "'''\n",
    "The exact API will depend on the layer, but the layers Dense, Conv1D, Conv2D and Conv3D have a unified API.\n",
    "\n",
    "kernel_regularizer: Regularizer to apply a penalty on the layer's kernel\n",
    "bias_regularizer: Regularizer to apply a penalty on the layer's bias\n",
    "activity_regularizer: Regularizer to apply a penalty on the layer's output\n",
    "\n",
    "The L1 regularization penalty is computed as: loss = l1 * reduce_sum(abs(x))\n",
    "The L2 regularization penalty is computed as: loss = l2 * reduce_sum(square(x))\n",
    "'''\n",
    "\n",
    "layer = tf.keras.layers.Dense(\n",
    "    \n",
    "    units=64,\n",
    "    \n",
    "    kernel_regularizer= tf.keras.regularizers.L1L2(l1=1e-5, l2=1e-4),\n",
    "    bias_regularizer= tf.keras.regularizers.L2(1e-4),\n",
    "    activity_regularizer= tf.keras.regularizers.L1(1e-5)\n",
    "    \n",
    ")"
   ]
  },
  {
   "cell_type": "markdown",
   "id": "5f8ba390",
   "metadata": {},
   "source": [
    "# Layer weight constraints"
   ]
  },
  {
   "cell_type": "code",
   "execution_count": null,
   "id": "ca53ae75",
   "metadata": {},
   "outputs": [],
   "source": [
    "'''\n",
    "The exact API will depend on the layer, but the layers Dense, Conv1D, Conv2D and Conv3D have a unified API.\n",
    "\n",
    "kernel_constraint for the main weights matrix\n",
    "bias_constraint for the bias.\n",
    "'''\n",
    "\n",
    "model.add(tf.keras.layers.Dense(64, kernel_constraint=tf.keras.constraints.max_norm(2.)))\n",
    "\n",
    "# ex: \n",
    "tf.keras.constraints.MaxNorm(max_value=2, axis=0)\n",
    "\n",
    "tf.keras.constraints.MinMaxNorm(min_value=0.0, max_value=1.0, rate=1.0, axis=0)\n",
    "\n",
    "tf.keras.constraints.NonNeg()"
   ]
  },
  {
   "cell_type": "markdown",
   "id": "e860432d",
   "metadata": {},
   "source": [
    "<div class=\"alert alert-block alert-info\">\n",
    "<div style=\"direction:rtl;text-align:left\"><strong>Neural Network</strong><br>MohammadReza <strong>Khajedaloi</strong><br><br>\n",
    "</div>\n",
    "<div style=\"direction:rtl;text-align:right\">\n",
    "<a href=\"http://mohammadkh.ir/\">WebSite</a> - <a href=\"https://github.com/khajedaloi/\">GitHub</a> - <a href=\"https://www.linkedin.com/in/mohammad-kh/\">Linkedin</a>\n",
    "</div>\n",
    "</div>"
   ]
  }
 ],
 "metadata": {
  "kernelspec": {
   "display_name": "deep",
   "language": "python",
   "name": "deep_"
  },
  "language_info": {
   "codemirror_mode": {
    "name": "ipython",
    "version": 3
   },
   "file_extension": ".py",
   "mimetype": "text/x-python",
   "name": "python",
   "nbconvert_exporter": "python",
   "pygments_lexer": "ipython3",
   "version": "3.9.7"
  }
 },
 "nbformat": 4,
 "nbformat_minor": 5
}
