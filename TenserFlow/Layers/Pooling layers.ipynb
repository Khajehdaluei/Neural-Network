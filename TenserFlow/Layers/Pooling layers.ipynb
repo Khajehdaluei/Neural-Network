{
 "cells": [
  {
   "cell_type": "markdown",
   "id": "2b3ec8b6",
   "metadata": {},
   "source": [
    "<div style=\"direction:rtl;text-align:center\"><img src=\"https://mohammadkh.ir/github/logo.png\" alt=\"Mohammadkh.ir\" style=\"width: 250px;\"/></div>\n",
    "<h1><div style=\"direction:rtl;text-align:center\">Neural Network</div></h1>"
   ]
  },
  {
   "cell_type": "code",
   "execution_count": 2,
   "id": "5e90e005",
   "metadata": {},
   "outputs": [],
   "source": [
    "import tensorflow as tf\n",
    "from tensorflow.keras.layers import *"
   ]
  },
  {
   "cell_type": "markdown",
   "id": "9b231d79",
   "metadata": {},
   "source": [
    "## data_format\n",
    "### 1D\n",
    "##### If data_format='channels_last': 3D tensor with shape (batch_size, steps, features).\n",
    "##### If data_format='channels_first': 3D tensor with shape (batch_size, features, steps)\n",
    "### 2D\n",
    "##### If data_format='channels_last': 4D tensor with shape (batch_size, rows, cols, channels).\n",
    "##### If data_format='channels_first': 4D tensor with shape (batch_size, channels, rows, cols).\n",
    "### 3D\n",
    "##### If data_format='channels_last': 5D tensor with shape: (batch_size, spatial_dim1, spatial_dim2, spatial_dim3, channels)\n",
    "##### If data_format='channels_first': 5D tensor with shape: (batch_size, channels, spatial_dim1, spatial_dim2, spatial_dim3)"
   ]
  },
  {
   "cell_type": "markdown",
   "id": "8f300844",
   "metadata": {},
   "source": [
    "## MaxPooling\n",
    "### valid --> output_shape = (input_shape - pool_size + 1) / strides)"
   ]
  },
  {
   "cell_type": "code",
   "execution_count": null,
   "id": "8c49cd71",
   "metadata": {},
   "outputs": [],
   "source": [
    "MaxPooling1D(\n",
    "    pool_size=4,                          # number kernel\n",
    "    strides=2,                            # skip kernel\n",
    "    padding=\"valid\",                      # valid , same\n",
    "    data_format=\"channels_last\",          \n",
    ")\n",
    "\n",
    "MaxPooling2D(\n",
    "    pool_size=(2, 2),\n",
    "    strides=(2, 2),\n",
    "    padding=\"valid\",\n",
    "    data_format=None,\n",
    ")\n",
    "\n",
    "MaxPooling3D(\n",
    "    pool_size=(2, 2, 2),\n",
    "    strides=(2, 2, 2),\n",
    "    padding=\"valid\",\n",
    "    data_format=None,\n",
    ")"
   ]
  },
  {
   "cell_type": "markdown",
   "id": "199060ec",
   "metadata": {},
   "source": [
    "## GlobalMaxPooling --> kernel = all feature ND  N(1, 2, 3)"
   ]
  },
  {
   "cell_type": "code",
   "execution_count": null,
   "id": "33dc0e68",
   "metadata": {},
   "outputs": [],
   "source": [
    "# keepdims=False --> chert :)\n",
    "\n",
    "GlobalMaxPooling1D(\n",
    "    data_format=\"channels_last\",\n",
    ")\n",
    "\n",
    "GlobalMaxPooling2D(\n",
    "    data_format=None,\n",
    ")\n",
    "\n",
    "GlobalMaxPooling3D(\n",
    "    data_format=None,\n",
    ")"
   ]
  },
  {
   "cell_type": "markdown",
   "id": "32e7c6e7",
   "metadata": {},
   "source": [
    "## AveragePooling  \n",
    "### valid --> output_shape = (input_shape - pool_size + 1) / strides)"
   ]
  },
  {
   "cell_type": "code",
   "execution_count": null,
   "id": "b37e799c",
   "metadata": {},
   "outputs": [],
   "source": [
    "AveragePooling1D(\n",
    "    pool_size=2,                          # number kernel\n",
    "    strides=2,                            # skip kernel\n",
    "    padding=\"valid\",                      # valid , same\n",
    "    data_format=\"channels_last\",\n",
    ")\n",
    "\n",
    "AveragePooling2D(\n",
    "    pool_size=(2, 2),\n",
    "    strides=(2, 2),\n",
    "    padding=\"valid\",\n",
    "    data_format=None,\n",
    ")\n",
    "\n",
    "AveragePooling3D(\n",
    "    pool_size=(2, 2, 2),\n",
    "    strides=(2, 2, 2),\n",
    "    padding=\"valid\",\n",
    "    data_format=None,\n",
    ")"
   ]
  },
  {
   "cell_type": "markdown",
   "id": "ec7cb6d3",
   "metadata": {},
   "source": [
    "## GlobalAveragePooling --> kernel = all feature ND  N(1, 2, 3)"
   ]
  },
  {
   "cell_type": "code",
   "execution_count": null,
   "id": "649355ec",
   "metadata": {},
   "outputs": [],
   "source": [
    "# keepdims=False --> chert :)\n",
    "\n",
    "GlobalAveragePooling1D(\n",
    "    data_format\"channels_last\"\n",
    ")\n",
    "\n",
    "GlobalAveragePooling2D(\n",
    "    data_format=None\n",
    ")\n",
    "\n",
    "GlobalAveragePooling3D(\n",
    "    data_format=None\n",
    ")"
   ]
  },
  {
   "cell_type": "markdown",
   "id": "e860432d",
   "metadata": {},
   "source": [
    "<div class=\"alert alert-block alert-info\">\n",
    "<div style=\"direction:rtl;text-align:left\"><strong>Neural Network</strong><br>MohammadReza <strong>Khajedaloi</strong><br><br>\n",
    "</div>\n",
    "<div style=\"direction:rtl;text-align:right\">\n",
    "<a href=\"http://mohammadkh.ir/\">WebSite</a> - <a href=\"https://github.com/khajedaloi/\">GitHub</a> - <a href=\"https://www.linkedin.com/in/mohammad-kh/\">Linkedin</a>\n",
    "</div>\n",
    "</div>"
   ]
  }
 ],
 "metadata": {
  "kernelspec": {
   "display_name": "deep",
   "language": "python",
   "name": "deep_"
  },
  "language_info": {
   "codemirror_mode": {
    "name": "ipython",
    "version": 3
   },
   "file_extension": ".py",
   "mimetype": "text/x-python",
   "name": "python",
   "nbconvert_exporter": "python",
   "pygments_lexer": "ipython3",
   "version": "3.9.7"
  }
 },
 "nbformat": 4,
 "nbformat_minor": 5
}
