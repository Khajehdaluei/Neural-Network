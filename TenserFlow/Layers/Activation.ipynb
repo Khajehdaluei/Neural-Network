{
 "cells": [
  {
   "cell_type": "markdown",
   "id": "2b3ec8b6",
   "metadata": {},
   "source": [
    "<div style=\"direction:rtl;text-align:center\"><img src=\"https://dl.mohammadkh.ir/logo.png\" alt=\"Mohammadkh.ir\" style=\"width: 250px;\"/></div>\n",
    "<h1><div style=\"direction:rtl;text-align:center\">Neural Network</div></h1>"
   ]
  },
  {
   "cell_type": "code",
   "execution_count": 8,
   "id": "2593a45f",
   "metadata": {},
   "outputs": [],
   "source": [
    "import tensorflow as tf\n",
    "from tensorflow.keras import activations, layers"
   ]
  },
  {
   "cell_type": "markdown",
   "id": "877d59de",
   "metadata": {},
   "source": [
    "<div style=\"direction:rtl;text-align:center\"><img src=\"../../__data\\activation/0.png\" alt=\"Mohammadkh.ir\" style=\"width: 800px;\"/></div>\n",
    "\n",
    "# Activation"
   ]
  },
  {
   "cell_type": "markdown",
   "id": "1c4a5204",
   "metadata": {},
   "source": [
    "### relu\n",
    "###### alpha: A float that governs the slope for values lower than the threshold.\n",
    "###### max_value: A float that sets the saturation threshold (the largest value the function will return).\n",
    "###### threshold: A float giving the threshold value of the activation function below which values will be damped or set to zero."
   ]
  },
  {
   "cell_type": "code",
   "execution_count": 17,
   "id": "f6cdfcb8",
   "metadata": {},
   "outputs": [
    {
     "data": {
      "text/plain": [
       "<tf.Tensor: shape=(1, 8), dtype=float32, numpy=array([[  0.,   0.,   1.,   2.,   4.,   5.,  10., 100.]], dtype=float32)>"
      ]
     },
     "execution_count": 17,
     "metadata": {},
     "output_type": "execute_result"
    }
   ],
   "source": [
    "activations.relu(x=tf.convert_to_tensor([[-50, -20, 1., 2., 4, 5, 10, 100]]), alpha=0.0, max_value=None, threshold=0.0)"
   ]
  },
  {
   "cell_type": "code",
   "execution_count": 28,
   "id": "9fcb631f",
   "metadata": {},
   "outputs": [
    {
     "data": {
      "text/plain": [
       "<tf.Tensor: shape=(1, 8), dtype=float32, numpy=array([[  0.,   0.,   1.,   2.,   4.,   5.,  10., 100.]], dtype=float32)>"
      ]
     },
     "execution_count": 28,
     "metadata": {},
     "output_type": "execute_result"
    }
   ],
   "source": [
    "layers.ReLU( max_value=None, threshold=0.0)(tf.convert_to_tensor([[-50, -20, 1., 2., 4, 5, 10, 100]]))"
   ]
  },
  {
   "cell_type": "markdown",
   "id": "d4bed2b8",
   "metadata": {},
   "source": [
    "### softmax"
   ]
  },
  {
   "cell_type": "code",
   "execution_count": 20,
   "id": "a7d725c6",
   "metadata": {},
   "outputs": [
    {
     "data": {
      "text/plain": [
       "<tf.Tensor: shape=(1, 8), dtype=float32, numpy=array([[0., 0., 0., 0., 0., 0., 0., 1.]], dtype=float32)>"
      ]
     },
     "execution_count": 20,
     "metadata": {},
     "output_type": "execute_result"
    }
   ],
   "source": [
    "activations.softmax(x=tf.convert_to_tensor([[-50, -20, 1., 2., 4, 5, 10, 100]]), axis=-1)"
   ]
  },
  {
   "cell_type": "code",
   "execution_count": 29,
   "id": "bb58c229",
   "metadata": {},
   "outputs": [
    {
     "data": {
      "text/plain": [
       "<tf.Tensor: shape=(1, 8), dtype=float32, numpy=array([[0., 0., 0., 0., 0., 0., 0., 1.]], dtype=float32)>"
      ]
     },
     "execution_count": 29,
     "metadata": {},
     "output_type": "execute_result"
    }
   ],
   "source": [
    "layers.Softmax()(tf.convert_to_tensor([[-50, -20, 1., 2., 4, 5, 10, 100]]))"
   ]
  },
  {
   "cell_type": "markdown",
   "id": "934ef249",
   "metadata": {},
   "source": [
    "### sigmoid"
   ]
  },
  {
   "cell_type": "code",
   "execution_count": 19,
   "id": "e3a0afa9",
   "metadata": {},
   "outputs": [
    {
     "data": {
      "text/plain": [
       "<tf.Tensor: shape=(1, 8), dtype=float32, numpy=\n",
       "array([[1.9287499e-22, 2.0611535e-09, 7.3105854e-01, 8.8079703e-01,\n",
       "        9.8201376e-01, 9.9330717e-01, 9.9995458e-01, 1.0000000e+00]],\n",
       "      dtype=float32)>"
      ]
     },
     "execution_count": 19,
     "metadata": {},
     "output_type": "execute_result"
    }
   ],
   "source": [
    "activations.sigmoid(x=tf.convert_to_tensor([[-50, -20, 1., 2., 4, 5, 10, 100]]))"
   ]
  },
  {
   "cell_type": "markdown",
   "id": "5b8ab04d",
   "metadata": {},
   "source": [
    "### softsign"
   ]
  },
  {
   "cell_type": "code",
   "execution_count": 21,
   "id": "79eea8a6",
   "metadata": {},
   "outputs": [
    {
     "data": {
      "text/plain": [
       "<tf.Tensor: shape=(1, 8), dtype=float32, numpy=\n",
       "array([[-0.98039216, -0.95238096,  0.5       ,  0.6666667 ,  0.8       ,\n",
       "         0.8333333 ,  0.90909094,  0.990099  ]], dtype=float32)>"
      ]
     },
     "execution_count": 21,
     "metadata": {},
     "output_type": "execute_result"
    }
   ],
   "source": [
    "activations.softsign(x=tf.convert_to_tensor([[-50, -20, 1., 2., 4, 5, 10, 100]]))"
   ]
  },
  {
   "cell_type": "markdown",
   "id": "77b4c075",
   "metadata": {},
   "source": [
    "### tanh"
   ]
  },
  {
   "cell_type": "code",
   "execution_count": 23,
   "id": "3ebd95ba",
   "metadata": {},
   "outputs": [
    {
     "data": {
      "text/plain": [
       "<tf.Tensor: shape=(1, 8), dtype=float32, numpy=\n",
       "array([[-1.        , -1.        ,  0.7615942 ,  0.9640276 ,  0.9993292 ,\n",
       "         0.99990916,  1.        ,  1.        ]], dtype=float32)>"
      ]
     },
     "execution_count": 23,
     "metadata": {},
     "output_type": "execute_result"
    }
   ],
   "source": [
    "activations.tanh(x=tf.convert_to_tensor([[-50, -20, 1., 2., 4, 5, 10, 100]]))"
   ]
  },
  {
   "cell_type": "markdown",
   "id": "599900c4",
   "metadata": {},
   "source": [
    "### selu"
   ]
  },
  {
   "cell_type": "code",
   "execution_count": 24,
   "id": "52f24038",
   "metadata": {
    "scrolled": true
   },
   "outputs": [
    {
     "data": {
      "text/plain": [
       "<tf.Tensor: shape=(1, 8), dtype=float32, numpy=\n",
       "array([[ -1.7580993,  -1.7580993,   1.050701 ,   2.101402 ,   4.202804 ,\n",
       "          5.253505 ,  10.50701  , 105.0701   ]], dtype=float32)>"
      ]
     },
     "execution_count": 24,
     "metadata": {},
     "output_type": "execute_result"
    }
   ],
   "source": [
    "activations.selu(x=tf.convert_to_tensor([[-50, -20, 1., 2., 4, 5, 10, 100]]))"
   ]
  },
  {
   "cell_type": "code",
   "execution_count": null,
   "id": "a7471298",
   "metadata": {},
   "outputs": [],
   "source": [
    "# LeakyReLU layer\n",
    "# PReLU layer\n",
    "# ELU layer"
   ]
  },
  {
   "cell_type": "markdown",
   "id": "e2f60ccf",
   "metadata": {},
   "source": [
    "### elu"
   ]
  },
  {
   "cell_type": "code",
   "execution_count": 25,
   "id": "e04a1fc2",
   "metadata": {},
   "outputs": [
    {
     "data": {
      "text/plain": [
       "<tf.Tensor: shape=(1, 8), dtype=float32, numpy=array([[ -1.,  -1.,   1.,   2.,   4.,   5.,  10., 100.]], dtype=float32)>"
      ]
     },
     "execution_count": 25,
     "metadata": {},
     "output_type": "execute_result"
    }
   ],
   "source": [
    "activations.elu(x=tf.convert_to_tensor([[-50, -20, 1., 2., 4, 5, 10, 100]]), alpha=1.0)"
   ]
  },
  {
   "cell_type": "code",
   "execution_count": 31,
   "id": "da54fb5c",
   "metadata": {},
   "outputs": [
    {
     "data": {
      "text/plain": [
       "<tf.Tensor: shape=(1, 8), dtype=float32, numpy=array([[ -1.,  -1.,   1.,   2.,   4.,   5.,  10., 100.]], dtype=float32)>"
      ]
     },
     "execution_count": 31,
     "metadata": {},
     "output_type": "execute_result"
    }
   ],
   "source": [
    "layers.ELU()(tf.convert_to_tensor([[-50, -20, 1., 2., 4, 5, 10, 100]]))"
   ]
  },
  {
   "cell_type": "markdown",
   "id": "cd2c63f0",
   "metadata": {},
   "source": [
    "### LeakyReLU"
   ]
  },
  {
   "cell_type": "code",
   "execution_count": 32,
   "id": "439daf6c",
   "metadata": {},
   "outputs": [
    {
     "data": {
      "text/plain": [
       "<tf.Tensor: shape=(1, 8), dtype=float32, numpy=array([[-25., -10.,   1.,   2.,   4.,   5.,  10., 100.]], dtype=float32)>"
      ]
     },
     "execution_count": 32,
     "metadata": {},
     "output_type": "execute_result"
    }
   ],
   "source": [
    "layers.LeakyReLU(alpha=0.5)(tf.convert_to_tensor([[-50, -20, 1., 2., 4, 5, 10, 100]]))"
   ]
  },
  {
   "cell_type": "markdown",
   "id": "6c652a07",
   "metadata": {},
   "source": [
    "### ThresholdedReLU"
   ]
  },
  {
   "cell_type": "code",
   "execution_count": 34,
   "id": "64cc6420",
   "metadata": {},
   "outputs": [
    {
     "data": {
      "text/plain": [
       "<tf.Tensor: shape=(1, 8), dtype=float32, numpy=array([[ -0.,  -0.,   0.,   0.,   0.,   0.,   0., 100.]], dtype=float32)>"
      ]
     },
     "execution_count": 34,
     "metadata": {},
     "output_type": "execute_result"
    }
   ],
   "source": [
    "layers.ThresholdedReLU(theta=11)(tf.convert_to_tensor([[-50, -20, 1., 2., 4, 5, 10, 100]]))"
   ]
  },
  {
   "cell_type": "markdown",
   "id": "1b0e8fd6",
   "metadata": {},
   "source": [
    "### PReLU"
   ]
  },
  {
   "cell_type": "code",
   "execution_count": 37,
   "id": "331ed2ce",
   "metadata": {},
   "outputs": [
    {
     "data": {
      "text/plain": [
       "<tf.Tensor: shape=(1, 8), dtype=float32, numpy=array([[ -0.,  -0.,   0.,   2.,   4.,   5.,  10., 100.]], dtype=float32)>"
      ]
     },
     "execution_count": 37,
     "metadata": {},
     "output_type": "execute_result"
    }
   ],
   "source": [
    "layers.ThresholdedReLU()(tf.convert_to_tensor([[-50, -20, 1., 2., 4, 5, 10, 100]]))"
   ]
  },
  {
   "cell_type": "markdown",
   "id": "e860432d",
   "metadata": {},
   "source": [
    "<div class=\"alert alert-block alert-info\">\n",
    "<div style=\"direction:rtl;text-align:left\"><strong>Neural Network</strong><br>MohammadReza <strong>Khajedaloi</strong><br><br>\n",
    "</div>\n",
    "<div style=\"direction:rtl;text-align:right\">\n",
    "<a href=\"http://mohammadkh.ir/\">WebSite</a> - <a href=\"https://github.com/khajedaloi/\">GitHub</a> - <a href=\"https://www.linkedin.com/in/mohammad-kh/\">Linkedin</a>\n",
    "</div>\n",
    "</div>"
   ]
  }
 ],
 "metadata": {
  "kernelspec": {
   "display_name": "deep",
   "language": "python",
   "name": "deep_"
  },
  "language_info": {
   "codemirror_mode": {
    "name": "ipython",
    "version": 3
   },
   "file_extension": ".py",
   "mimetype": "text/x-python",
   "name": "python",
   "nbconvert_exporter": "python",
   "pygments_lexer": "ipython3",
   "version": "3.9.7"
  }
 },
 "nbformat": 4,
 "nbformat_minor": 5
}
